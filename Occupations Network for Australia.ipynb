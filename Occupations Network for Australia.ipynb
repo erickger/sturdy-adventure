{
 "cells": [
  {
   "cell_type": "code",
   "execution_count": 215,
   "metadata": {},
   "outputs": [],
   "source": [
    "import sys\n",
    "sys.path.append(\"./modules\")"
   ]
  },
  {
   "cell_type": "code",
   "execution_count": 216,
   "metadata": {},
   "outputs": [],
   "source": [
    "import d3plusScotty as d3plus\n",
    "import pandas as pd\n",
    "import importlib\n",
    "from tkinter import *\n",
    "import numpy as np\n",
    "import networkx as nx\n",
    "import requests\n",
    "import itertools"
   ]
  },
  {
   "cell_type": "code",
   "execution_count": 23,
   "metadata": {},
   "outputs": [
    {
     "data": {
      "text/plain": [
       "<module 'd3plusODA' from './modules\\\\d3plusODA.py'>"
      ]
     },
     "execution_count": 23,
     "metadata": {},
     "output_type": "execute_result"
    }
   ],
   "source": [
    "importlib.reload(d3plus)"
   ]
  },
  {
   "cell_type": "code",
   "execution_count": 24,
   "metadata": {},
   "outputs": [],
   "source": [
    "def hexcolor(value, range, reverse=False):\n",
    "    min = 0\n",
    "    max = abs(range[1]-range[0])\n",
    "    value -= range[0]\n",
    "\n",
    "    if value <= int((min+max)/2):\n",
    "        r = 255\n",
    "        g = int(255*value/int((min+max)/2))\n",
    "        b = 0\n",
    "    else:\n",
    "        r = int(255*(max-value)/int((min+max)/2))\n",
    "        g = 255\n",
    "        b = 0\n",
    "\n",
    "    if reverse:\n",
    "        r, g = g, r\n",
    "\n",
    "    return \"#%s%s%s\" % tuple([hex(c)[2:].rjust(2, \"0\") for c in (r, g, b)])"
   ]
  },
  {
   "cell_type": "markdown",
   "metadata": {},
   "source": [
    "#### Using Natural language Processing for Similarity Scores"
   ]
  },
  {
   "cell_type": "code",
   "execution_count": 26,
   "metadata": {},
   "outputs": [],
   "source": [
    "import spacy\n",
    "import en_core_web_lg\n",
    "nlp = en_core_web_lg.load()"
   ]
  },
  {
   "cell_type": "code",
   "execution_count": 27,
   "metadata": {},
   "outputs": [],
   "source": [
    "STOP_WORDS = spacy.lang.en.stop_words.STOP_WORDS"
   ]
  },
  {
   "cell_type": "code",
   "execution_count": 28,
   "metadata": {},
   "outputs": [],
   "source": [
    "df_skills_class = pd.read_excel(\"./datasets/Australian Skills Classification 12-03-2021.xlsx\", \n",
    "                                sheet_name='Occupation Descriptions')"
   ]
  },
  {
   "cell_type": "code",
   "execution_count": 29,
   "metadata": {},
   "outputs": [
    {
     "data": {
      "text/html": [
       "<div>\n",
       "<style scoped>\n",
       "    .dataframe tbody tr th:only-of-type {\n",
       "        vertical-align: middle;\n",
       "    }\n",
       "\n",
       "    .dataframe tbody tr th {\n",
       "        vertical-align: top;\n",
       "    }\n",
       "\n",
       "    .dataframe thead th {\n",
       "        text-align: right;\n",
       "    }\n",
       "</style>\n",
       "<table border=\"1\" class=\"dataframe\">\n",
       "  <thead>\n",
       "    <tr style=\"text-align: right;\">\n",
       "      <th></th>\n",
       "      <th>ANZSCO_Code</th>\n",
       "      <th>ANZSCO_Title</th>\n",
       "      <th>ANZSCO_Desc</th>\n",
       "    </tr>\n",
       "  </thead>\n",
       "  <tbody>\n",
       "    <tr>\n",
       "      <th>0</th>\n",
       "      <td>1111</td>\n",
       "      <td>Chief Executives and Managing Directors</td>\n",
       "      <td>Chief Executives and Managing Directors determ...</td>\n",
       "    </tr>\n",
       "    <tr>\n",
       "      <th>1</th>\n",
       "      <td>1112</td>\n",
       "      <td>General Managers</td>\n",
       "      <td>General Managers plan, organise, direct, contr...</td>\n",
       "    </tr>\n",
       "    <tr>\n",
       "      <th>2</th>\n",
       "      <td>1213</td>\n",
       "      <td>Livestock Farmers</td>\n",
       "      <td>Livestock Farmers plan, organise, control, coo...</td>\n",
       "    </tr>\n",
       "    <tr>\n",
       "      <th>3</th>\n",
       "      <td>1214</td>\n",
       "      <td>Mixed Crop and Livestock Farmers</td>\n",
       "      <td>Mixed Crop and Livestock Farmers plan, organis...</td>\n",
       "    </tr>\n",
       "    <tr>\n",
       "      <th>4</th>\n",
       "      <td>1321</td>\n",
       "      <td>Corporate Services Managers</td>\n",
       "      <td>Corporate Services Managers organise and direc...</td>\n",
       "    </tr>\n",
       "  </tbody>\n",
       "</table>\n",
       "</div>"
      ],
      "text/plain": [
       "   ANZSCO_Code                             ANZSCO_Title  \\\n",
       "0         1111  Chief Executives and Managing Directors   \n",
       "1         1112                         General Managers   \n",
       "2         1213                        Livestock Farmers   \n",
       "3         1214         Mixed Crop and Livestock Farmers   \n",
       "4         1321              Corporate Services Managers   \n",
       "\n",
       "                                         ANZSCO_Desc  \n",
       "0  Chief Executives and Managing Directors determ...  \n",
       "1  General Managers plan, organise, direct, contr...  \n",
       "2  Livestock Farmers plan, organise, control, coo...  \n",
       "3  Mixed Crop and Livestock Farmers plan, organis...  \n",
       "4  Corporate Services Managers organise and direc...  "
      ]
     },
     "execution_count": 29,
     "metadata": {},
     "output_type": "execute_result"
    }
   ],
   "source": [
    "df_skills_class.head()"
   ]
  },
  {
   "cell_type": "code",
   "execution_count": 31,
   "metadata": {},
   "outputs": [],
   "source": [
    "list_combinations = np.array(list(itertools.combinations(df_skills_class.ANZSCO_Code, 2)))"
   ]
  },
  {
   "cell_type": "code",
   "execution_count": 32,
   "metadata": {},
   "outputs": [
    {
     "data": {
      "text/plain": [
       "179700"
      ]
     },
     "execution_count": 32,
     "metadata": {},
     "output_type": "execute_result"
    }
   ],
   "source": [
    "len(list_combinations)"
   ]
  },
  {
   "cell_type": "code",
   "execution_count": 33,
   "metadata": {},
   "outputs": [
    {
     "data": {
      "text/plain": [
       "array([[  1111,   1112],\n",
       "       [  1111,   1213],\n",
       "       [  1111,   1214],\n",
       "       ...,\n",
       "       [254421, 254423],\n",
       "       [254421, 254425],\n",
       "       [254423, 254425]])"
      ]
     },
     "execution_count": 33,
     "metadata": {},
     "output_type": "execute_result"
    }
   ],
   "source": [
    "list_combinations"
   ]
  },
  {
   "cell_type": "code",
   "execution_count": 34,
   "metadata": {},
   "outputs": [],
   "source": [
    "# Natural language processing using word embedings - Neural Networks\n",
    "dict_desc_nlp = {k:nlp(d) for k,d in list(zip(list(set(df_skills_class.ANZSCO_Code)), list(set(df_skills_class.ANZSCO_Desc))))}"
   ]
  },
  {
   "cell_type": "code",
   "execution_count": 38,
   "metadata": {},
   "outputs": [],
   "source": [
    "list_of_similarities = []\n",
    "for combination in list_combinations:\n",
    "    list_of_similarities.append(dict_desc_nlp[combination[0]].similarity(dict_desc_nlp[combination[1]]))"
   ]
  },
  {
   "cell_type": "code",
   "execution_count": 46,
   "metadata": {},
   "outputs": [],
   "source": [
    "list_combinations_sim = np.append(list_combinations, np.reshape(list_of_similarities, (-1, 1)), axis=1)"
   ]
  },
  {
   "cell_type": "code",
   "execution_count": 47,
   "metadata": {},
   "outputs": [
    {
     "data": {
      "text/plain": [
       "array([[1.11100000e+03, 1.11200000e+03, 7.21183404e-01],\n",
       "       [1.11100000e+03, 1.21300000e+03, 7.19935780e-01],\n",
       "       [1.11100000e+03, 1.21400000e+03, 7.05420558e-01]])"
      ]
     },
     "execution_count": 47,
     "metadata": {},
     "output_type": "execute_result"
    }
   ],
   "source": [
    "list_combinations_sim[:3]"
   ]
  },
  {
   "cell_type": "code",
   "execution_count": 54,
   "metadata": {},
   "outputs": [
    {
     "data": {
      "text/plain": [
       "179700"
      ]
     },
     "execution_count": 54,
     "metadata": {},
     "output_type": "execute_result"
    }
   ],
   "source": [
    "len(list_combinations_sim)"
   ]
  },
  {
   "cell_type": "code",
   "execution_count": 63,
   "metadata": {},
   "outputs": [],
   "source": [
    "# Getting only those jobs that have more than 80% of similarities \n",
    "list_combinations_sim_filt = list_combinations_sim[(list_combinations_sim[:,2] > 0.8)]"
   ]
  },
  {
   "cell_type": "code",
   "execution_count": 65,
   "metadata": {},
   "outputs": [
    {
     "data": {
      "text/plain": [
       "array([[1.11100000e+03, 1.32500000e+03, 8.12333432e-01],\n",
       "       [1.11100000e+03, 2.24300000e+03, 8.15162869e-01],\n",
       "       [1.11100000e+03, 2.49200000e+03, 8.29120704e-01],\n",
       "       ...,\n",
       "       [2.54417000e+05, 2.54418000e+05, 8.36401604e-01],\n",
       "       [2.54418000e+05, 2.54423000e+05, 8.02816170e-01],\n",
       "       [2.54421000e+05, 2.54423000e+05, 8.26112608e-01]])"
      ]
     },
     "execution_count": 65,
     "metadata": {},
     "output_type": "execute_result"
    }
   ],
   "source": [
    "list_combinations_sim_filt"
   ]
  },
  {
   "cell_type": "markdown",
   "metadata": {},
   "source": [
    "#### Using ABS API"
   ]
  },
  {
   "cell_type": "code",
   "execution_count": 69,
   "metadata": {},
   "outputs": [
    {
     "data": {
      "text/plain": [
       "<Response [504]>"
      ]
     },
     "execution_count": 69,
     "metadata": {},
     "output_type": "execute_result"
    }
   ],
   "source": [
    "# Using Census 2016, G58 Occupation by Hours worked by sex -> id=\"ABS_C16_G58_SA\" agencyID=\"ABS\"\n",
    "# curl -X GET \"https://api.data.abs.gov.au/data/ABS_C16_G58_SA/all?detail=full\" -H \"accept: application/vnd.sdmx.data+json\"\n",
    "requests.get(\"https://api.data.abs.gov.au/data/ABS%2CABS_C16_G58_SA%2C1.0.0/all?startPeriod=2016&endPeriod=2020&detail=dataonly&dimensionAtObservation=TIME_PERIOD\") "
   ]
  },
  {
   "cell_type": "markdown",
   "metadata": {},
   "source": [
    "#### Visualization"
   ]
  },
  {
   "cell_type": "code",
   "execution_count": 193,
   "metadata": {},
   "outputs": [],
   "source": [
    "df_viz_elements = pd.DataFrame(list_combinations_sim_filt[:,:2], columns=['NodeFrom', 'NodeTo'], dtype=int)"
   ]
  },
  {
   "cell_type": "code",
   "execution_count": 194,
   "metadata": {},
   "outputs": [],
   "source": [
    "df_viz_elements['NodeFromValue'] = np.random.randint(10, 100, len(list_combinations_sim_filt))\n",
    "df_viz_elements['NodeToValue'] = np.random.randint(10, 100, len(list_combinations_sim_filt))"
   ]
  },
  {
   "cell_type": "code",
   "execution_count": 195,
   "metadata": {},
   "outputs": [],
   "source": [
    "df_viz_elements['EdgeValue'] = list_combinations_sim_filt[:,2]"
   ]
  },
  {
   "cell_type": "code",
   "execution_count": 196,
   "metadata": {},
   "outputs": [],
   "source": [
    "df_viz_elements = df_viz_elements[['NodeFrom','NodeFromValue','NodeTo','NodeToValue','EdgeValue']]"
   ]
  },
  {
   "cell_type": "code",
   "execution_count": 197,
   "metadata": {},
   "outputs": [
    {
     "data": {
      "text/html": [
       "<div>\n",
       "<style scoped>\n",
       "    .dataframe tbody tr th:only-of-type {\n",
       "        vertical-align: middle;\n",
       "    }\n",
       "\n",
       "    .dataframe tbody tr th {\n",
       "        vertical-align: top;\n",
       "    }\n",
       "\n",
       "    .dataframe thead th {\n",
       "        text-align: right;\n",
       "    }\n",
       "</style>\n",
       "<table border=\"1\" class=\"dataframe\">\n",
       "  <thead>\n",
       "    <tr style=\"text-align: right;\">\n",
       "      <th></th>\n",
       "      <th>NodeFrom</th>\n",
       "      <th>NodeFromValue</th>\n",
       "      <th>NodeTo</th>\n",
       "      <th>NodeToValue</th>\n",
       "      <th>EdgeValue</th>\n",
       "    </tr>\n",
       "  </thead>\n",
       "  <tbody>\n",
       "    <tr>\n",
       "      <th>0</th>\n",
       "      <td>1111</td>\n",
       "      <td>25</td>\n",
       "      <td>1325</td>\n",
       "      <td>54</td>\n",
       "      <td>0.812333</td>\n",
       "    </tr>\n",
       "    <tr>\n",
       "      <th>1</th>\n",
       "      <td>1111</td>\n",
       "      <td>33</td>\n",
       "      <td>2243</td>\n",
       "      <td>22</td>\n",
       "      <td>0.815163</td>\n",
       "    </tr>\n",
       "    <tr>\n",
       "      <th>2</th>\n",
       "      <td>1111</td>\n",
       "      <td>44</td>\n",
       "      <td>2492</td>\n",
       "      <td>54</td>\n",
       "      <td>0.829121</td>\n",
       "    </tr>\n",
       "    <tr>\n",
       "      <th>3</th>\n",
       "      <td>1111</td>\n",
       "      <td>59</td>\n",
       "      <td>3221</td>\n",
       "      <td>80</td>\n",
       "      <td>0.822058</td>\n",
       "    </tr>\n",
       "    <tr>\n",
       "      <th>4</th>\n",
       "      <td>1111</td>\n",
       "      <td>45</td>\n",
       "      <td>3411</td>\n",
       "      <td>86</td>\n",
       "      <td>0.825382</td>\n",
       "    </tr>\n",
       "  </tbody>\n",
       "</table>\n",
       "</div>"
      ],
      "text/plain": [
       "   NodeFrom  NodeFromValue  NodeTo  NodeToValue  EdgeValue\n",
       "0      1111             25    1325           54   0.812333\n",
       "1      1111             33    2243           22   0.815163\n",
       "2      1111             44    2492           54   0.829121\n",
       "3      1111             59    3221           80   0.822058\n",
       "4      1111             45    3411           86   0.825382"
      ]
     },
     "execution_count": 197,
     "metadata": {},
     "output_type": "execute_result"
    }
   ],
   "source": [
    "df_viz_elements.head()"
   ]
  },
  {
   "cell_type": "code",
   "execution_count": 198,
   "metadata": {},
   "outputs": [],
   "source": [
    "df_viz_elements = df_viz_elements.sort_values(by='EdgeValue', ascending=False)"
   ]
  },
  {
   "cell_type": "code",
   "execution_count": 200,
   "metadata": {},
   "outputs": [],
   "source": [
    "df_viz_elements = df_viz_elements.groupby(['NodeFrom'], as_index=False).head(5)"
   ]
  },
  {
   "cell_type": "code",
   "execution_count": 201,
   "metadata": {},
   "outputs": [
    {
     "data": {
      "text/plain": [
       "(2854, 5)"
      ]
     },
     "execution_count": 201,
     "metadata": {},
     "output_type": "execute_result"
    }
   ],
   "source": [
    "df_viz_elements.shape"
   ]
  },
  {
   "cell_type": "code",
   "execution_count": 202,
   "metadata": {},
   "outputs": [],
   "source": [
    "drop_indices = np.random.choice(df_viz_elements.index, 1854, replace=False)\n",
    "df_viz_elements = df_viz_elements.drop(drop_indices)"
   ]
  },
  {
   "cell_type": "code",
   "execution_count": 203,
   "metadata": {},
   "outputs": [],
   "source": [
    "df_nodefrom = df_viz_elements[['NodeFrom', 'NodeFromValue']]\n",
    "df_nodefrom.columns = ['node', 'value']\n",
    "df_nodeto = df_viz_elements[['NodeTo', 'NodeToValue']]\n",
    "df_nodeto.columns = ['node', 'value']"
   ]
  },
  {
   "cell_type": "code",
   "execution_count": 204,
   "metadata": {},
   "outputs": [],
   "source": [
    "df_viz_nodes = pd.concat([df_nodefrom, df_nodeto], axis=0)\n",
    "df_viz_nodes = df_viz_nodes.groupby(['node'], as_index=False).first()"
   ]
  },
  {
   "cell_type": "code",
   "execution_count": 205,
   "metadata": {},
   "outputs": [
    {
     "name": "stdout",
     "output_type": "stream",
     "text": [
      "[1111, 1112, 1213, 1321, 1323, 1324, 1325, 1331, 1332, 1333, 1336, 1341, 1342, 1343, 1344, 1351, 1413, 1414, 1421, 1491, 1493, 2113, 2114, 2123, 2124, 2221, 2222, 2232, 2243, 2245, 2246, 2253, 2254, 2322, 2325, 2333, 2334, 2341, 2344, 2346, 2347, 2411, 2412, 2413, 2414, 2422, 2491, 2492, 2511, 2521, 2522, 2523, 2525, 2526, 2532, 2533, 2534, 2535, 2541, 2543, 2544, 2611, 2633, 2711, 2712, 2721, 2722, 2724, 2725, 3111, 3113, 3124, 3132, 3211, 3221, 3222, 3241, 3242, 3321, 3322, 3331, 3333, 3334, 3411, 3421, 3422, 3424, 3511, 3512, 3513, 3514, 3611, 3613, 3621, 3622, 3623, 3624, 3911, 3922, 3923, 3933, 3941, 3991, 3994, 3996, 4111, 4113, 4115, 4116, 4221, 4231, 4232, 4234, 4312, 4313, 4314, 4315, 4421, 4511, 4513, 4514, 4517, 4521, 4522, 4523, 4524, 5121, 5211, 5311, 5412, 5512, 5513, 5521, 5522, 5611, 5613, 5614, 5615, 5616, 5912, 5991, 5992, 5993, 5994, 5995, 5996, 5997, 6111, 6112, 6113, 6211, 6214, 6215, 6217, 6311, 6393, 6394, 6395, 7111, 7112, 7113, 7114, 7115, 7116, 7117, 7121, 7123, 7311, 7312, 7321, 7331, 7411, 8112, 8113, 8114, 8115, 8212, 8213, 8215, 8216, 8311, 8313, 8321, 8322, 8399, 8412, 8414, 8415, 8416, 8511, 8512, 8513, 8911, 8912, 8991, 8993, 8994, 8996, 8997, 131112, 131113, 133512, 133513, 134411, 135111, 139912, 139913, 142114, 149211, 149212, 149411, 149413, 149913, 149914, 211111, 211113, 211211, 211213, 211214, 212111, 212112, 212113, 212211, 212212, 212314, 212411, 212415, 221111, 221112, 221113, 221212, 221213, 221214, 222111, 222311, 222312, 223111, 223112, 223113, 224111, 224112, 224113, 224211, 224212, 224213, 224214, 224411, 224412, 224512, 224711, 224712, 224912, 225112, 225113, 231111, 231112, 231213, 231214, 232111, 232112, 232311, 232312, 232411, 232412, 232414, 233111, 233112, 233212, 233213, 233215, 233511, 233512, 233513, 233611, 233612, 233911, 233913, 233914, 233915, 233916, 234211, 234212, 234213, 234311, 234312, 234313, 234314, 234511, 234514, 234515, 234517, 234518, 234911, 234913, 234914, 242111, 242112, 249214, 251211, 251212, 251214, 251311, 251312, 251411, 251412, 251511, 251513, 251911, 251912, 252211, 252213, 252711, 252712, 253111, 253112, 253317, 253318, 253321, 253324, 253911, 253912, 253913, 253914, 253915, 253917, 254211, 254212, 254411, 254412, 254413, 254414, 254415, 254416, 254417, 254418, 254421, 254422, 254423, 254424, 254425, 261211, 261212, 261311, 261312, 261313, 261314, 262111, 262112, 262113, 263111, 263112, 263113, 263211, 263212, 263213, 272111, 272112, 272113, 272114, 272115, 272311, 272312, 272313, 272411, 272412, 272413, 272612, 272613, 311211, 311212, 311213, 311214, 311215, 311216, 311411, 311412, 311413, 312111, 312112, 312113, 312114, 312116, 312211, 312212, 312311, 312312, 312511, 313111, 313112, 313113, 321211, 321212, 321213, 321214, 322311, 322313, 323111, 323112, 323211, 323214, 323313, 323314, 323316, 323411, 323412, 331111, 331112, 331212, 331213, 333212, 334111, 334113, 334114, 334115, 341113, 342311, 342312, 342313, 342314, 342413, 361113, 392111, 392112, 393212, 393213, 394211, 394213, 399212, 399213, 399311, 399312, 399511, 399512, 399514, 399515, 399516, 399911, 399913, 411211, 411213, 411214, 411411, 411412, 411711, 411713, 411714, 411715, 411716, 421111, 421113, 422112, 423311, 423312, 423313, 423314, 431111, 431112, 431912, 441211, 441212, 441311, 441312, 442214, 442216, 442217, 452322, 452414, 511112, 512211, 521211, 521212, 532111, 532113, 541111, 541112, 542111, 542112, 542113, 542114, 551111, 551112, 552312, 552314, 561211, 561212, 561411, 561912, 561913, 591112, 591113, 591115, 591116, 591117, 599511, 599512, 599516, 599518, 599913, 599914, 599916, 612112, 612114, 612115, 621311, 621312, 621911, 639111, 639112, 639211, 711912, 711914, 712211, 712213, 712911, 712912, 712915, 712917, 712921, 712922, 721111, 721211, 721212, 721213, 721214, 721215, 721216, 721913, 721915, 731311, 821111, 821411, 821412, 821711, 821712, 821713, 821714, 821911, 821912, 821913, 821914, 831211, 831212, 839311, 839312, 839313, 839912, 839918, 841311, 841312, 841313, 841911, 841913, 899211, 899412, 899415, 899911, 899913, 899914, 899915, 899918, 899921, 899923]\n"
     ]
    }
   ],
   "source": [
    "print(list(df_viz_nodes.node))"
   ]
  },
  {
   "cell_type": "code",
   "execution_count": 206,
   "metadata": {},
   "outputs": [
    {
     "name": "stdout",
     "output_type": "stream",
     "text": [
      "[41, 87, 42, 39, 23, 45, 57, 49, 36, 47, 67, 87, 20, 98, 96, 65, 74, 64, 48, 63, 33, 95, 92, 58, 43, 67, 83, 19, 46, 95, 92, 88, 31, 69, 55, 25, 64, 23, 11, 33, 62, 82, 84, 46, 41, 99, 87, 13, 57, 84, 30, 73, 30, 14, 23, 34, 17, 23, 30, 65, 59, 18, 31, 88, 73, 86, 95, 81, 76, 99, 86, 88, 38, 72, 97, 27, 81, 36, 10, 39, 11, 99, 52, 12, 16, 41, 91, 60, 67, 35, 13, 56, 43, 32, 70, 81, 84, 16, 81, 60, 89, 99, 73, 91, 59, 14, 91, 33, 65, 81, 65, 76, 22, 11, 11, 25, 56, 74, 56, 28, 48, 98, 29, 56, 17, 28, 18, 65, 22, 35, 70, 32, 57, 11, 53, 57, 97, 11, 25, 22, 60, 77, 70, 12, 52, 60, 84, 18, 91, 41, 88, 91, 38, 51, 50, 10, 67, 64, 95, 90, 36, 88, 98, 70, 14, 35, 42, 54, 13, 81, 74, 63, 50, 42, 72, 10, 21, 40, 27, 75, 93, 73, 84, 36, 54, 95, 29, 60, 51, 63, 50, 51, 86, 34, 11, 17, 72, 65, 84, 41, 69, 30, 74, 50, 66, 58, 66, 50, 37, 24, 67, 89, 94, 85, 86, 33, 33, 99, 90, 27, 24, 65, 28, 33, 41, 98, 42, 43, 99, 89, 71, 16, 11, 14, 19, 73, 70, 95, 91, 75, 50, 19, 54, 47, 86, 70, 74, 28, 43, 45, 41, 76, 96, 67, 96, 24, 40, 53, 32, 42, 81, 54, 99, 88, 48, 52, 12, 71, 19, 79, 93, 30, 27, 73, 34, 80, 49, 92, 98, 87, 41, 55, 13, 77, 35, 99, 90, 41, 94, 95, 16, 89, 94, 15, 51, 38, 58, 26, 68, 47, 76, 10, 21, 36, 23, 10, 75, 50, 29, 41, 70, 83, 44, 70, 92, 95, 35, 72, 28, 39, 97, 84, 49, 84, 97, 92, 38, 69, 35, 25, 30, 53, 59, 29, 55, 61, 92, 45, 29, 46, 25, 52, 26, 65, 29, 53, 88, 37, 89, 87, 97, 13, 66, 58, 12, 51, 92, 24, 19, 19, 82, 91, 47, 20, 22, 80, 34, 98, 58, 86, 89, 42, 16, 36, 49, 54, 36, 70, 49, 38, 61, 26, 78, 18, 69, 40, 71, 25, 55, 95, 54, 72, 19, 73, 38, 75, 31, 41, 46, 56, 41, 39, 92, 68, 91, 66, 72, 83, 60, 65, 95, 40, 65, 26, 15, 33, 26, 83, 99, 22, 79, 86, 48, 75, 13, 65, 23, 28, 36, 13, 45, 88, 92, 43, 25, 65, 84, 87, 38, 61, 46, 73, 83, 99, 24, 90, 39, 40, 38, 87, 80, 99, 50, 48, 94, 54, 48, 57, 96, 85, 14, 79, 30, 69, 22, 25, 31, 16, 61, 64, 47, 33, 58, 45, 75, 99, 68, 77, 34, 94, 11, 92, 65, 16, 91, 88, 59, 21, 46, 80, 63, 86, 40, 54, 92, 73, 33, 47, 50, 37, 13, 52, 97, 70, 10, 77, 17, 67, 28, 53, 41, 86, 86, 95, 32, 55, 69, 84, 62, 26, 52, 83, 66, 95, 47, 71, 79, 66, 67, 46, 72, 75, 11, 81, 35, 43, 14, 51, 49, 77, 21, 53, 74, 13, 68, 64, 17, 12, 14, 88, 25, 68, 62, 96, 85, 97, 11, 75, 46, 54, 96, 33]\n"
     ]
    }
   ],
   "source": [
    "print(list(df_viz_nodes.value))"
   ]
  },
  {
   "cell_type": "code",
   "execution_count": 207,
   "metadata": {},
   "outputs": [
    {
     "name": "stdout",
     "output_type": "stream",
     "text": [
      "562\n"
     ]
    }
   ],
   "source": [
    "print(len(list(df_viz_nodes.node)))"
   ]
  },
  {
   "cell_type": "code",
   "execution_count": 208,
   "metadata": {},
   "outputs": [],
   "source": [
    "min_value = df_viz_nodes.value.max()\n",
    "max_value = df_viz_nodes.value.min()\n",
    "df_viz_nodes['color'] = df_viz_nodes['value'].apply(lambda x:hexcolor(x, [min_value, max_value]))"
   ]
  },
  {
   "cell_type": "code",
   "execution_count": 209,
   "metadata": {},
   "outputs": [
    {
     "data": {
      "text/html": [
       "<div>\n",
       "<style scoped>\n",
       "    .dataframe tbody tr th:only-of-type {\n",
       "        vertical-align: middle;\n",
       "    }\n",
       "\n",
       "    .dataframe tbody tr th {\n",
       "        vertical-align: top;\n",
       "    }\n",
       "\n",
       "    .dataframe thead th {\n",
       "        text-align: right;\n",
       "    }\n",
       "</style>\n",
       "<table border=\"1\" class=\"dataframe\">\n",
       "  <thead>\n",
       "    <tr style=\"text-align: right;\">\n",
       "      <th></th>\n",
       "      <th>node</th>\n",
       "      <th>value</th>\n",
       "      <th>color</th>\n",
       "    </tr>\n",
       "  </thead>\n",
       "  <tbody>\n",
       "    <tr>\n",
       "      <th>0</th>\n",
       "      <td>1111</td>\n",
       "      <td>41</td>\n",
       "      <td>#ffx15000</td>\n",
       "    </tr>\n",
       "    <tr>\n",
       "      <th>1</th>\n",
       "      <td>1112</td>\n",
       "      <td>87</td>\n",
       "      <td>#ffx4500</td>\n",
       "    </tr>\n",
       "    <tr>\n",
       "      <th>2</th>\n",
       "      <td>1213</td>\n",
       "      <td>42</td>\n",
       "      <td>#ffx14a00</td>\n",
       "    </tr>\n",
       "    <tr>\n",
       "      <th>3</th>\n",
       "      <td>1321</td>\n",
       "      <td>39</td>\n",
       "      <td>#ffx15b00</td>\n",
       "    </tr>\n",
       "    <tr>\n",
       "      <th>4</th>\n",
       "      <td>1323</td>\n",
       "      <td>23</td>\n",
       "      <td>#ffx1b800</td>\n",
       "    </tr>\n",
       "  </tbody>\n",
       "</table>\n",
       "</div>"
      ],
      "text/plain": [
       "   node  value      color\n",
       "0  1111     41  #ffx15000\n",
       "1  1112     87   #ffx4500\n",
       "2  1213     42  #ffx14a00\n",
       "3  1321     39  #ffx15b00\n",
       "4  1323     23  #ffx1b800"
      ]
     },
     "execution_count": 209,
     "metadata": {},
     "output_type": "execute_result"
    }
   ],
   "source": [
    "df_viz_nodes.head()"
   ]
  },
  {
   "cell_type": "code",
   "execution_count": 210,
   "metadata": {},
   "outputs": [],
   "source": [
    "json_viz_elements = d3plus.build_network(df_viz_elements, 'NodeFrom', 'NodeTo', 'EdgeValue')"
   ]
  },
  {
   "cell_type": "code",
   "execution_count": 211,
   "metadata": {},
   "outputs": [],
   "source": [
    "df_viz_nodes['node_name'] = df_viz_nodes.node.apply(lambda x:str(df_skills_class[df_skills_class.ANZSCO_Code==x].ANZSCO_Title.values[0]))"
   ]
  },
  {
   "cell_type": "code",
   "execution_count": 212,
   "metadata": {},
   "outputs": [
    {
     "data": {
      "text/html": [
       "<div>\n",
       "<style scoped>\n",
       "    .dataframe tbody tr th:only-of-type {\n",
       "        vertical-align: middle;\n",
       "    }\n",
       "\n",
       "    .dataframe tbody tr th {\n",
       "        vertical-align: top;\n",
       "    }\n",
       "\n",
       "    .dataframe thead th {\n",
       "        text-align: right;\n",
       "    }\n",
       "</style>\n",
       "<table border=\"1\" class=\"dataframe\">\n",
       "  <thead>\n",
       "    <tr style=\"text-align: right;\">\n",
       "      <th></th>\n",
       "      <th>node</th>\n",
       "      <th>value</th>\n",
       "      <th>color</th>\n",
       "      <th>node_name</th>\n",
       "    </tr>\n",
       "  </thead>\n",
       "  <tbody>\n",
       "    <tr>\n",
       "      <th>0</th>\n",
       "      <td>1111</td>\n",
       "      <td>41</td>\n",
       "      <td>#ffx15000</td>\n",
       "      <td>Chief Executives and Managing Directors</td>\n",
       "    </tr>\n",
       "    <tr>\n",
       "      <th>1</th>\n",
       "      <td>1112</td>\n",
       "      <td>87</td>\n",
       "      <td>#ffx4500</td>\n",
       "      <td>General Managers</td>\n",
       "    </tr>\n",
       "    <tr>\n",
       "      <th>2</th>\n",
       "      <td>1213</td>\n",
       "      <td>42</td>\n",
       "      <td>#ffx14a00</td>\n",
       "      <td>Livestock Farmers</td>\n",
       "    </tr>\n",
       "    <tr>\n",
       "      <th>3</th>\n",
       "      <td>1321</td>\n",
       "      <td>39</td>\n",
       "      <td>#ffx15b00</td>\n",
       "      <td>Corporate Services Managers</td>\n",
       "    </tr>\n",
       "    <tr>\n",
       "      <th>4</th>\n",
       "      <td>1323</td>\n",
       "      <td>23</td>\n",
       "      <td>#ffx1b800</td>\n",
       "      <td>Human Resource Managers</td>\n",
       "    </tr>\n",
       "  </tbody>\n",
       "</table>\n",
       "</div>"
      ],
      "text/plain": [
       "   node  value      color                                node_name\n",
       "0  1111     41  #ffx15000  Chief Executives and Managing Directors\n",
       "1  1112     87   #ffx4500                         General Managers\n",
       "2  1213     42  #ffx14a00                        Livestock Farmers\n",
       "3  1321     39  #ffx15b00              Corporate Services Managers\n",
       "4  1323     23  #ffx1b800                  Human Resource Managers"
      ]
     },
     "execution_count": 212,
     "metadata": {},
     "output_type": "execute_result"
    }
   ],
   "source": [
    "df_viz_nodes.head()"
   ]
  },
  {
   "cell_type": "code",
   "execution_count": 213,
   "metadata": {},
   "outputs": [],
   "source": [
    "ns_viz = d3plus.NetworkSpace(id=\"node\", presence=\"M\", color=\"value\", name=[\"node_name\"], size='value', \n",
    "                             graph_data=json_viz_elements, tooltip=[\"value\"])"
   ]
  },
  {
   "cell_type": "code",
   "execution_count": 214,
   "metadata": {},
   "outputs": [
    {
     "data": {
      "text/html": [
       "<div id='d3plus_div_63259' style='height:600px;'></div>"
      ],
      "text/plain": [
       "<IPython.core.display.HTML object>"
      ]
     },
     "metadata": {},
     "output_type": "display_data"
    },
    {
     "data": {
      "application/javascript": [
       "$.getScript(\"http://www.d3plus.org/js/d3.js\", function () {\n",
       "$.getScript(\"http://www.d3plus.org/js/d3plus.js\", function () {\n",
       "\n",
       "        (function (){\n",
       "\n",
       "          debugger;\n",
       "\n",
       "          var viz_data = [{\"id\":1111,\"value\":41,\"color\":\"#ffx15000\",\"node_name\":\"Chief Executives and Managing Directors\"},{\"id\":1112,\"value\":87,\"color\":\"#ffx4500\",\"node_name\":\"General Managers\"},{\"id\":1213,\"value\":42,\"color\":\"#ffx14a00\",\"node_name\":\"Livestock Farmers\"},{\"id\":1321,\"value\":39,\"color\":\"#ffx15b00\",\"node_name\":\"Corporate Services Managers\"},{\"id\":1323,\"value\":23,\"color\":\"#ffx1b800\",\"node_name\":\"Human Resource Managers\"},{\"id\":1324,\"value\":45,\"color\":\"#ffx13800\",\"node_name\":\"Policy and Planning Managers\"},{\"id\":1325,\"value\":57,\"color\":\"#ffxf300\",\"node_name\":\"Research and Development Managers\"},{\"id\":1331,\"value\":49,\"color\":\"#ffx12100\",\"node_name\":\"Construction Managers\"},{\"id\":1332,\"value\":36,\"color\":\"#ffx16d00\",\"node_name\":\"Engineering Managers\"},{\"id\":1333,\"value\":47,\"color\":\"#ffx12d00\",\"node_name\":\"Importers, Exporters and Wholesalers\"},{\"id\":1336,\"value\":67,\"color\":\"#ffxb900\",\"node_name\":\"Supply, Distribution and Procurement Managers\"},{\"id\":1341,\"value\":87,\"color\":\"#ffx4500\",\"node_name\":\"Child Care Centre Managers\"},{\"id\":1342,\"value\":20,\"color\":\"#ffx1c900\",\"node_name\":\"Health and Welfare Services Managers\"},{\"id\":1343,\"value\":98,\"color\":\"#ffx500\",\"node_name\":\"School Principals\"},{\"id\":1344,\"value\":96,\"color\":\"#ffx1100\",\"node_name\":\"Education Managers\"},{\"id\":1351,\"value\":65,\"color\":\"#ffxc500\",\"node_name\":\"ICT Managers\"},{\"id\":1413,\"value\":74,\"color\":\"#ffx9000\",\"node_name\":\"Hotel and Motel Managers\"},{\"id\":1414,\"value\":64,\"color\":\"#ffxca00\",\"node_name\":\"Licensed Club Managers\"},{\"id\":1421,\"value\":48,\"color\":\"#ffx12700\",\"node_name\":\"Retail Managers\"},{\"id\":1491,\"value\":63,\"color\":\"#ffxd000\",\"node_name\":\"Amusement, Fitness and Sports Centre Managers\"},{\"id\":1493,\"value\":33,\"color\":\"#ffx17e00\",\"node_name\":\"Conference and Event Organisers\"},{\"id\":2113,\"value\":95,\"color\":\"#ffx1700\",\"node_name\":\"Photographers\"},{\"id\":2114,\"value\":92,\"color\":\"#ffx2800\",\"node_name\":\"Visual Arts and Crafts Professionals\"},{\"id\":2123,\"value\":58,\"color\":\"#ffxed00\",\"node_name\":\"Film, Television, Radio and Stage Directors\"},{\"id\":2124,\"value\":43,\"color\":\"#ffx14400\",\"node_name\":\"Journalists and Writers\"},{\"id\":2221,\"value\":67,\"color\":\"#ffxb900\",\"node_name\":\"Financial Brokers\"},{\"id\":2222,\"value\":83,\"color\":\"#ffx5c00\",\"node_name\":\"Financial Dealers\"},{\"id\":2232,\"value\":19,\"color\":\"#ffx1cf00\",\"node_name\":\"ICT Trainers\"},{\"id\":2243,\"value\":46,\"color\":\"#ffx13300\",\"node_name\":\"Economists\"},{\"id\":2245,\"value\":95,\"color\":\"#ffx1700\",\"node_name\":\"Land Economists and Valuers\"},{\"id\":2246,\"value\":92,\"color\":\"#ffx2800\",\"node_name\":\"Librarians\"},{\"id\":2253,\"value\":88,\"color\":\"#ffx3f00\",\"node_name\":\"Public Relations Professionals\"},{\"id\":2254,\"value\":31,\"color\":\"#ffx18a00\",\"node_name\":\"Technical Sales Representatives\"},{\"id\":2322,\"value\":69,\"color\":\"#ffxad00\",\"node_name\":\"Surveyors and Spatial Scientists\"},{\"id\":2325,\"value\":55,\"color\":\"#ffxff00\",\"node_name\":\"Interior Designers\"},{\"id\":2333,\"value\":25,\"color\":\"#ffx1ac00\",\"node_name\":\"Electrical Engineers\"},{\"id\":2334,\"value\":64,\"color\":\"#ffxca00\",\"node_name\":\"Electronics Engineers\"},{\"id\":2341,\"value\":23,\"color\":\"#ffx1b800\",\"node_name\":\"Agricultural and Forestry Scientists\"},{\"id\":2344,\"value\":11,\"color\":\"#ffx1fe00\",\"node_name\":\"Geologists, Geophysicists and Hydrogeologists\"},{\"id\":2346,\"value\":33,\"color\":\"#ffx17e00\",\"node_name\":\"Medical Laboratory Scientists\"},{\"id\":2347,\"value\":62,\"color\":\"#ffxd600\",\"node_name\":\"Veterinarians\"},{\"id\":2411,\"value\":82,\"color\":\"#ffx6200\",\"node_name\":\"Early Childhood Teachers\"},{\"id\":2412,\"value\":84,\"color\":\"#ffx5600\",\"node_name\":\"Primary School Teachers\"},{\"id\":2413,\"value\":46,\"color\":\"#ffx13300\",\"node_name\":\"Middle School Teachers\"},{\"id\":2414,\"value\":41,\"color\":\"#ffx15000\",\"node_name\":\"Secondary School Teachers\"},{\"id\":2422,\"value\":99,\"color\":\"#ff0000\",\"node_name\":\"Vocational Education Teachers\"},{\"id\":2491,\"value\":87,\"color\":\"#ffx4500\",\"node_name\":\"Education Advisers and Reviewers\"},{\"id\":2492,\"value\":13,\"color\":\"#ffx1f200\",\"node_name\":\"Private Art, Dance, Drama and Music Teachers\"},{\"id\":2511,\"value\":57,\"color\":\"#ffxf300\",\"node_name\":\"Nutrition Professionals\"},{\"id\":2521,\"value\":84,\"color\":\"#ffx5600\",\"node_name\":\"Chiropractors and Osteopaths\"},{\"id\":2522,\"value\":30,\"color\":\"#ffx18f00\",\"node_name\":\"Complementary Health Therapists\"},{\"id\":2523,\"value\":73,\"color\":\"#ffx9600\",\"node_name\":\"Dental Practitioners\"},{\"id\":2525,\"value\":30,\"color\":\"#ffx18f00\",\"node_name\":\"Physiotherapists\"},{\"id\":2526,\"value\":14,\"color\":\"#ffx1ec00\",\"node_name\":\"Podiatrists\"},{\"id\":2532,\"value\":23,\"color\":\"#ffx1b800\",\"node_name\":\"Anaesthetists\"},{\"id\":2533,\"value\":34,\"color\":\"#ffx17800\",\"node_name\":\"Specialist Physicians\"},{\"id\":2534,\"value\":17,\"color\":\"#ffx1db00\",\"node_name\":\"Psychiatrists\"},{\"id\":2535,\"value\":23,\"color\":\"#ffx1b800\",\"node_name\":\"Surgeons\"},{\"id\":2541,\"value\":30,\"color\":\"#ffx18f00\",\"node_name\":\"Midwives\"},{\"id\":2543,\"value\":65,\"color\":\"#ffxc500\",\"node_name\":\"Nurse Managers\"},{\"id\":2544,\"value\":59,\"color\":\"#ffxe700\",\"node_name\":\"Registered Nurses\"},{\"id\":2611,\"value\":18,\"color\":\"#ffx1d500\",\"node_name\":\"ICT Business and Systems Analysts\"},{\"id\":2633,\"value\":31,\"color\":\"#ffx18a00\",\"node_name\":\"Telecommunications Engineering Professionals\"},{\"id\":2711,\"value\":88,\"color\":\"#ffx3f00\",\"node_name\":\"Barristers\"},{\"id\":2712,\"value\":73,\"color\":\"#ffx9600\",\"node_name\":\"Judicial and Legal Professionals\"},{\"id\":2721,\"value\":86,\"color\":\"#ffx4b00\",\"node_name\":\"Counsellors\"},{\"id\":2722,\"value\":95,\"color\":\"#ffx1700\",\"node_name\":\"Ministers of Religion\"},{\"id\":2724,\"value\":81,\"color\":\"#ffx6800\",\"node_name\":\"Social Professionals\"},{\"id\":2725,\"value\":76,\"color\":\"#ffx8500\",\"node_name\":\"Social Workers\"},{\"id\":3111,\"value\":99,\"color\":\"#ff0000\",\"node_name\":\"Agricultural Technicians\"},{\"id\":3113,\"value\":86,\"color\":\"#ffx4b00\",\"node_name\":\"Primary Products Inspectors\"},{\"id\":3124,\"value\":88,\"color\":\"#ffx3f00\",\"node_name\":\"Electronic Engineering Draftspersons and Technicians\"},{\"id\":3132,\"value\":38,\"color\":\"#ffx16100\",\"node_name\":\"Telecommunications Technical Specialists\"},{\"id\":3211,\"value\":72,\"color\":\"#ffx9c00\",\"node_name\":\"Automotive Electricians\"},{\"id\":3221,\"value\":97,\"color\":\"#ffxb00\",\"node_name\":\"Metal Casting, Forging and Finishing Trades Workers\"},{\"id\":3222,\"value\":27,\"color\":\"#ffx1a100\",\"node_name\":\"Sheetmetal Trades Workers\"},{\"id\":3241,\"value\":81,\"color\":\"#ffx6800\",\"node_name\":\"Panelbeaters\"},{\"id\":3242,\"value\":36,\"color\":\"#ffx16d00\",\"node_name\":\"Vehicle Body Builders and Trimmers\"},{\"id\":3321,\"value\":10,\"color\":\"#ffx20300\",\"node_name\":\"Floor Finishers\"},{\"id\":3322,\"value\":39,\"color\":\"#ffx15b00\",\"node_name\":\"Painting Trades Workers\"},{\"id\":3331,\"value\":11,\"color\":\"#ffx1fe00\",\"node_name\":\"Glaziers\"},{\"id\":3333,\"value\":99,\"color\":\"#ff0000\",\"node_name\":\"Roof Tilers\"},{\"id\":3334,\"value\":52,\"color\":\"#ffx11000\",\"node_name\":\"Wall and Floor Tilers\"},{\"id\":3411,\"value\":12,\"color\":\"#ffx1f800\",\"node_name\":\"Electricians\"},{\"id\":3421,\"value\":16,\"color\":\"#ffx1e100\",\"node_name\":\"Airconditioning and Refrigeration Mechanics\"},{\"id\":3422,\"value\":41,\"color\":\"#ffx15000\",\"node_name\":\"Electrical Distribution Trades Workers\"},{\"id\":3424,\"value\":91,\"color\":\"#ffx2e00\",\"node_name\":\"Telecommunications Trades Workers\"},{\"id\":3511,\"value\":60,\"color\":\"#ffxe200\",\"node_name\":\"Bakers and Pastrycooks\"},{\"id\":3512,\"value\":67,\"color\":\"#ffxb900\",\"node_name\":\"Butchers and Smallgoods Makers\"},{\"id\":3513,\"value\":35,\"color\":\"#ffx17200\",\"node_name\":\"Chefs\"},{\"id\":3514,\"value\":13,\"color\":\"#ffx1f200\",\"node_name\":\"Cooks\"},{\"id\":3611,\"value\":56,\"color\":\"#ffxf900\",\"node_name\":\"Animal Attendants and Trainers\"},{\"id\":3613,\"value\":43,\"color\":\"#ffx14400\",\"node_name\":\"Veterinary Nurses\"},{\"id\":3621,\"value\":32,\"color\":\"#ffx18400\",\"node_name\":\"Florists\"},{\"id\":3622,\"value\":70,\"color\":\"#ffxa800\",\"node_name\":\"Gardeners\"},{\"id\":3623,\"value\":81,\"color\":\"#ffx6800\",\"node_name\":\"Greenkeepers\"},{\"id\":3624,\"value\":84,\"color\":\"#ffx5600\",\"node_name\":\"Nurserypersons\"},{\"id\":3911,\"value\":16,\"color\":\"#ffx1e100\",\"node_name\":\"Hairdressers\"},{\"id\":3922,\"value\":81,\"color\":\"#ffx6800\",\"node_name\":\"Graphic Pre-press Trades Workers\"},{\"id\":3923,\"value\":60,\"color\":\"#ffxe200\",\"node_name\":\"Printers\"},{\"id\":3933,\"value\":89,\"color\":\"#ffx3900\",\"node_name\":\"Upholsterers\"},{\"id\":3941,\"value\":99,\"color\":\"#ff0000\",\"node_name\":\"Cabinetmakers\"},{\"id\":3991,\"value\":73,\"color\":\"#ffx9600\",\"node_name\":\"Boat Builders and Shipwrights\"},{\"id\":3994,\"value\":91,\"color\":\"#ffx2e00\",\"node_name\":\"Jewellers\"},{\"id\":3996,\"value\":59,\"color\":\"#ffxe700\",\"node_name\":\"Signwriters\"},{\"id\":4111,\"value\":14,\"color\":\"#ffx1ec00\",\"node_name\":\"Ambulance Officers and Paramedics\"},{\"id\":4113,\"value\":91,\"color\":\"#ffx2e00\",\"node_name\":\"Diversional Therapists\"},{\"id\":4115,\"value\":33,\"color\":\"#ffx17e00\",\"node_name\":\"Indigenous Health Workers\"},{\"id\":4116,\"value\":65,\"color\":\"#ffxc500\",\"node_name\":\"Massage Therapists\"},{\"id\":4221,\"value\":81,\"color\":\"#ffx6800\",\"node_name\":\"Education Aides\"},{\"id\":4231,\"value\":65,\"color\":\"#ffxc500\",\"node_name\":\"Aged and Disabled Carers\"},{\"id\":4232,\"value\":76,\"color\":\"#ffx8500\",\"node_name\":\"Dental Assistants\"},{\"id\":4234,\"value\":22,\"color\":\"#ffx1be00\",\"node_name\":\"Special Care Workers\"},{\"id\":4312,\"value\":11,\"color\":\"#ffx1fe00\",\"node_name\":\"Cafe Workers\"},{\"id\":4313,\"value\":11,\"color\":\"#ffx1fe00\",\"node_name\":\"Gaming Workers\"},{\"id\":4314,\"value\":25,\"color\":\"#ffx1ac00\",\"node_name\":\"Hotel Service Managers\"},{\"id\":4315,\"value\":56,\"color\":\"#ffxf900\",\"node_name\":\"Waiters\"},{\"id\":4421,\"value\":74,\"color\":\"#ffx9000\",\"node_name\":\"Prison Officers\"},{\"id\":4511,\"value\":56,\"color\":\"#ffxf900\",\"node_name\":\"Beauty Therapists\"},{\"id\":4513,\"value\":28,\"color\":\"#ffx19b00\",\"node_name\":\"Funeral Workers\"},{\"id\":4514,\"value\":48,\"color\":\"#ffx12700\",\"node_name\":\"Gallery, Museum and Tour Guides\"},{\"id\":4517,\"value\":98,\"color\":\"#ffx500\",\"node_name\":\"Travel Attendants\"},{\"id\":4521,\"value\":29,\"color\":\"#ffx19500\",\"node_name\":\"Fitness Instructors\"},{\"id\":4522,\"value\":56,\"color\":\"#ffxf900\",\"node_name\":\"Outdoor Adventure Guides\"},{\"id\":4523,\"value\":17,\"color\":\"#ffx1db00\",\"node_name\":\"Sports Coaches, Instructors and Officials\"},{\"id\":4524,\"value\":28,\"color\":\"#ffx19b00\",\"node_name\":\"Sportspersons\"},{\"id\":5121,\"value\":18,\"color\":\"#ffx1d500\",\"node_name\":\"Office Managers\"},{\"id\":5211,\"value\":65,\"color\":\"#ffxc500\",\"node_name\":\"Personal Assistants\"},{\"id\":5311,\"value\":22,\"color\":\"#ffx1be00\",\"node_name\":\"General Clerks\"},{\"id\":5412,\"value\":35,\"color\":\"#ffx17200\",\"node_name\":\"Information Officers\"},{\"id\":5512,\"value\":70,\"color\":\"#ffxa800\",\"node_name\":\"Bookkeepers\"},{\"id\":5513,\"value\":32,\"color\":\"#ffx18400\",\"node_name\":\"Payroll Clerks\"},{\"id\":5521,\"value\":57,\"color\":\"#ffxf300\",\"node_name\":\"Bank Workers\"},{\"id\":5522,\"value\":11,\"color\":\"#ffx1fe00\",\"node_name\":\"Credit and Loans Officers\"},{\"id\":5611,\"value\":53,\"color\":\"#ffx10a00\",\"node_name\":\"Betting Clerks\"},{\"id\":5613,\"value\":57,\"color\":\"#ffxf300\",\"node_name\":\"Filing and Registry Clerks\"},{\"id\":5614,\"value\":97,\"color\":\"#ffxb00\",\"node_name\":\"Mail Sorters\"},{\"id\":5615,\"value\":11,\"color\":\"#ffx1fe00\",\"node_name\":\"Survey Interviewers\"},{\"id\":5616,\"value\":25,\"color\":\"#ffx1ac00\",\"node_name\":\"Switchboard Operators\"},{\"id\":5912,\"value\":22,\"color\":\"#ffx1be00\",\"node_name\":\"Transport and Despatch Clerks\"},{\"id\":5991,\"value\":60,\"color\":\"#ffxe200\",\"node_name\":\"Conveyancers and Legal Executives\"},{\"id\":5992,\"value\":77,\"color\":\"#ffx7f00\",\"node_name\":\"Court and Legal Clerks\"},{\"id\":5993,\"value\":70,\"color\":\"#ffxa800\",\"node_name\":\"Debt Collectors\"},{\"id\":5994,\"value\":12,\"color\":\"#ffx1f800\",\"node_name\":\"Human Resource Clerks\"},{\"id\":5995,\"value\":52,\"color\":\"#ffx11000\",\"node_name\":\"Inspectors and Regulatory Officers\"},{\"id\":5996,\"value\":60,\"color\":\"#ffxe200\",\"node_name\":\"Insurance Investigators, Loss Adjusters and Risk Surveyors\"},{\"id\":5997,\"value\":84,\"color\":\"#ffx5600\",\"node_name\":\"Library Assistants\"},{\"id\":6111,\"value\":18,\"color\":\"#ffx1d500\",\"node_name\":\"Auctioneers, and Stock and Station Agents\"},{\"id\":6112,\"value\":91,\"color\":\"#ffx2e00\",\"node_name\":\"Insurance Agents\"},{\"id\":6113,\"value\":41,\"color\":\"#ffx15000\",\"node_name\":\"Sales Representatives\"},{\"id\":6211,\"value\":88,\"color\":\"#ffx3f00\",\"node_name\":\"Sales Assistants \"},{\"id\":6214,\"value\":91,\"color\":\"#ffx2e00\",\"node_name\":\"Pharmacy Sales Assistants\"},{\"id\":6215,\"value\":38,\"color\":\"#ffx16100\",\"node_name\":\"Retail Supervisors\"},{\"id\":6217,\"value\":51,\"color\":\"#ffx11600\",\"node_name\":\"Street Vendors and Related Salespersons\"},{\"id\":6311,\"value\":50,\"color\":\"#ffx11b00\",\"node_name\":\"Checkout Operators and Office Cashiers\"},{\"id\":6393,\"value\":10,\"color\":\"#ffx20300\",\"node_name\":\"Telemarketers\"},{\"id\":6394,\"value\":67,\"color\":\"#ffxb900\",\"node_name\":\"Ticket Salespersons\"},{\"id\":6395,\"value\":64,\"color\":\"#ffxca00\",\"node_name\":\"Visual Merchandisers\"},{\"id\":7111,\"value\":95,\"color\":\"#ffx1700\",\"node_name\":\"Clay, Concrete, Glass and Stone Processing Machine Operators\"},{\"id\":7112,\"value\":90,\"color\":\"#ffx3400\",\"node_name\":\"Industrial Spraypainters\"},{\"id\":7113,\"value\":36,\"color\":\"#ffx16d00\",\"node_name\":\"Paper and Wood Processing Machine Operators\"},{\"id\":7114,\"value\":88,\"color\":\"#ffx3f00\",\"node_name\":\"Photographic Developers and Printers\"},{\"id\":7115,\"value\":98,\"color\":\"#ffx500\",\"node_name\":\"Plastics and Rubber Production Machine Operators\"},{\"id\":7116,\"value\":70,\"color\":\"#ffxa800\",\"node_name\":\"Sewing Machinists\"},{\"id\":7117,\"value\":14,\"color\":\"#ffx1ec00\",\"node_name\":\"Textile and Footwear Production Machine Operators\"},{\"id\":7121,\"value\":35,\"color\":\"#ffx17200\",\"node_name\":\"Crane, Hoist and Lift Operators\"},{\"id\":7123,\"value\":42,\"color\":\"#ffx14a00\",\"node_name\":\"Engineering Production Workers\"},{\"id\":7311,\"value\":54,\"color\":\"#ffx10400\",\"node_name\":\"Automobile Drivers\"},{\"id\":7312,\"value\":13,\"color\":\"#ffx1f200\",\"node_name\":\"Bus and Coach Drivers\"},{\"id\":7321,\"value\":81,\"color\":\"#ffx6800\",\"node_name\":\"Delivery Drivers\"},{\"id\":7331,\"value\":74,\"color\":\"#ffx9000\",\"node_name\":\"Truck Drivers\"},{\"id\":7411,\"value\":63,\"color\":\"#ffxd000\",\"node_name\":\"Storepersons\"},{\"id\":8112,\"value\":50,\"color\":\"#ffx11b00\",\"node_name\":\"Commercial Cleaners\"},{\"id\":8113,\"value\":42,\"color\":\"#ffx14a00\",\"node_name\":\"Domestic Cleaners\"},{\"id\":8114,\"value\":72,\"color\":\"#ffx9c00\",\"node_name\":\"Housekeepers\"},{\"id\":8115,\"value\":10,\"color\":\"#ffx20300\",\"node_name\":\"Laundry Workers\"},{\"id\":8212,\"value\":21,\"color\":\"#ffx1c400\",\"node_name\":\"Concreters\"},{\"id\":8213,\"value\":40,\"color\":\"#ffx15500\",\"node_name\":\"Fencers\"},{\"id\":8215,\"value\":27,\"color\":\"#ffx1a100\",\"node_name\":\"Paving and Surfacing Labourers\"},{\"id\":8216,\"value\":75,\"color\":\"#ffx8b00\",\"node_name\":\"Railway Track Workers\"},{\"id\":8311,\"value\":93,\"color\":\"#ffx2200\",\"node_name\":\"Food and Drink Factory Workers\"},{\"id\":8313,\"value\":73,\"color\":\"#ffx9600\",\"node_name\":\"Meat, Poultry and Seafood Process Workers\"},{\"id\":8321,\"value\":84,\"color\":\"#ffx5600\",\"node_name\":\"Packers\"},{\"id\":8322,\"value\":36,\"color\":\"#ffx16d00\",\"node_name\":\"Product Assemblers\"},{\"id\":8399,\"value\":54,\"color\":\"#ffx10400\",\"node_name\":\"Factory Process Workers\"},{\"id\":8412,\"value\":95,\"color\":\"#ffx1700\",\"node_name\":\"Crop Farm Workers\"},{\"id\":8414,\"value\":29,\"color\":\"#ffx19500\",\"node_name\":\"Garden and Nursery Labourers\"},{\"id\":8415,\"value\":60,\"color\":\"#ffxe200\",\"node_name\":\"Livestock Farm Workers\"},{\"id\":8416,\"value\":51,\"color\":\"#ffx11600\",\"node_name\":\"Mixed Crop and Livestock Farm Workers\"},{\"id\":8511,\"value\":63,\"color\":\"#ffxd000\",\"node_name\":\"Fast Food Cooks\"},{\"id\":8512,\"value\":50,\"color\":\"#ffx11b00\",\"node_name\":\"Food Trades Assistants\"},{\"id\":8513,\"value\":51,\"color\":\"#ffx11600\",\"node_name\":\"Kitchenhands\"},{\"id\":8911,\"value\":86,\"color\":\"#ffx4b00\",\"node_name\":\"Freight and Furniture Handlers\"},{\"id\":8912,\"value\":34,\"color\":\"#ffx17800\",\"node_name\":\"Shelf Fillers\"},{\"id\":8991,\"value\":11,\"color\":\"#ffx1fe00\",\"node_name\":\"Caretakers\"},{\"id\":8993,\"value\":17,\"color\":\"#ffx1db00\",\"node_name\":\"Handypersons\"},{\"id\":8994,\"value\":72,\"color\":\"#ffx9c00\",\"node_name\":\"Motor Vehicle Parts and Accessories Fitters\"},{\"id\":8996,\"value\":65,\"color\":\"#ffxc500\",\"node_name\":\"Recycling and Rubbish Collectors\"},{\"id\":8997,\"value\":84,\"color\":\"#ffx5600\",\"node_name\":\"Vending Machine Attendants\"},{\"id\":131112,\"value\":41,\"color\":\"#ffx15000\",\"node_name\":\"Sales and Marketing Manager\"},{\"id\":131113,\"value\":69,\"color\":\"#ffxad00\",\"node_name\":\"Advertising Manager\"},{\"id\":133512,\"value\":30,\"color\":\"#ffx18f00\",\"node_name\":\"Production Manager in Manufacturing\"},{\"id\":133513,\"value\":74,\"color\":\"#ffx9000\",\"node_name\":\"Production Manager in Mining\"},{\"id\":134411,\"value\":50,\"color\":\"#ffx11b00\",\"node_name\":\"Faculty Head\"},{\"id\":135111,\"value\":66,\"color\":\"#ffxbf00\",\"node_name\":\"Chief Information Officer\"},{\"id\":139912,\"value\":58,\"color\":\"#ffxed00\",\"node_name\":\"Environmental Manager\"},{\"id\":139913,\"value\":66,\"color\":\"#ffxbf00\",\"node_name\":\"Laboratory Manager\"},{\"id\":142114,\"value\":50,\"color\":\"#ffx11b00\",\"node_name\":\"Hair or Beauty Salon Manager\"},{\"id\":149211,\"value\":37,\"color\":\"#ffx16700\",\"node_name\":\"Call or Contact Centre Manager\"},{\"id\":149212,\"value\":24,\"color\":\"#ffx1b200\",\"node_name\":\"Customer Service Manager\"},{\"id\":149411,\"value\":67,\"color\":\"#ffxb900\",\"node_name\":\"Fleet Manager\"},{\"id\":149413,\"value\":89,\"color\":\"#ffx3900\",\"node_name\":\"Transport Company Manager\"},{\"id\":149913,\"value\":94,\"color\":\"#ffx1c00\",\"node_name\":\"Facilities Manager\"},{\"id\":149914,\"value\":85,\"color\":\"#ffx5100\",\"node_name\":\"Financial Institution Branch Manager\"},{\"id\":211111,\"value\":86,\"color\":\"#ffx4b00\",\"node_name\":\"Actor\"},{\"id\":211113,\"value\":33,\"color\":\"#ffx17e00\",\"node_name\":\"Entertainer or Variety Artist\"},{\"id\":211211,\"value\":33,\"color\":\"#ffx17e00\",\"node_name\":\"Composer\"},{\"id\":211213,\"value\":99,\"color\":\"#ff0000\",\"node_name\":\"Musician\"},{\"id\":211214,\"value\":90,\"color\":\"#ffx3400\",\"node_name\":\"Singer\"},{\"id\":212111,\"value\":27,\"color\":\"#ffx1a100\",\"node_name\":\"Artistic Director\"},{\"id\":212112,\"value\":24,\"color\":\"#ffx1b200\",\"node_name\":\"Media Producer\"},{\"id\":212113,\"value\":65,\"color\":\"#ffxc500\",\"node_name\":\"Radio Presenter\"},{\"id\":212211,\"value\":28,\"color\":\"#ffx19b00\",\"node_name\":\"Author\"},{\"id\":212212,\"value\":33,\"color\":\"#ffx17e00\",\"node_name\":\"Book or Script Editor\"},{\"id\":212314,\"value\":41,\"color\":\"#ffx15000\",\"node_name\":\"Film and Video Editor\"},{\"id\":212411,\"value\":98,\"color\":\"#ffx500\",\"node_name\":\"Copywriter\"},{\"id\":212415,\"value\":42,\"color\":\"#ffx14a00\",\"node_name\":\"Technical Writer\"},{\"id\":221111,\"value\":43,\"color\":\"#ffx14400\",\"node_name\":\"Accountant  \"},{\"id\":221112,\"value\":99,\"color\":\"#ff0000\",\"node_name\":\"Management Accountant\"},{\"id\":221113,\"value\":89,\"color\":\"#ffx3900\",\"node_name\":\"Taxation Accountant\"},{\"id\":221212,\"value\":71,\"color\":\"#ffxa200\",\"node_name\":\"Corporate Treasurer\"},{\"id\":221213,\"value\":16,\"color\":\"#ffx1e100\",\"node_name\":\"External Auditor\"},{\"id\":221214,\"value\":11,\"color\":\"#ffx1fe00\",\"node_name\":\"Internal Auditor\"},{\"id\":222111,\"value\":14,\"color\":\"#ffx1ec00\",\"node_name\":\"Commodities Trader\"},{\"id\":222311,\"value\":19,\"color\":\"#ffx1cf00\",\"node_name\":\"Financial Investment Adviser\"},{\"id\":222312,\"value\":73,\"color\":\"#ffx9600\",\"node_name\":\"Financial Investment Manager\"},{\"id\":223111,\"value\":70,\"color\":\"#ffxa800\",\"node_name\":\"Human Resource Adviser\"},{\"id\":223112,\"value\":95,\"color\":\"#ffx1700\",\"node_name\":\"Recruitment Consultant\"},{\"id\":223113,\"value\":91,\"color\":\"#ffx2e00\",\"node_name\":\"Workplace Relations Adviser\"},{\"id\":224111,\"value\":75,\"color\":\"#ffx8b00\",\"node_name\":\"Actuary\"},{\"id\":224112,\"value\":50,\"color\":\"#ffx11b00\",\"node_name\":\"Mathematician\"},{\"id\":224113,\"value\":19,\"color\":\"#ffx1cf00\",\"node_name\":\"Statistician\"},{\"id\":224211,\"value\":54,\"color\":\"#ffx10400\",\"node_name\":\"Archivist\"},{\"id\":224212,\"value\":47,\"color\":\"#ffx12d00\",\"node_name\":\"Gallery or Museum Curator\"},{\"id\":224213,\"value\":86,\"color\":\"#ffx4b00\",\"node_name\":\"Health Information Manager\"},{\"id\":224214,\"value\":70,\"color\":\"#ffxa800\",\"node_name\":\"Records Manager\"},{\"id\":224411,\"value\":74,\"color\":\"#ffx9000\",\"node_name\":\"Intelligence Officer\"},{\"id\":224412,\"value\":28,\"color\":\"#ffx19b00\",\"node_name\":\"Policy Analyst\"},{\"id\":224512,\"value\":43,\"color\":\"#ffx14400\",\"node_name\":\"Valuer\"},{\"id\":224711,\"value\":45,\"color\":\"#ffx13800\",\"node_name\":\"Management Consultant\"},{\"id\":224712,\"value\":41,\"color\":\"#ffx15000\",\"node_name\":\"Organisation and Methods Analyst\"},{\"id\":224912,\"value\":76,\"color\":\"#ffx8500\",\"node_name\":\"Liaison Officer\"},{\"id\":225112,\"value\":96,\"color\":\"#ffx1100\",\"node_name\":\"Market Research Analyst\"},{\"id\":225113,\"value\":67,\"color\":\"#ffxb900\",\"node_name\":\"Marketing Specialist\"},{\"id\":231111,\"value\":96,\"color\":\"#ffx1100\",\"node_name\":\"Aeroplane Pilot\"},{\"id\":231112,\"value\":24,\"color\":\"#ffx1b200\",\"node_name\":\"Air Traffic Controller\"},{\"id\":231213,\"value\":40,\"color\":\"#ffx15500\",\"node_name\":\"Ship's Master\"},{\"id\":231214,\"value\":53,\"color\":\"#ffx10a00\",\"node_name\":\"Ship's Officer\"},{\"id\":232111,\"value\":32,\"color\":\"#ffx18400\",\"node_name\":\"Architect\"},{\"id\":232112,\"value\":42,\"color\":\"#ffx14a00\",\"node_name\":\"Landscape Architect\"},{\"id\":232311,\"value\":81,\"color\":\"#ffx6800\",\"node_name\":\"Fashion Designer\"},{\"id\":232312,\"value\":54,\"color\":\"#ffx10400\",\"node_name\":\"Industrial Designer\"},{\"id\":232411,\"value\":99,\"color\":\"#ff0000\",\"node_name\":\"Graphic Designer\"},{\"id\":232412,\"value\":88,\"color\":\"#ffx3f00\",\"node_name\":\"Illustrator\"},{\"id\":232414,\"value\":48,\"color\":\"#ffx12700\",\"node_name\":\"Web Designer\"},{\"id\":233111,\"value\":52,\"color\":\"#ffx11000\",\"node_name\":\"Chemical Engineer\"},{\"id\":233112,\"value\":12,\"color\":\"#ffx1f800\",\"node_name\":\"Materials Engineer\"},{\"id\":233212,\"value\":71,\"color\":\"#ffxa200\",\"node_name\":\"Geotechnical Engineer\"},{\"id\":233213,\"value\":19,\"color\":\"#ffx1cf00\",\"node_name\":\"Quantity Surveyor\"},{\"id\":233215,\"value\":79,\"color\":\"#ffx7300\",\"node_name\":\"Transport Engineer\"},{\"id\":233511,\"value\":93,\"color\":\"#ffx2200\",\"node_name\":\"Industrial Engineer\"},{\"id\":233512,\"value\":30,\"color\":\"#ffx18f00\",\"node_name\":\"Mechanical Engineer\"},{\"id\":233513,\"value\":27,\"color\":\"#ffx1a100\",\"node_name\":\"Production or Plant Engineer\"},{\"id\":233611,\"value\":73,\"color\":\"#ffx9600\",\"node_name\":\"Mining Engineer \"},{\"id\":233612,\"value\":34,\"color\":\"#ffx17800\",\"node_name\":\"Petroleum Engineer\"},{\"id\":233911,\"value\":80,\"color\":\"#ffx6e00\",\"node_name\":\"Aeronautical Engineer\"},{\"id\":233913,\"value\":49,\"color\":\"#ffx12100\",\"node_name\":\"Biomedical Engineer\"},{\"id\":233914,\"value\":92,\"color\":\"#ffx2800\",\"node_name\":\"Engineering Technologist\"},{\"id\":233915,\"value\":98,\"color\":\"#ffx500\",\"node_name\":\"Environmental Engineer\"},{\"id\":233916,\"value\":87,\"color\":\"#ffx4500\",\"node_name\":\"Naval Architect\"},{\"id\":234211,\"value\":41,\"color\":\"#ffx15000\",\"node_name\":\"Chemist\"},{\"id\":234212,\"value\":55,\"color\":\"#ffxff00\",\"node_name\":\"Food Technologist\"},{\"id\":234213,\"value\":13,\"color\":\"#ffx1f200\",\"node_name\":\"Wine Maker\"},{\"id\":234311,\"value\":77,\"color\":\"#ffx7f00\",\"node_name\":\"Conservation Officer\"},{\"id\":234312,\"value\":35,\"color\":\"#ffx17200\",\"node_name\":\"Environmental Consultant\"},{\"id\":234313,\"value\":99,\"color\":\"#ff0000\",\"node_name\":\"Environmental Research Scientist\"},{\"id\":234314,\"value\":90,\"color\":\"#ffx3400\",\"node_name\":\"Park Ranger\"},{\"id\":234511,\"value\":41,\"color\":\"#ffx15000\",\"node_name\":\"Life Scientist  \"},{\"id\":234514,\"value\":94,\"color\":\"#ffx1c00\",\"node_name\":\"Biotechnologist\"},{\"id\":234515,\"value\":95,\"color\":\"#ffx1700\",\"node_name\":\"Botanist\"},{\"id\":234517,\"value\":16,\"color\":\"#ffx1e100\",\"node_name\":\"Microbiologist\"},{\"id\":234518,\"value\":89,\"color\":\"#ffx3900\",\"node_name\":\"Zoologist\"},{\"id\":234911,\"value\":94,\"color\":\"#ffx1c00\",\"node_name\":\"Conservator\"},{\"id\":234913,\"value\":15,\"color\":\"#ffx1e600\",\"node_name\":\"Meteorologist\"},{\"id\":234914,\"value\":51,\"color\":\"#ffx11600\",\"node_name\":\"Physicist\"},{\"id\":242111,\"value\":38,\"color\":\"#ffx16100\",\"node_name\":\"University Lecturer\"},{\"id\":242112,\"value\":58,\"color\":\"#ffxed00\",\"node_name\":\"University Tutor\"},{\"id\":249214,\"value\":26,\"color\":\"#ffx1a700\",\"node_name\":\"Music Teacher \"},{\"id\":251211,\"value\":68,\"color\":\"#ffxb300\",\"node_name\":\"Medical Diagnostic Radiographer\"},{\"id\":251212,\"value\":47,\"color\":\"#ffx12d00\",\"node_name\":\"Medical Radiation Therapist\"},{\"id\":251214,\"value\":76,\"color\":\"#ffx8500\",\"node_name\":\"Sonographer\"},{\"id\":251311,\"value\":10,\"color\":\"#ffx20300\",\"node_name\":\"Environmental Health Officer\"},{\"id\":251312,\"value\":21,\"color\":\"#ffx1c400\",\"node_name\":\"Occupational Health and Safety Adviser\"},{\"id\":251411,\"value\":36,\"color\":\"#ffx16d00\",\"node_name\":\"Optometrist\"},{\"id\":251412,\"value\":23,\"color\":\"#ffx1b800\",\"node_name\":\"Orthoptist\"},{\"id\":251511,\"value\":10,\"color\":\"#ffx20300\",\"node_name\":\"Hospital Pharmacist\"},{\"id\":251513,\"value\":75,\"color\":\"#ffx8b00\",\"node_name\":\"Retail Pharmacist\"},{\"id\":251911,\"value\":50,\"color\":\"#ffx11b00\",\"node_name\":\"Health Promotion Officer\"},{\"id\":251912,\"value\":29,\"color\":\"#ffx19500\",\"node_name\":\"Orthotist or Prosthetist\"},{\"id\":252211,\"value\":41,\"color\":\"#ffx15000\",\"node_name\":\"Acupuncturist\"},{\"id\":252213,\"value\":70,\"color\":\"#ffxa800\",\"node_name\":\"Naturopath\"},{\"id\":252711,\"value\":83,\"color\":\"#ffx5c00\",\"node_name\":\"Audiologist\"},{\"id\":252712,\"value\":44,\"color\":\"#ffx13e00\",\"node_name\":\"Speech Pathologist\"},{\"id\":253111,\"value\":70,\"color\":\"#ffxa800\",\"node_name\":\"General Practitioner\"},{\"id\":253112,\"value\":92,\"color\":\"#ffx2800\",\"node_name\":\"Resident Medical Officer\"},{\"id\":253317,\"value\":95,\"color\":\"#ffx1700\",\"node_name\":\"Intensive Care Specialist\"},{\"id\":253318,\"value\":35,\"color\":\"#ffx17200\",\"node_name\":\"Neurologist\"},{\"id\":253321,\"value\":72,\"color\":\"#ffx9c00\",\"node_name\":\"Paediatrician\"},{\"id\":253324,\"value\":28,\"color\":\"#ffx19b00\",\"node_name\":\"Thoracic Medicine Specialist\"},{\"id\":253911,\"value\":39,\"color\":\"#ffx15b00\",\"node_name\":\"Dermatologist\"},{\"id\":253912,\"value\":97,\"color\":\"#ffxb00\",\"node_name\":\"Emergency Medicine Specialist\"},{\"id\":253913,\"value\":84,\"color\":\"#ffx5600\",\"node_name\":\"Obstetrician and Gynaecologist\"},{\"id\":253914,\"value\":49,\"color\":\"#ffx12100\",\"node_name\":\"Ophthalmologist\"},{\"id\":253915,\"value\":84,\"color\":\"#ffx5600\",\"node_name\":\"Pathologist\"},{\"id\":253917,\"value\":97,\"color\":\"#ffxb00\",\"node_name\":\"Diagnostic and Interventional Radiologist\"},{\"id\":254211,\"value\":92,\"color\":\"#ffx2800\",\"node_name\":\"Nurse Educator\"},{\"id\":254212,\"value\":38,\"color\":\"#ffx16100\",\"node_name\":\"Nurse Researcher\"},{\"id\":254411,\"value\":69,\"color\":\"#ffxad00\",\"node_name\":\"Nurse Practitioner\"},{\"id\":254412,\"value\":35,\"color\":\"#ffx17200\",\"node_name\":\"Registered Nurse (Aged Care)\"},{\"id\":254413,\"value\":25,\"color\":\"#ffx1ac00\",\"node_name\":\"Registered Nurse (Child and Family Health)\"},{\"id\":254414,\"value\":30,\"color\":\"#ffx18f00\",\"node_name\":\"Registered Nurse (Community Health)\"},{\"id\":254415,\"value\":53,\"color\":\"#ffx10a00\",\"node_name\":\"Registered Nurse (Critical Care and Emergency)\"},{\"id\":254416,\"value\":59,\"color\":\"#ffxe700\",\"node_name\":\"Registered Nurse (Developmental Disability)\"},{\"id\":254417,\"value\":29,\"color\":\"#ffx19500\",\"node_name\":\"Registered Nurse (Disability and Rehabilitation)\"},{\"id\":254418,\"value\":55,\"color\":\"#ffxff00\",\"node_name\":\"Registered Nurse (Medical)\"},{\"id\":254421,\"value\":61,\"color\":\"#ffxdc00\",\"node_name\":\"Registered Nurse (Medical Practice)\"},{\"id\":254422,\"value\":92,\"color\":\"#ffx2800\",\"node_name\":\"Registered Nurse (Mental Health)\"},{\"id\":254423,\"value\":45,\"color\":\"#ffx13800\",\"node_name\":\"Registered Nurse (Perioperative)\"},{\"id\":254424,\"value\":29,\"color\":\"#ffx19500\",\"node_name\":\"Registered Nurse (Surgical)\"},{\"id\":254425,\"value\":46,\"color\":\"#ffx13300\",\"node_name\":\"Registered Nurse (Paediatrics)\"},{\"id\":261211,\"value\":25,\"color\":\"#ffx1ac00\",\"node_name\":\"Multimedia Specialist\"},{\"id\":261212,\"value\":52,\"color\":\"#ffx11000\",\"node_name\":\"Web Developer\"},{\"id\":261311,\"value\":26,\"color\":\"#ffx1a700\",\"node_name\":\"Analyst Programmer\"},{\"id\":261312,\"value\":65,\"color\":\"#ffxc500\",\"node_name\":\"Developer Programmer\"},{\"id\":261313,\"value\":29,\"color\":\"#ffx19500\",\"node_name\":\"Software Engineer\"},{\"id\":261314,\"value\":53,\"color\":\"#ffx10a00\",\"node_name\":\"Software Tester\"},{\"id\":262111,\"value\":88,\"color\":\"#ffx3f00\",\"node_name\":\"Database Administrator\"},{\"id\":262112,\"value\":37,\"color\":\"#ffx16700\",\"node_name\":\"ICT Security Specialist\"},{\"id\":262113,\"value\":89,\"color\":\"#ffx3900\",\"node_name\":\"Systems Administrator\"},{\"id\":263111,\"value\":87,\"color\":\"#ffx4500\",\"node_name\":\"Computer Network and Systems Engineer\"},{\"id\":263112,\"value\":97,\"color\":\"#ffxb00\",\"node_name\":\"Network Administrator\"},{\"id\":263113,\"value\":13,\"color\":\"#ffx1f200\",\"node_name\":\"Network Analyst\"},{\"id\":263211,\"value\":66,\"color\":\"#ffxbf00\",\"node_name\":\"ICT Quality Assurance Engineer\"},{\"id\":263212,\"value\":58,\"color\":\"#ffxed00\",\"node_name\":\"ICT Support Engineer\"},{\"id\":263213,\"value\":12,\"color\":\"#ffx1f800\",\"node_name\":\"ICT Systems Test Engineer\"},{\"id\":272111,\"value\":51,\"color\":\"#ffx11600\",\"node_name\":\"Careers Counsellor\"},{\"id\":272112,\"value\":92,\"color\":\"#ffx2800\",\"node_name\":\"Drug and Alcohol Counsellor\"},{\"id\":272113,\"value\":24,\"color\":\"#ffx1b200\",\"node_name\":\"Family and Marriage Counsellor\"},{\"id\":272114,\"value\":19,\"color\":\"#ffx1cf00\",\"node_name\":\"Rehabilitation Counsellor\"},{\"id\":272115,\"value\":19,\"color\":\"#ffx1cf00\",\"node_name\":\"Student Counsellor\"},{\"id\":272311,\"value\":82,\"color\":\"#ffx6200\",\"node_name\":\"Clinical Psychologist\"},{\"id\":272312,\"value\":91,\"color\":\"#ffx2e00\",\"node_name\":\"Educational Psychologist\"},{\"id\":272313,\"value\":47,\"color\":\"#ffx12d00\",\"node_name\":\"Organisational Psychologist\"},{\"id\":272411,\"value\":20,\"color\":\"#ffx1c900\",\"node_name\":\"Historian\"},{\"id\":272412,\"value\":22,\"color\":\"#ffx1be00\",\"node_name\":\"Interpreter\"},{\"id\":272413,\"value\":80,\"color\":\"#ffx6e00\",\"node_name\":\"Translator\"},{\"id\":272612,\"value\":34,\"color\":\"#ffx17800\",\"node_name\":\"Recreation Officer\"},{\"id\":272613,\"value\":98,\"color\":\"#ffx500\",\"node_name\":\"Welfare Worker\"},{\"id\":311211,\"value\":58,\"color\":\"#ffxed00\",\"node_name\":\"Anaesthetic Technician\"},{\"id\":311212,\"value\":86,\"color\":\"#ffx4b00\",\"node_name\":\"Cardiac Technician\"},{\"id\":311213,\"value\":89,\"color\":\"#ffx3900\",\"node_name\":\"Medical Laboratory Technician\"},{\"id\":311214,\"value\":42,\"color\":\"#ffx14a00\",\"node_name\":\"Operating Theatre Technician\"},{\"id\":311215,\"value\":16,\"color\":\"#ffx1e100\",\"node_name\":\"Pharmacy Technician\"},{\"id\":311216,\"value\":36,\"color\":\"#ffx16d00\",\"node_name\":\"Pathology Collector\"},{\"id\":311411,\"value\":49,\"color\":\"#ffx12100\",\"node_name\":\"Chemistry Technician\"},{\"id\":311412,\"value\":54,\"color\":\"#ffx10400\",\"node_name\":\"Earth Science Technician\"},{\"id\":311413,\"value\":36,\"color\":\"#ffx16d00\",\"node_name\":\"Life Science Technician\"},{\"id\":312111,\"value\":70,\"color\":\"#ffxa800\",\"node_name\":\"Architectural Draftsperson\"},{\"id\":312112,\"value\":49,\"color\":\"#ffx12100\",\"node_name\":\"Building Associate\"},{\"id\":312113,\"value\":38,\"color\":\"#ffx16100\",\"node_name\":\"Building Inspector\"},{\"id\":312114,\"value\":61,\"color\":\"#ffxdc00\",\"node_name\":\"Construction Estimator\"},{\"id\":312116,\"value\":26,\"color\":\"#ffx1a700\",\"node_name\":\"Surveying or Spatial Science Technician\"},{\"id\":312211,\"value\":78,\"color\":\"#ffx7900\",\"node_name\":\"Civil Engineering Draftsperson\"},{\"id\":312212,\"value\":18,\"color\":\"#ffx1d500\",\"node_name\":\"Civil Engineering Technician\"},{\"id\":312311,\"value\":69,\"color\":\"#ffxad00\",\"node_name\":\"Electrical Engineering Draftsperson\"},{\"id\":312312,\"value\":40,\"color\":\"#ffx15500\",\"node_name\":\"Electrical Engineering Technician\"},{\"id\":312511,\"value\":71,\"color\":\"#ffxa200\",\"node_name\":\"Mechanical Engineering Draftsperson\"},{\"id\":313111,\"value\":25,\"color\":\"#ffx1ac00\",\"node_name\":\"Hardware Technician\"},{\"id\":313112,\"value\":55,\"color\":\"#ffxff00\",\"node_name\":\"ICT Customer Support Officer\"},{\"id\":313113,\"value\":95,\"color\":\"#ffx1700\",\"node_name\":\"Web Administrator\"},{\"id\":321211,\"value\":54,\"color\":\"#ffx10400\",\"node_name\":\"Motor Mechanic  \"},{\"id\":321212,\"value\":72,\"color\":\"#ffx9c00\",\"node_name\":\"Diesel Motor Mechanic\"},{\"id\":321213,\"value\":19,\"color\":\"#ffx1cf00\",\"node_name\":\"Motorcycle Mechanic\"},{\"id\":321214,\"value\":73,\"color\":\"#ffx9600\",\"node_name\":\"Small Engine Mechanic\"},{\"id\":322311,\"value\":38,\"color\":\"#ffx16100\",\"node_name\":\"Metal Fabricator\"},{\"id\":322313,\"value\":75,\"color\":\"#ffx8b00\",\"node_name\":\"Welder\"},{\"id\":323111,\"value\":31,\"color\":\"#ffx18a00\",\"node_name\":\"Aircraft Maintenance Engineer (Avionics)\"},{\"id\":323112,\"value\":41,\"color\":\"#ffx15000\",\"node_name\":\"Aircraft Maintenance Engineer (Mechanical)\"},{\"id\":323211,\"value\":46,\"color\":\"#ffx13300\",\"node_name\":\"Fitter  \"},{\"id\":323214,\"value\":56,\"color\":\"#ffxf900\",\"node_name\":\"Metal Machinist \"},{\"id\":323313,\"value\":41,\"color\":\"#ffx15000\",\"node_name\":\"Locksmith\"},{\"id\":323314,\"value\":39,\"color\":\"#ffx15b00\",\"node_name\":\"Precision Instrument Maker and Repairer\"},{\"id\":323316,\"value\":92,\"color\":\"#ffx2800\",\"node_name\":\"Watch and Clock Maker and Repairer\"},{\"id\":323411,\"value\":68,\"color\":\"#ffxb300\",\"node_name\":\"Engineering Patternmaker\"},{\"id\":323412,\"value\":91,\"color\":\"#ffx2e00\",\"node_name\":\"Toolmaker\"},{\"id\":331111,\"value\":66,\"color\":\"#ffxbf00\",\"node_name\":\"Bricklayer\"},{\"id\":331112,\"value\":72,\"color\":\"#ffx9c00\",\"node_name\":\"Stonemason\"},{\"id\":331212,\"value\":83,\"color\":\"#ffx5c00\",\"node_name\":\"Carpenter\"},{\"id\":331213,\"value\":60,\"color\":\"#ffxe200\",\"node_name\":\"Joiner\"},{\"id\":333212,\"value\":65,\"color\":\"#ffxc500\",\"node_name\":\"Solid Plasterer\"},{\"id\":334111,\"value\":95,\"color\":\"#ffx1700\",\"node_name\":\"Plumber  \"},{\"id\":334113,\"value\":40,\"color\":\"#ffx15500\",\"node_name\":\"Drainer\"},{\"id\":334114,\"value\":65,\"color\":\"#ffxc500\",\"node_name\":\"Gasfitter\"},{\"id\":334115,\"value\":26,\"color\":\"#ffx1a700\",\"node_name\":\"Roof Plumber\"},{\"id\":341113,\"value\":15,\"color\":\"#ffx1e600\",\"node_name\":\"Lift Mechanic\"},{\"id\":342311,\"value\":33,\"color\":\"#ffx17e00\",\"node_name\":\"Business Machine Mechanic\"},{\"id\":342312,\"value\":26,\"color\":\"#ffx1a700\",\"node_name\":\"Communications Operator\"},{\"id\":342313,\"value\":83,\"color\":\"#ffx5c00\",\"node_name\":\"Electronic Equipment Trades Worker\"},{\"id\":342314,\"value\":99,\"color\":\"#ff0000\",\"node_name\":\"Electronic Instrument Trades Worker  \"},{\"id\":342413,\"value\":22,\"color\":\"#ffx1be00\",\"node_name\":\"Telecommunications Linesworker\"},{\"id\":361113,\"value\":79,\"color\":\"#ffx7300\",\"node_name\":\"Pet Groomer\"},{\"id\":392111,\"value\":86,\"color\":\"#ffx4b00\",\"node_name\":\"Print Finisher\"},{\"id\":392112,\"value\":48,\"color\":\"#ffx12700\",\"node_name\":\"Screen Printer\"},{\"id\":393212,\"value\":75,\"color\":\"#ffx8b00\",\"node_name\":\"Clothing Patternmaker\"},{\"id\":393213,\"value\":13,\"color\":\"#ffx1f200\",\"node_name\":\"Dressmaker or Tailor\"},{\"id\":394211,\"value\":65,\"color\":\"#ffxc500\",\"node_name\":\"Furniture Finisher\"},{\"id\":394213,\"value\":23,\"color\":\"#ffx1b800\",\"node_name\":\"Wood Machinist\"},{\"id\":399212,\"value\":28,\"color\":\"#ffx19b00\",\"node_name\":\"Gas or Petroleum Operator\"},{\"id\":399213,\"value\":36,\"color\":\"#ffx16d00\",\"node_name\":\"Power Generation Plant Operator\"},{\"id\":399311,\"value\":13,\"color\":\"#ffx1f200\",\"node_name\":\"Gallery or Museum Technician\"},{\"id\":399312,\"value\":45,\"color\":\"#ffx13800\",\"node_name\":\"Library Technician\"},{\"id\":399511,\"value\":88,\"color\":\"#ffx3f00\",\"node_name\":\"Broadcast Transmitter Operator\"},{\"id\":399512,\"value\":92,\"color\":\"#ffx2800\",\"node_name\":\"Camera Operator \"},{\"id\":399514,\"value\":43,\"color\":\"#ffx14400\",\"node_name\":\"Make Up Artist\"},{\"id\":399515,\"value\":25,\"color\":\"#ffx1ac00\",\"node_name\":\"Musical Instrument Maker or Repairer\"},{\"id\":399516,\"value\":65,\"color\":\"#ffxc500\",\"node_name\":\"Sound Technician\"},{\"id\":399911,\"value\":84,\"color\":\"#ffx5600\",\"node_name\":\"Diver\"},{\"id\":399913,\"value\":87,\"color\":\"#ffx4500\",\"node_name\":\"Optical Dispenser\"},{\"id\":411211,\"value\":38,\"color\":\"#ffx16100\",\"node_name\":\"Dental Hygienist\"},{\"id\":411213,\"value\":61,\"color\":\"#ffxdc00\",\"node_name\":\"Dental Technician\"},{\"id\":411214,\"value\":46,\"color\":\"#ffx13300\",\"node_name\":\"Dental Therapist\"},{\"id\":411411,\"value\":73,\"color\":\"#ffx9600\",\"node_name\":\"Enrolled Nurse\"},{\"id\":411412,\"value\":83,\"color\":\"#ffx5c00\",\"node_name\":\"Mothercraft Nurse\"},{\"id\":411711,\"value\":99,\"color\":\"#ff0000\",\"node_name\":\"Community Worker\"},{\"id\":411713,\"value\":24,\"color\":\"#ffx1b200\",\"node_name\":\"Family Support Worker\"},{\"id\":411714,\"value\":90,\"color\":\"#ffx3400\",\"node_name\":\"Parole or Probation Officer\"},{\"id\":411715,\"value\":39,\"color\":\"#ffx15b00\",\"node_name\":\"Residential Care Officer\"},{\"id\":411716,\"value\":40,\"color\":\"#ffx15500\",\"node_name\":\"Youth Worker\"},{\"id\":421111,\"value\":38,\"color\":\"#ffx16100\",\"node_name\":\"Child Care Worker\"},{\"id\":421113,\"value\":87,\"color\":\"#ffx4500\",\"node_name\":\"Nanny\"},{\"id\":422112,\"value\":80,\"color\":\"#ffx6e00\",\"node_name\":\"Integration Aide\"},{\"id\":423311,\"value\":99,\"color\":\"#ff0000\",\"node_name\":\"Hospital Orderly\"},{\"id\":423312,\"value\":50,\"color\":\"#ffx11b00\",\"node_name\":\"Nursing Support Worker\"},{\"id\":423313,\"value\":48,\"color\":\"#ffx12700\",\"node_name\":\"Personal Care Assistant\"},{\"id\":423314,\"value\":94,\"color\":\"#ffx1c00\",\"node_name\":\"Therapy Aide\"},{\"id\":431111,\"value\":54,\"color\":\"#ffx10400\",\"node_name\":\"Bar Attendant\"},{\"id\":431112,\"value\":48,\"color\":\"#ffx12700\",\"node_name\":\"Barista\"},{\"id\":431912,\"value\":57,\"color\":\"#ffxf300\",\"node_name\":\"Doorperson or Luggage Porter\"},{\"id\":441211,\"value\":96,\"color\":\"#ffx1100\",\"node_name\":\"Emergency Service Worker\"},{\"id\":441212,\"value\":85,\"color\":\"#ffx5100\",\"node_name\":\"Fire Fighter\"},{\"id\":441311,\"value\":14,\"color\":\"#ffx1ec00\",\"node_name\":\"Detective\"},{\"id\":441312,\"value\":79,\"color\":\"#ffx7300\",\"node_name\":\"Police Officer\"},{\"id\":442214,\"value\":30,\"color\":\"#ffx18f00\",\"node_name\":\"Private Investigator\"},{\"id\":442216,\"value\":69,\"color\":\"#ffxad00\",\"node_name\":\"Security Consultant\"},{\"id\":442217,\"value\":22,\"color\":\"#ffx1be00\",\"node_name\":\"Security Officer\"},{\"id\":452322,\"value\":25,\"color\":\"#ffx1ac00\",\"node_name\":\"Sports Umpire\"},{\"id\":452414,\"value\":31,\"color\":\"#ffx18a00\",\"node_name\":\"Lifeguard\"},{\"id\":511112,\"value\":16,\"color\":\"#ffx1e100\",\"node_name\":\"Program or Project Administrator\"},{\"id\":512211,\"value\":61,\"color\":\"#ffxdc00\",\"node_name\":\"Health Practice Manager\"},{\"id\":521211,\"value\":64,\"color\":\"#ffxca00\",\"node_name\":\"Secretary  \"},{\"id\":521212,\"value\":47,\"color\":\"#ffx12d00\",\"node_name\":\"Legal Secretary\"},{\"id\":532111,\"value\":33,\"color\":\"#ffx17e00\",\"node_name\":\"Data Entry Operator\"},{\"id\":532113,\"value\":58,\"color\":\"#ffxed00\",\"node_name\":\"Word Processing Operator\"},{\"id\":541111,\"value\":45,\"color\":\"#ffx13800\",\"node_name\":\"Call or Contact Centre Team Leader\"},{\"id\":541112,\"value\":75,\"color\":\"#ffx8b00\",\"node_name\":\"Call or Contact Centre Operator\"},{\"id\":542111,\"value\":99,\"color\":\"#ff0000\",\"node_name\":\"Receptionist  \"},{\"id\":542112,\"value\":68,\"color\":\"#ffxb300\",\"node_name\":\"Admissions Clerk\"},{\"id\":542113,\"value\":77,\"color\":\"#ffx7f00\",\"node_name\":\"Hotel or Motel Receptionist\"},{\"id\":542114,\"value\":34,\"color\":\"#ffx17800\",\"node_name\":\"Medical Receptionist\"},{\"id\":551111,\"value\":94,\"color\":\"#ffx1c00\",\"node_name\":\"Accounts Clerk\"},{\"id\":551112,\"value\":11,\"color\":\"#ffx1fe00\",\"node_name\":\"Cost Clerk\"},{\"id\":552312,\"value\":92,\"color\":\"#ffx2800\",\"node_name\":\"Insurance Consultant\"},{\"id\":552314,\"value\":65,\"color\":\"#ffxc500\",\"node_name\":\"Statistical Clerk\"},{\"id\":561211,\"value\":16,\"color\":\"#ffx1e100\",\"node_name\":\"Courier\"},{\"id\":561212,\"value\":91,\"color\":\"#ffx2e00\",\"node_name\":\"Postal Delivery Officer\"},{\"id\":561411,\"value\":88,\"color\":\"#ffx3f00\",\"node_name\":\"Mail Clerk\"},{\"id\":561912,\"value\":59,\"color\":\"#ffxe700\",\"node_name\":\"Meter Reader\"},{\"id\":561913,\"value\":21,\"color\":\"#ffx1c400\",\"node_name\":\"Parking Inspector\"},{\"id\":591112,\"value\":46,\"color\":\"#ffx13300\",\"node_name\":\"Production Clerk\"},{\"id\":591113,\"value\":80,\"color\":\"#ffx6e00\",\"node_name\":\"Purchasing Officer\"},{\"id\":591115,\"value\":63,\"color\":\"#ffxd000\",\"node_name\":\"Stock Clerk\"},{\"id\":591116,\"value\":86,\"color\":\"#ffx4b00\",\"node_name\":\"Warehouse Administrator\"},{\"id\":591117,\"value\":40,\"color\":\"#ffx15500\",\"node_name\":\"Order Clerk\"},{\"id\":599511,\"value\":54,\"color\":\"#ffx10400\",\"node_name\":\"Customs Officer\"},{\"id\":599512,\"value\":92,\"color\":\"#ffx2800\",\"node_name\":\"Immigration Officer\"},{\"id\":599516,\"value\":73,\"color\":\"#ffx9600\",\"node_name\":\"Taxation Inspector\"},{\"id\":599518,\"value\":33,\"color\":\"#ffx17e00\",\"node_name\":\"Transport Operations Inspector\"},{\"id\":599913,\"value\":47,\"color\":\"#ffx12d00\",\"node_name\":\"Proof Reader\"},{\"id\":599914,\"value\":50,\"color\":\"#ffx11b00\",\"node_name\":\"Radio Despatcher\"},{\"id\":599916,\"value\":37,\"color\":\"#ffx16700\",\"node_name\":\"Facilities Administrator\"},{\"id\":612112,\"value\":13,\"color\":\"#ffx1f200\",\"node_name\":\"Property Manager\"},{\"id\":612114,\"value\":52,\"color\":\"#ffx11000\",\"node_name\":\"Real Estate Agent\"},{\"id\":612115,\"value\":97,\"color\":\"#ffxb00\",\"node_name\":\"Real Estate Representative\"},{\"id\":621311,\"value\":70,\"color\":\"#ffxa800\",\"node_name\":\"Motor Vehicle or Caravan Salesperson\"},{\"id\":621312,\"value\":10,\"color\":\"#ffx20300\",\"node_name\":\"Motor Vehicle Parts Interpreter\"},{\"id\":621911,\"value\":77,\"color\":\"#ffx7f00\",\"node_name\":\"Materials Recycler\"},{\"id\":639111,\"value\":17,\"color\":\"#ffx1db00\",\"node_name\":\"Model\"},{\"id\":639112,\"value\":67,\"color\":\"#ffxb900\",\"node_name\":\"Sales Demonstrator\"},{\"id\":639211,\"value\":28,\"color\":\"#ffx19b00\",\"node_name\":\"Retail Buyer\"},{\"id\":711912,\"value\":53,\"color\":\"#ffx10a00\",\"node_name\":\"Motion Picture Projectionist\"},{\"id\":711914,\"value\":41,\"color\":\"#ffx15000\",\"node_name\":\"Sterilisation Technician\"},{\"id\":712211,\"value\":86,\"color\":\"#ffx4b00\",\"node_name\":\"Driller\"},{\"id\":712213,\"value\":86,\"color\":\"#ffx4b00\",\"node_name\":\"Shot Firer\"},{\"id\":712911,\"value\":95,\"color\":\"#ffx1700\",\"node_name\":\"Boiler or Engine Operator\"},{\"id\":712912,\"value\":32,\"color\":\"#ffx18400\",\"node_name\":\"Bulk Materials Handling Plant Operator\"},{\"id\":712915,\"value\":55,\"color\":\"#ffxff00\",\"node_name\":\"Concrete Pump Operator\"},{\"id\":712917,\"value\":69,\"color\":\"#ffxad00\",\"node_name\":\"Railway Signal Operator\"},{\"id\":712921,\"value\":84,\"color\":\"#ffx5600\",\"node_name\":\"Waste Water or Water Plant Operator\"},{\"id\":712922,\"value\":62,\"color\":\"#ffxd600\",\"node_name\":\"Weighbridge Operator\"},{\"id\":721111,\"value\":26,\"color\":\"#ffx1a700\",\"node_name\":\"Agricultural and Horticultural Mobile Plant Operator\"},{\"id\":721211,\"value\":52,\"color\":\"#ffx11000\",\"node_name\":\"Earthmoving Plant Operator  \"},{\"id\":721212,\"value\":83,\"color\":\"#ffx5c00\",\"node_name\":\"Backhoe Operator\"},{\"id\":721213,\"value\":66,\"color\":\"#ffxbf00\",\"node_name\":\"Bulldozer Operator\"},{\"id\":721214,\"value\":95,\"color\":\"#ffx1700\",\"node_name\":\"Excavator Operator\"},{\"id\":721215,\"value\":47,\"color\":\"#ffx12d00\",\"node_name\":\"Grader Operator\"},{\"id\":721216,\"value\":71,\"color\":\"#ffxa200\",\"node_name\":\"Loader Operator\"},{\"id\":721913,\"value\":79,\"color\":\"#ffx7300\",\"node_name\":\"Paving Plant Operator\"},{\"id\":721915,\"value\":66,\"color\":\"#ffxbf00\",\"node_name\":\"Road Roller Operator\"},{\"id\":731311,\"value\":67,\"color\":\"#ffxb900\",\"node_name\":\"Train Driver\"},{\"id\":821111,\"value\":46,\"color\":\"#ffx13300\",\"node_name\":\"Builder's Labourer\"},{\"id\":821411,\"value\":72,\"color\":\"#ffx9c00\",\"node_name\":\"Building Insulation Installer\"},{\"id\":821412,\"value\":75,\"color\":\"#ffx8b00\",\"node_name\":\"Home Improvement Installer\"},{\"id\":821711,\"value\":11,\"color\":\"#ffx1fe00\",\"node_name\":\"Construction Rigger\"},{\"id\":821712,\"value\":81,\"color\":\"#ffx6800\",\"node_name\":\"Scaffolder\"},{\"id\":821713,\"value\":35,\"color\":\"#ffx17200\",\"node_name\":\"Steel Fixer\"},{\"id\":821714,\"value\":43,\"color\":\"#ffx14400\",\"node_name\":\"Structural Steel Erector\"},{\"id\":821911,\"value\":14,\"color\":\"#ffx1ec00\",\"node_name\":\"Crane Chaser\"},{\"id\":821912,\"value\":51,\"color\":\"#ffx11600\",\"node_name\":\"Driller's Assistant\"},{\"id\":821913,\"value\":49,\"color\":\"#ffx12100\",\"node_name\":\"Lagger\"},{\"id\":821914,\"value\":77,\"color\":\"#ffx7f00\",\"node_name\":\"Mining Support Worker\"},{\"id\":831211,\"value\":21,\"color\":\"#ffx1c400\",\"node_name\":\"Meat Boner and Slicer\"},{\"id\":831212,\"value\":53,\"color\":\"#ffx10a00\",\"node_name\":\"Slaughterer\"},{\"id\":839311,\"value\":74,\"color\":\"#ffx9000\",\"node_name\":\"Product Examiner\"},{\"id\":839312,\"value\":13,\"color\":\"#ffx1f200\",\"node_name\":\"Product Grader\"},{\"id\":839313,\"value\":68,\"color\":\"#ffxb300\",\"node_name\":\"Product Tester\"},{\"id\":839912,\"value\":64,\"color\":\"#ffxca00\",\"node_name\":\"Chemical Plant Worker\"},{\"id\":839918,\"value\":17,\"color\":\"#ffx1db00\",\"node_name\":\"Recycling Worker\"},{\"id\":841311,\"value\":12,\"color\":\"#ffx1f800\",\"node_name\":\"Forestry Worker\"},{\"id\":841312,\"value\":14,\"color\":\"#ffx1ec00\",\"node_name\":\"Logging Assistant\"},{\"id\":841313,\"value\":88,\"color\":\"#ffx3f00\",\"node_name\":\"Tree Faller\"},{\"id\":841911,\"value\":25,\"color\":\"#ffx1ac00\",\"node_name\":\"Hunter-Trapper\"},{\"id\":841913,\"value\":68,\"color\":\"#ffxb300\",\"node_name\":\"Pest Controller\"},{\"id\":899211,\"value\":62,\"color\":\"#ffxd600\",\"node_name\":\"Deck Hand\"},{\"id\":899412,\"value\":96,\"color\":\"#ffx1100\",\"node_name\":\"Autoglazier\"},{\"id\":899415,\"value\":85,\"color\":\"#ffx5100\",\"node_name\":\"Tyre Fitter\"},{\"id\":899911,\"value\":97,\"color\":\"#ffxb00\",\"node_name\":\"Bicycle Mechanic\"},{\"id\":899913,\"value\":11,\"color\":\"#ffx1fe00\",\"node_name\":\"Crossing Supervisor\"},{\"id\":899914,\"value\":75,\"color\":\"#ffx8b00\",\"node_name\":\"Electrical or Telecommunications Trades Assistant\"},{\"id\":899915,\"value\":46,\"color\":\"#ffx13300\",\"node_name\":\"Leaflet or Newspaper Deliverer\"},{\"id\":899918,\"value\":54,\"color\":\"#ffx10400\",\"node_name\":\"Sign Erector\"},{\"id\":899921,\"value\":96,\"color\":\"#ffx1100\",\"node_name\":\"Ticket Collector or Usher\"},{\"id\":899923,\"value\":33,\"color\":\"#ffx17e00\",\"node_name\":\"Road Traffic Controller\"}];\n",
       "          var graph_data = {'nodes': [{'id': 3421, 'x': 0.1532980501651764, 'y': -0.1180478185415268}, {'id': 821711, 'x': 0.08255980163812637, 'y': -0.0978107675909996}, {'id': 253913, 'x': 0.13003009557724, 'y': -0.06329499185085297}, {'id': 2492, 'x': -0.4938978850841522, 'y': 0.2972426414489746}, {'id': 224412, 'x': -0.45053836703300476, 'y': 0.26077136397361755}, {'id': 311413, 'x': 0.0034414504189044237, 'y': -0.21544793248176575}, {'id': 612114, 'x': 0.015669019892811775, 'y': -0.20309501886367798}, {'id': 4521, 'x': 0.06983891874551773, 'y': -0.03451353311538696}, {'id': 899913, 'x': 0.023552440106868744, 'y': -0.007118484936654568}, {'id': 8511, 'x': 0.1564926952123642, 'y': -0.08661393076181412}, {'id': 3623, 'x': 0.03200344368815422, 'y': 0.12745827436447144}, {'id': 423311, 'x': 0.05574546754360199, 'y': 0.10054232180118561}, {'id': 261312, 'x': 0.04343348741531372, 'y': -0.3726136386394501}, {'id': 721216, 'x': 0.0377870611846447, 'y': -0.44817695021629333}, {'id': 252712, 'x': 0.031109875068068504, 'y': -0.22061842679977417}, {'id': 1333, 'x': 0.10902246087789536, 'y': -0.27007976174354553}, {'id': 639112, 'x': 0.06856447458267212, 'y': -0.20661108195781708}, {'id': 233913, 'x': 0.004605456255376339, 'y': 0.23578216135501862}, {'id': 423314, 'x': 0.009577917866408825, 'y': 0.1683465838432312}, {'id': 211113, 'x': 0.09784597158432007, 'y': -0.18968011438846588}, {'id': 251312, 'x': 0.040938783437013626, 'y': -0.1367555856704712}, {'id': 7311, 'x': 0.09693524241447449, 'y': -0.1824447363615036}, {'id': 2322, 'x': -0.07521255314350128, 'y': -0.2061094492673874}, {'id': 223111, 'x': -0.03022690676152706, 'y': -0.19142013788223267}, {'id': 233213, 'x': 0.004109201952815056, 'y': -0.29027482867240906}, {'id': 133512, 'x': 0.07066205888986588, 'y': -0.2500264644622803}, {'id': 311215, 'x': -0.14283180236816406, 'y': 0.20037132501602173}, {'id': 839313, 'x': -0.12762431800365448, 'y': 0.14448340237140656}, {'id': 224111, 'x': 0.06724449247121811, 'y': 0.007906234823167324}, {'id': 721211, 'x': 0.016128337010741234, 'y': 0.019050829112529755}, {'id': 272115, 'x': 0.09482159465551376, 'y': -0.2652381956577301}, {'id': 2123, 'x': -0.1257161647081375, 'y': -0.19224075973033905}, {'id': 254423, 'x': -0.06669623404741287, 'y': -0.12108948081731796}, {'id': 5311, 'x': -0.05641932040452957, 'y': -0.348951131105423}, {'id': 149914, 'x': -0.038124483078718185, 'y': -0.2773030698299408}, {'id': 5994, 'x': 0.08846527338027954, 'y': -0.06319701671600342}, {'id': 599516, 'x': 0.05500776693224907, 'y': -0.10719042271375656}, {'id': 7112, 'x': -0.06898798793554306, 'y': -0.30544328689575195}, {'id': 8416, 'x': -0.06717868149280548, 'y': -0.2662178874015808}, {'id': 2712, 'x': -0.09202422946691513, 'y': -0.2659408748149872}, {'id': 5513, 'x': 0.02821829542517662, 'y': -0.2918241322040558}, {'id': 311214, 'x': 0.06164424121379852, 'y': -0.2779121398925781}, {'id': 3242, 'x': 0.04848271980881691, 'y': -0.2327881008386612}, {'id': 253111, 'x': 0.043485481292009354, 'y': -0.27353066205978394}, {'id': 411412, 'x': 0.03793224319815636, 'y': -0.17775499820709229}, {'id': 821912, 'x': 0.0078468332067132, 'y': -0.17063675820827484}, {'id': 233914, 'x': 0.0384710319340229, 'y': 0.12119720876216888}, {'id': 2411, 'x': 0.030744075775146484, 'y': 0.2228299081325531}, {'id': 8911, 'x': 0.0016583724645897746, 'y': 0.15483534336090088}, {'id': 224512, 'x': 0.020199768245220184, 'y': -0.30735448002815247}, {'id': 2341, 'x': -0.002061613369733095, 'y': -0.07855723798274994}, {'id': 841313, 'x': -0.03161356970667839, 'y': -0.04291490092873573}, {'id': 232411, 'x': -0.07568719983100891, 'y': 0.04793143272399902}, {'id': 721913, 'x': -0.02888474240899086, 'y': 0.057991381734609604}, {'id': 321211, 'x': -0.004105514846742153, 'y': 0.008529630489647388}, {'id': 394211, 'x': 0.0170118547976017, 'y': 0.09729383140802383}, {'id': 6214, 'x': 0.10141785442829132, 'y': 0.15686382353305817}, {'id': 272613, 'x': 0.0978001058101654, 'y': 0.10628155618906021}, {'id': 3933, 'x': -0.04926413670182228, 'y': 0.027245858684182167}, {'id': 212112, 'x': -0.05340274050831795, 'y': -0.21562987565994263}, {'id': 541111, 'x': -0.09412109106779099, 'y': -0.19260846078395844}, {'id': 8997, 'x': -0.03597390651702881, 'y': -0.2441348284482956}, {'id': 224213, 'x': -0.0713009312748909, 'y': -0.0718032717704773}, {'id': 599914, 'x': -0.04742703586816788, 'y': -0.06001561880111694}, {'id': 4113, 'x': -0.1700388789176941, 'y': 0.057151827961206436}, {'id': 224711, 'x': -0.15010447800159454, 'y': 0.03133980557322502}, {'id': 2541, 'x': 0.018057717010378838, 'y': -0.059890035539865494}, {'id': 7115, 'x': 0.06889133900403976, 'y': -0.13476821780204773}, {'id': 841311, 'x': 0.016029661521315575, 'y': -0.11698711663484573}, {'id': 5412, 'x': -0.06766922771930695, 'y': -0.05636289343237877}, {'id': 6113, 'x': 0.08344916254281998, 'y': -0.04959506168961525}, {'id': 711912, 'x': 0.19536666572093964, 'y': -0.07685226947069168}, {'id': 7114, 'x': 0.04529757425189018, 'y': -0.358001708984375}, {'id': 323412, 'x': 0.08827216178178787, 'y': -0.25059133768081665}, {'id': 5996, 'x': -0.24288137257099152, 'y': 0.18214453756809235}, {'id': 272114, 'x': -0.18405991792678833, 'y': 0.14612559974193573}, {'id': 899923, 'x': 0.05678198114037514, 'y': 0.052561625838279724}, {'id': 3113, 'x': -0.011708369478583336, 'y': -0.11111793667078018}, {'id': 135111, 'x': 0.06279180943965912, 'y': -0.37518569827079773}, {'id': 252213, 'x': 0.05519188567996025, 'y': -0.30384397506713867}, {'id': 2534, 'x': 0.10678078979253769, 'y': -0.31880542635917664}, {'id': 149913, 'x': -0.12315315753221512, 'y': 0.14726899564266205}, {'id': 313112, 'x': 0.11063706874847412, 'y': -0.038838453590869904}, {'id': 821914, 'x': 0.07253793627023697, 'y': -0.0010814942652359605}, {'id': 5611, 'x': 0.17467863857746124, 'y': -0.06731963902711868}, {'id': 561912, 'x': 0.09176064282655716, 'y': -0.058481644839048386}, {'id': 841312, 'x': 0.06189723312854767, 'y': -0.07618090510368347}, {'id': 221113, 'x': 0.07101386040449142, 'y': 0.16775482892990112}, {'id': 411411, 'x': 0.018243808299303055, 'y': 0.10833726823329926}, {'id': 234311, 'x': -0.0989278107881546, 'y': 0.17271554470062256}, {'id': 8415, 'x': -0.12366221845149994, 'y': -0.09805050492286682}, {'id': 721212, 'x': -0.09679964929819107, 'y': -0.09710834175348282}, {'id': 323111, 'x': 0.12460138648748398, 'y': -0.29982447624206543}, {'id': 452414, 'x': 0.1079101413488388, 'y': -0.0455026812851429}, {'id': 3622, 'x': 0.08250193297863007, 'y': -0.20289663970470428}, {'id': 5992, 'x': -0.01814241148531437, 'y': -0.22464613616466522}, {'id': 3511, 'x': 0.0154598169028759, 'y': 0.1800413280725479}, {'id': 211111, 'x': 0.16477131843566895, 'y': -0.02118801698088646}, {'id': 323411, 'x': 0.1665090173482895, 'y': 0.05912841483950615}, {'id': 6395, 'x': -0.0875597596168518, 'y': 0.057027801871299744}, {'id': 2633, 'x': -0.12036383152008057, 'y': -0.270896315574646}, {'id': 311212, 'x': -0.05597647279500961, 'y': 0.08385875821113586}, {'id': 821712, 'x': -0.00023619862622581422, 'y': 0.05068197846412659}, {'id': 8114, 'x': 0.020596424117684364, 'y': -0.14514115452766418}, {'id': 721214, 'x': -0.0008737505995668471, 'y': -0.2235860526561737}, {'id': 1336, 'x': -0.11526643484830856, 'y': 0.040138810873031616}, {'id': 442214, 'x': -0.13519173860549927, 'y': 0.08549616485834122}, {'id': 1491, 'x': -0.24148012697696686, 'y': 0.20544694364070892}, {'id': 242111, 'x': -0.04830203950405121, 'y': 0.03956830874085426}, {'id': 7117, 'x': -0.00569413835182786, 'y': -0.26723188161849976}, {'id': 221214, 'x': 0.027736615389585495, 'y': -0.32330548763275146}, {'id': 321213, 'x': -0.3482726812362671, 'y': 0.17789973318576813}, {'id': 312211, 'x': 0.11187055706977844, 'y': -0.15984636545181274}, {'id': 3923, 'x': -0.16864994168281555, 'y': 0.21199162304401398}, {'id': 542114, 'x': -0.13317467272281647, 'y': 0.14302076399326324}, {'id': 532113, 'x': -0.032659824937582016, 'y': 0.002140273107215762}, {'id': 3322, 'x': 0.1963798850774765, 'y': -0.03872572258114815}, {'id': 311213, 'x': 0.10526718199253082, 'y': 0.02757382020354271}, {'id': 394213, 'x': -0.04969189316034317, 'y': -0.027431249618530273}, {'id': 411714, 'x': -0.01149541325867176, 'y': 0.002874338999390602}, {'id': 7411, 'x': -0.19772066175937653, 'y': -0.24926751852035522}, {'id': 331212, 'x': -0.020301921293139458, 'y': 0.18554918467998505}, {'id': 831212, 'x': -0.03817012161016464, 'y': -0.0770006775856018}, {'id': 839312, 'x': -0.0006555488798767328, 'y': 0.11018797010183334}, {'id': 254416, 'x': -0.047135233879089355, 'y': 0.06504698842763901}, {'id': 3321, 'x': 0.08838308602571487, 'y': 0.15473856031894684}, {'id': 224712, 'x': -0.15697431564331055, 'y': 0.17975802719593048}, {'id': 1324, 'x': 0.19287237524986267, 'y': 0.004371024202555418}, {'id': 5614, 'x': -0.20970594882965088, 'y': 0.06019420549273491}, {'id': 233511, 'x': -0.128306046128273, 'y': 0.044554706662893295}, {'id': 254212, 'x': -0.010137139819562435, 'y': 0.12118864804506302}, {'id': 1414, 'x': 0.12836246192455292, 'y': -0.25540679693222046}, {'id': 4524, 'x': -0.0083936657756567, 'y': 0.0707135871052742}, {'id': 263111, 'x': -0.10381901264190674, 'y': 0.055128730833530426}, {'id': 322311, 'x': -0.006063195876777172, 'y': 0.13911980390548706}, {'id': 5991, 'x': 0.035221513360738754, 'y': 0.01036799419671297}, {'id': 1413, 'x': -0.049328841269016266, 'y': 0.1064082607626915}, {'id': 2413, 'x': -0.17210201919078827, 'y': 0.21303531527519226}, {'id': 5997, 'x': -0.10792860388755798, 'y': 0.2377578616142273}, {'id': 212212, 'x': 0.017079364508390427, 'y': -0.031820181757211685}, {'id': 254418, 'x': 0.021936777979135513, 'y': 0.06725036352872849}, {'id': 521212, 'x': -0.06796387583017349, 'y': 0.05390867218375206}, {'id': 839311, 'x': 0.02024225704371929, 'y': 0.09541100263595581}, {'id': 1112, 'x': -0.04477423429489136, 'y': -0.033842332661151886}, {'id': 4234, 'x': -0.09717801213264465, 'y': 0.010006695054471493}, {'id': 521211, 'x': 0.06334187835454941, 'y': 0.03200780227780342}, {'id': 2721, 'x': -0.013033919967710972, 'y': 0.10190611332654953}, {'id': 323211, 'x': 0.11696326732635498, 'y': 0.036009591072797775}, {'id': 4312, 'x': -0.04821465536952019, 'y': 0.09274280071258545}, {'id': 149413, 'x': -0.017206089571118355, 'y': 0.17171573638916016}, {'id': 234911, 'x': -0.07134711742401123, 'y': 0.21665765345096588}, {'id': 272112, 'x': -0.16086700558662415, 'y': 0.12541568279266357}, {'id': 441312, 'x': -0.09680639952421188, 'y': 0.14972147345542908}, {'id': 5121, 'x': -0.2190266102552414, 'y': 0.15112532675266266}, {'id': 6217, 'x': -0.1439797431230545, 'y': 0.10247683525085449}, {'id': 393212, 'x': -0.0952068567276001, 'y': -0.03485148027539253}, {'id': 399312, 'x': -0.11344008892774582, 'y': -0.06714314967393875}, {'id': 411716, 'x': -0.057695817202329636, 'y': 0.11300874501466751}, {'id': 7312, 'x': 0.1441306620836258, 'y': 0.2855020761489868}, {'id': 212314, 'x': 0.08511914312839508, 'y': 0.23305641114711761}, {'id': 263112, 'x': 0.1684800535440445, 'y': -0.1600637137889862}, {'id': 225113, 'x': -0.14515215158462524, 'y': 0.2101830244064331}, {'id': 4315, 'x': -0.19264234602451324, 'y': 0.04482540488243103}, {'id': 272612, 'x': 0.02783472090959549, 'y': -0.027774309739470482}, {'id': 312116, 'x': -0.08072011172771454, 'y': 0.1114644780755043}, {'id': 149212, 'x': 0.03558674082159996, 'y': -0.11582817137241364}, {'id': 899415, 'x': -0.0037067513912916183, 'y': -0.0721224695444107}, {'id': 5512, 'x': -0.055673085153102875, 'y': 0.2441333830356598}, {'id': 254413, 'x': 0.02495141513645649, 'y': -0.01538732461631298}, {'id': 2245, 'x': -0.0782356932759285, 'y': -0.003516565775498748}, {'id': 2522, 'x': 0.15174126625061035, 'y': -0.01216841023415327}, {'id': 8113, 'x': 0.22330495715141296, 'y': -0.05674327537417412}, {'id': 5995, 'x': 0.046292077749967575, 'y': -0.18915529549121857}, {'id': 441211, 'x': 0.01776329055428505, 'y': 0.16448591649532318}, {'id': 3911, 'x': -0.01641003228724003, 'y': -0.03885586932301521}, {'id': 232311, 'x': 0.08660641312599182, 'y': 0.04162202030420303}, {'id': 731311, 'x': 0.016878698021173477, 'y': -0.16708818078041077}, {'id': 263211, 'x': -0.12255414575338364, 'y': -0.11056560277938843}, {'id': 134411, 'x': -0.08852187544107437, 'y': -0.14031559228897095}, {'id': 342413, 'x': -0.06629066169261932, 'y': -0.08186705410480499}, {'id': 234313, 'x': 0.12419506907463074, 'y': -0.20944403111934662}, {'id': 399212, 'x': 0.11703281849622726, 'y': -0.2806292474269867}, {'id': 139912, 'x': -0.08309029787778854, 'y': 0.014629182405769825}, {'id': 311216, 'x': -0.09082712233066559, 'y': 0.08781526982784271}, {'id': 221212, 'x': 0.13762889802455902, 'y': 0.053987421095371246}, {'id': 224211, 'x': -0.12074363231658936, 'y': 0.005761879030615091}, {'id': 421111, 'x': -0.08525898307561874, 'y': 0.006476576440036297}, {'id': 8912, 'x': -0.01791156828403473, 'y': -0.28997838497161865}, {'id': 411715, 'x': -0.0715315118432045, 'y': -0.011446316726505756}, {'id': 899412, 'x': -0.020868483930826187, 'y': 0.05553598701953888}, {'id': 1493, 'x': -0.1461096853017807, 'y': 0.04727057367563248}, {'id': 591115, 'x': -0.09827139973640442, 'y': 0.020731324329972267}, {'id': 253912, 'x': -0.09376850724220276, 'y': 0.12390881776809692}, {'id': 6311, 'x': -0.09461531788110733, 'y': 0.19979892671108246}, {'id': 254414, 'x': -0.04945497214794159, 'y': 0.11108063906431198}, {'id': 272313, 'x': -0.02578243426978588, 'y': 0.10147925466299057}, {'id': 233512, 'x': -0.15609793365001678, 'y': 0.060582347214221954}, {'id': 1344, 'x': 0.19886332750320435, 'y': -0.013234080746769905}, {'id': 234518, 'x': 0.22278036177158356, 'y': -0.07473834604024887}, {'id': 253915, 'x': -0.08612187951803207, 'y': 0.03366812691092491}, {'id': 612115, 'x': 0.04331903159618378, 'y': 0.013473516330122948}, {'id': 4116, 'x': -0.06704520434141159, 'y': -0.34448304772377014}, {'id': 6393, 'x': 0.10525023937225342, 'y': -0.053575485944747925}, {'id': 3922, 'x': 0.034877024590969086, 'y': -0.16063463687896729}, {'id': 2333, 'x': 0.022453639656305313, 'y': -0.22918926179409027}, {'id': 234213, 'x': -0.09492386877536774, 'y': -0.015629777684807777}, {'id': 399311, 'x': -0.058803923428058624, 'y': -0.06616579741239548}, {'id': 1421, 'x': 0.1422404795885086, 'y': -0.14618785679340363}, {'id': 422112, 'x': -0.054230816662311554, 'y': -0.009530467912554741}, {'id': 639211, 'x': -0.1080797016620636, 'y': 0.09396611154079437}, {'id': 2533, 'x': 0.012622097507119179, 'y': -0.18664923310279846}, {'id': 342312, 'x': -0.0023609986528754234, 'y': 0.06711077690124512}, {'id': 233212, 'x': 0.13353173434734344, 'y': -0.11172156035900116}, {'id': 334113, 'x': 0.13687464594841003, 'y': -0.0454040952026844}, {'id': 2523, 'x': -0.18649797141551971, 'y': 0.10066954791545868}, {'id': 233915, 'x': -0.2652622163295746, 'y': 0.05500870198011398}, {'id': 254422, 'x': -0.25184696912765503, 'y': 0.17128005623817444}, {'id': 212415, 'x': -0.20233790576457977, 'y': 0.01789233088493347}, {'id': 312114, 'x': 0.06590001285076141, 'y': -0.2248239815235138}, {'id': 6215, 'x': -0.08075506240129471, 'y': -0.18579153716564178}, {'id': 2611, 'x': 0.011179973371326923, 'y': 0.2085748016834259}, {'id': 411713, 'x': -0.06722575426101685, 'y': 0.2085849493741989}, {'id': 2346, 'x': 0.026796473190188408, 'y': -0.18771018087863922}, {'id': 399516, 'x': -0.11974020302295685, 'y': 0.13945451378822327}, {'id': 232414, 'x': 0.1605810970067978, 'y': -0.06955759972333908}, {'id': 323313, 'x': 0.08182882517576218, 'y': -0.021599389612674713}, {'id': 233111, 'x': -0.040376435965299606, 'y': 0.15323685109615326}, {'id': 3411, 'x': -0.10078919678926468, 'y': -0.03691679984331131}, {'id': 8991, 'x': -0.0357118621468544, 'y': -0.05373731628060341}, {'id': 1351, 'x': -0.09825851768255234, 'y': -0.062181416898965836}, {'id': 251311, 'x': 0.02513526938855648, 'y': -0.25543412566185}, {'id': 251211, 'x': -0.07533249258995056, 'y': 0.19254472851753235}, {'id': 8313, 'x': 0.13747800886631012, 'y': 0.2911105751991272}, {'id': 212211, 'x': -0.1654123216867447, 'y': 0.2104487270116806}, {'id': 234517, 'x': 0.13157919049263, 'y': 0.16402611136436462}, {'id': 4511, 'x': 0.026501411572098732, 'y': 0.1930810809135437}, {'id': 399913, 'x': -0.07020056247711182, 'y': 0.17712019383907318}, {'id': 821714, 'x': 0.04331846162676811, 'y': -0.24066327512264252}, {'id': 3991, 'x': 0.009389981627464294, 'y': -0.23402933776378632}, {'id': 254211, 'x': -0.04235697537660599, 'y': 0.22071047127246857}, {'id': 393213, 'x': -0.044611066579818726, 'y': 0.1801648885011673}, {'id': 2124, 'x': 0.25728341937065125, 'y': -0.0967654213309288}, {'id': 252711, 'x': -0.0848519578576088, 'y': -0.12191437929868698}, {'id': 253112, 'x': -0.05414489284157753, 'y': -0.15597914159297943}, {'id': 253911, 'x': -0.1495698243379593, 'y': -0.015347105450928211}, {'id': 311412, 'x': -0.16593515872955322, 'y': 0.05076221749186516}, {'id': 222312, 'x': -0.06762462109327316, 'y': 0.32262682914733887}, {'id': 8414, 'x': 0.044134531170129776, 'y': -0.24960339069366455}, {'id': 4221, 'x': 0.009148471988737583, 'y': 0.03551360219717026}, {'id': 411213, 'x': -0.1169297993183136, 'y': 0.1663648933172226}, {'id': 2532, 'x': -0.02524365670979023, 'y': -0.024707579985260963}, {'id': 311211, 'x': 0.03685929998755455, 'y': -0.00624120095744729}, {'id': 233911, 'x': -0.03353162482380867, 'y': -0.04415019229054451}, {'id': 2412, 'x': 0.10471087694168091, 'y': -0.13668526709079742}, {'id': 2535, 'x': -0.012744059786200523, 'y': 0.22296655178070068}, {'id': 261311, 'x': 0.042590878903865814, 'y': 0.14515675604343414}, {'id': 6394, 'x': 0.0860821083188057, 'y': -0.30627232789993286}, {'id': 1342, 'x': -0.1428687572479248, 'y': 0.23830465972423553}, {'id': 323112, 'x': -0.09994074702262878, 'y': 0.17829199135303497}, {'id': 272412, 'x': -0.11212234199047089, 'y': 0.14360742270946503}, {'id': 4513, 'x': -0.10669557750225067, 'y': 0.20596735179424286}, {'id': 3334, 'x': -0.19521689414978027, 'y': 0.06468737870454788}, {'id': 251511, 'x': -0.010352510027587414, 'y': -0.04757019877433777}, {'id': 2253, 'x': 0.19935022294521332, 'y': -0.12415134906768799}, {'id': 8212, 'x': 0.08357445895671844, 'y': -0.011521848849952221}, {'id': 313111, 'x': 0.004854867234826088, 'y': -0.14334982633590698}, {'id': 599518, 'x': -0.05779257416725159, 'y': -0.16382111608982086}, {'id': 7321, 'x': 0.01821494847536087, 'y': -0.29150390625}, {'id': 712213, 'x': 0.0342351496219635, 'y': -0.08440075814723969}, {'id': 212411, 'x': 0.029419809579849243, 'y': -0.18491247296333313}, {'id': 272312, 'x': -0.06119035929441452, 'y': -0.0220685712993145}, {'id': 712911, 'x': -0.013559824787080288, 'y': 0.08498334139585495}, {'id': 253317, 'x': 0.16023875772953033, 'y': -0.03259500488638878}, {'id': 313113, 'x': 0.09394628554582596, 'y': -0.0827287882566452}, {'id': 225112, 'x': -0.16304314136505127, 'y': 0.09315982460975647}, {'id': 399515, 'x': -0.13011860847473145, 'y': 0.035948246717453}, {'id': 5211, 'x': -0.10635167360305786, 'y': -0.08442370593547821}, {'id': 821412, 'x': -0.053066372871398926, 'y': -0.13632121682167053}, {'id': 3611, 'x': -0.16202837228775024, 'y': -0.1348491758108139}, {'id': 1341, 'x': -0.18466858565807343, 'y': -0.23345643281936646}, {'id': 224411, 'x': 0.09389154613018036, 'y': -0.1608547419309616}, {'id': 2232, 'x': -0.1553388088941574, 'y': 0.1605178564786911}, {'id': 223113, 'x': -0.040876299142837524, 'y': -0.13399219512939453}, {'id': 561211, 'x': 0.2773166000843048, 'y': -0.11941706389188766}, {'id': 251912, 'x': 0.12074615806341171, 'y': -0.26421138644218445}, {'id': 3424, 'x': -0.0752352625131607, 'y': -0.1184607446193695}, {'id': 334114, 'x': -0.10434769093990326, 'y': 0.03701188787817955}, {'id': 312312, 'x': -0.5019305348396301, 'y': 0.28646981716156006}, {'id': 251911, 'x': -0.10659006237983704, 'y': -0.01486001443117857}, {'id': 272311, 'x': 0.10666213929653168, 'y': 0.23375153541564941}, {'id': 312311, 'x': 0.05581708252429962, 'y': 0.16860483586788177}, {'id': 224112, 'x': -0.09104297310113907, 'y': -0.025655917823314667}, {'id': 234211, 'x': 0.010547184385359287, 'y': 0.2012021243572235}, {'id': 423312, 'x': 0.013478334061801434, 'y': -0.016225069761276245}, {'id': 551111, 'x': 0.06437310576438904, 'y': -0.14921927452087402}, {'id': 3514, 'x': 0.13451290130615234, 'y': 0.043442342430353165}, {'id': 233215, 'x': 0.03607437014579773, 'y': -0.3431638479232788}, {'id': 721915, 'x': -0.004790758714079857, 'y': 0.1555735319852829}, {'id': 1323, 'x': -0.14243774116039276, 'y': -0.0635618343949318}, {'id': 253321, 'x': -0.06877721101045609, 'y': -0.02948860451579094}, {'id': 5615, 'x': -0.09574740380048752, 'y': 0.06319841742515564}, {'id': 234312, 'x': 0.015170637518167496, 'y': -0.26760053634643555}, {'id': 8215, 'x': -0.1714867204427719, 'y': 0.12890693545341492}, {'id': 431912, 'x': 0.07882765680551529, 'y': 0.08468376100063324}, {'id': 3941, 'x': -0.16018474102020264, 'y': 0.06926169246435165}, {'id': 234913, 'x': 0.22958047688007355, 'y': -0.1313209980726242}, {'id': 222311, 'x': 0.05917958542704582, 'y': 0.13327805697917938}, {'id': 142114, 'x': -0.11025369167327881, 'y': -0.12060415744781494}, {'id': 821713, 'x': -0.05069359764456749, 'y': -0.06644038110971451}, {'id': 224113, 'x': 0.13066838681697845, 'y': 0.21036764979362488}, {'id': 2711, 'x': 0.005136782303452492, 'y': -0.3496061861515045}, {'id': 3996, 'x': 0.03709571808576584, 'y': -0.21062910556793213}, {'id': 261211, 'x': 0.06320086866617203, 'y': -0.12782533466815948}, {'id': 2525, 'x': -0.03458892181515694, 'y': 0.18578846752643585}, {'id': 423313, 'x': -0.10268630087375641, 'y': 0.057226911187171936}, {'id': 542111, 'x': -0.12008942663669586, 'y': -0.022929275408387184}, {'id': 3221, 'x': -0.08315135538578033, 'y': -0.10143249481916428}, {'id': 3211, 'x': -0.17699065804481506, 'y': 0.207408607006073}, {'id': 149211, 'x': 0.0410371758043766, 'y': 0.2700631618499756}, {'id': 233112, 'x': -0.16398856043815613, 'y': -0.12711800634860992}, {'id': 224214, 'x': 0.05904829502105713, 'y': -0.02926960214972496}, {'id': 3111, 'x': 0.12938947975635529, 'y': -0.22593669593334198}, {'id': 431111, 'x': -0.05062541738152504, 'y': 0.1390668749809265}, {'id': 252211, 'x': 0.024748774245381355, 'y': 0.18331001698970795}, {'id': 6111, 'x': 0.05568833649158478, 'y': 0.233799546957016}, {'id': 139913, 'x': 0.08972352743148804, 'y': 0.2894099950790405}, {'id': 3513, 'x': 0.13387447595596313, 'y': 0.2728894054889679}, {'id': 233916, 'x': 0.06504350900650024, 'y': 0.25086134672164917}, {'id': 234914, 'x': 0.0011687903897836804, 'y': -0.19008000195026398}, {'id': 8512, 'x': 0.13117869198322296, 'y': -0.08933889865875244}, {'id': 442216, 'x': -0.10238495469093323, 'y': 0.26929834485054016}, {'id': 712917, 'x': -0.027221880853176117, 'y': 0.06096396967768669}, {'id': 821911, 'x': 0.004596743267029524, 'y': -0.03329567611217499}, {'id': 2344, 'x': -0.03298867493867874, 'y': 0.2613990306854248}, {'id': 1332, 'x': -0.13867108523845673, 'y': 0.08835385739803314}, {'id': 3624, 'x': -0.11541616916656494, 'y': -0.005128903314471245}, {'id': 211214, 'x': -0.12384694069623947, 'y': 0.19496206939220428}, {'id': 721213, 'x': -0.03192649781703949, 'y': 0.1962624043226242}, {'id': 254415, 'x': 0.1542554795742035, 'y': 0.3118472993373871}, {'id': 234511, 'x': -0.004520322196185589, 'y': -0.24193167686462402}, {'id': 253917, 'x': -0.1451708823442459, 'y': 0.01222275197505951}, {'id': 2422, 'x': -0.21311458945274353, 'y': 0.04433516412973404}, {'id': 8322, 'x': 0.5723850727081299, 'y': -0.8343102931976318}, {'id': 392111, 'x': 0.5478344559669495, 'y': -0.7989680767059326}, {'id': 2511, 'x': 0.026586106047034264, 'y': -0.4108022153377533}, {'id': 711914, 'x': -0.05870489403605461, 'y': 0.1280822455883026}, {'id': 323314, 'x': 0.21399737894535065, 'y': 0.009557671844959259}, {'id': 591116, 'x': 0.2650374472141266, 'y': -0.01743118278682232}, {'id': 222111, 'x': 0.11460968852043152, 'y': 0.30517616868019104}, {'id': 2543, 'x': -0.12340127676725388, 'y': -0.17119309306144714}, {'id': 8216, 'x': 0.10862463712692261, 'y': 0.08620276302099228}, {'id': 4514, 'x': 0.1715424656867981, 'y': 0.12492832541465759}, {'id': 8112, 'x': 0.0954783484339714, 'y': 0.091145358979702}, {'id': 2334, 'x': -0.14167536795139313, 'y': 0.03392069786787033}, {'id': 3331, 'x': -0.021839803084731102, 'y': -0.18980449438095093}, {'id': 7113, 'x': -0.05697544664144516, 'y': -0.22997665405273438}, {'id': 231213, 'x': 0.1945599615573883, 'y': 0.20854772627353668}, {'id': 4313, 'x': 0.03360437974333763, 'y': 0.26238155364990234}, {'id': 232312, 'x': 0.040161360055208206, 'y': 0.26167911291122437}, {'id': 8994, 'x': -0.13035090267658234, 'y': 0.1032092422246933}, {'id': 212113, 'x': 0.003702449845150113, 'y': 0.09618569910526276}, {'id': 841911, 'x': -0.0030100070871412754, 'y': -0.0695728063583374}, {'id': 561212, 'x': 0.04068230465054512, 'y': -0.07487975060939789}, {'id': 321214, 'x': 0.06734373420476913, 'y': 0.09016024321317673}, {'id': 2246, 'x': 0.04588262736797333, 'y': -0.02816106751561165}, {'id': 334115, 'x': 0.10922272503376007, 'y': 0.033751241862773895}, {'id': 224212, 'x': 0.06322117149829865, 'y': -0.23324476182460785}, {'id': 591117, 'x': -0.18996062874794006, 'y': -0.03154325857758522}, {'id': 899915, 'x': -0.16587316989898682, 'y': -0.030522802844643593}, {'id': 312212, 'x': -0.22622258961200714, 'y': 0.003924832213670015}, {'id': 1331, 'x': 0.15293839573860168, 'y': 0.21882036328315735}, {'id': 6211, 'x': 0.1595015823841095, 'y': 0.21090896427631378}, {'id': 452322, 'x': -0.04011343792080879, 'y': -0.22381846606731415}, {'id': 4517, 'x': -0.05995003134012222, 'y': 0.14598877727985382}, {'id': 2114, 'x': 0.11723317950963974, 'y': 0.12983059883117676}, {'id': 399511, 'x': 0.04585040733218193, 'y': -0.5086173415184021}, {'id': 4522, 'x': -0.12428360432386398, 'y': 0.2739715874195099}, {'id': 312113, 'x': 0.04590578004717827, 'y': -0.17337338626384735}, {'id': 2414, 'x': -0.3117789924144745, 'y': 0.14732755720615387}, {'id': 334111, 'x': -0.23589202761650085, 'y': 0.15102028846740723}, {'id': 621312, 'x': -0.05794462561607361, 'y': 0.03760460019111633}, {'id': 2725, 'x': 0.055502112954854965, 'y': -0.15601015090942383}, {'id': 342314, 'x': 0.05860846862196922, 'y': 0.16582761704921722}, {'id': 599512, 'x': 0.11009647697210312, 'y': 0.09366922825574875}, {'id': 8321, 'x': 0.2986728549003601, 'y': 0.03410768881440163}, {'id': 233611, 'x': 0.2255030870437622, 'y': 0.048038557171821594}, {'id': 7116, 'x': 0.32581713795661926, 'y': -0.2062092423439026}, {'id': 212111, 'x': 0.37340831756591797, 'y': -0.25272491574287415}, {'id': 312112, 'x': -0.006112347356975079, 'y': -0.029351837933063507}, {'id': 1213, 'x': -0.13846923410892487, 'y': -0.3173711895942688}, {'id': 251214, 'x': -0.06728692352771759, 'y': 0.038394030183553696}, {'id': 263113, 'x': -0.10273325443267822, 'y': 0.1432795375585556}, {'id': 831211, 'x': -0.1603327840566635, 'y': 0.15688268840312958}, {'id': 254417, 'x': -0.030841335654258728, 'y': 0.020236650481820107}, {'id': 899211, 'x': -0.14701740443706512, 'y': 0.1732400357723236}, {'id': 2113, 'x': -0.1773216277360916, 'y': -0.2429714798927307}, {'id': 342311, 'x': -0.02324243262410164, 'y': 0.23069284856319427}, {'id': 4232, 'x': 0.15411947667598724, 'y': -0.05202105641365051}, {'id': 254425, 'x': 0.20990309119224548, 'y': -0.06701258569955826}, {'id': 8311, 'x': -0.2523559033870697, 'y': -0.15732520818710327}, {'id': 5912, 'x': 0.025302311405539513, 'y': -0.5077488422393799}, {'id': 411214, 'x': 0.03456609696149826, 'y': -0.5087106227874756}, {'id': 4421, 'x': 0.16306830942630768, 'y': -0.13827508687973022}, {'id': 251212, 'x': 0.045075640082359314, 'y': 0.13982048630714417}, {'id': 321212, 'x': 0.1376044899225235, 'y': -0.3107143044471741}, {'id': 3994, 'x': -0.2844260632991791, 'y': 0.0720631331205368}, {'id': 392112, 'x': 0.2539815306663513, 'y': -0.08771662414073944}, {'id': 341113, 'x': 0.010118813253939152, 'y': -0.16340996325016022}, {'id': 399911, 'x': 0.11224739253520966, 'y': 0.008115722797811031}, {'id': 4523, 'x': 0.03960734233260155, 'y': 0.06276467442512512}, {'id': 3333, 'x': -0.0444500595331192, 'y': 0.07840272784233093}, {'id': 5521, 'x': 0.02154235914349556, 'y': 0.12339037656784058}, {'id': 272411, 'x': 0.026083575561642647, 'y': -0.08340758085250854}, {'id': 512211, 'x': 0.022329110652208328, 'y': -0.02336842194199562}, {'id': 272111, 'x': 0.24954310059547424, 'y': -0.0507643036544323}, {'id': 899911, 'x': 0.08202481269836426, 'y': 0.11628898978233337}, {'id': 149411, 'x': 0.034750234335660934, 'y': 0.04244630038738251}, {'id': 323316, 'x': 0.057809121906757355, 'y': 0.1178574413061142}, {'id': 254412, 'x': -0.06090008094906807, 'y': 0.060819707810878754}, {'id': 211213, 'x': -0.123380146920681, 'y': -0.013385101221501827}, {'id': 542113, 'x': -0.08687476813793182, 'y': -0.0028167925775051117}, {'id': 621311, 'x': 0.01913246139883995, 'y': 0.3015997111797333}, {'id': 221111, 'x': -0.02801419608294964, 'y': -0.11102181673049927}, {'id': 8412, 'x': -0.13049650192260742, 'y': 0.20223869383335114}, {'id': 234515, 'x': -0.07893043756484985, 'y': 0.29249823093414307}, {'id': 253914, 'x': -0.028168069198727608, 'y': 0.12051530182361603}, {'id': 211211, 'x': -0.3365342915058136, 'y': 0.029423069208860397}, {'id': 6112, 'x': -0.21110256016254425, 'y': -0.17182013392448425}, {'id': 3613, 'x': 0.16810888051986694, 'y': -0.07449431717395782}, {'id': 841913, 'x': 0.08913197368383408, 'y': -0.015701020136475563}, {'id': 8115, 'x': -0.15686994791030884, 'y': -0.029685374349355698}, {'id': 1325, 'x': -0.3206390142440796, 'y': -0.17156095802783966}, {'id': 639111, 'x': 0.043003689497709274, 'y': 0.10723058879375458}, {'id': 441212, 'x': 0.031293489038944244, 'y': 0.060760121792554855}, {'id': 552314, 'x': -0.15788520872592926, 'y': -0.14393439888954163}, {'id': 5993, 'x': 0.3188270032405853, 'y': -0.1740981936454773}, {'id': 899921, 'x': 0.2592800259590149, 'y': -0.13403970003128052}, {'id': 223112, 'x': 0.9369118809700012, 'y': 0.026375574991106987}, {'id': 234212, 'x': 0.9281562566757202, 'y': 0.013052607886493206}, {'id': 331213, 'x': 0.9593886137008667, 'y': -0.28049951791763306}, {'id': 721215, 'x': 0.9735778570175171, 'y': -0.29279062151908875}, {'id': 133513, 'x': -0.5208085179328918, 'y': 0.3180374801158905}, {'id': 131113, 'x': 0.38754114508628845, 'y': 0.04163975268602371}, {'id': 8399, 'x': 0.04814073443412781, 'y': -0.055756792426109314}, {'id': 221112, 'x': -0.10696472972631454, 'y': 0.08026810735464096}, {'id': 251411, 'x': -0.20398040115833282, 'y': 0.12781327962875366}, {'id': 342313, 'x': -0.023336751386523247, 'y': 0.12943041324615479}, {'id': 621911, 'x': 0.04600755125284195, 'y': 0.12637992203235626}, {'id': 599511, 'x': 0.21522165834903717, 'y': -0.09207602590322495}, {'id': 2491, 'x': -0.0779196247458458, 'y': 0.08833153545856476}, {'id': 7331, 'x': -0.10819350183010101, 'y': 0.2667062282562256}, {'id': 2222, 'x': -0.255844384431839, 'y': 0.15241283178329468}, {'id': 712912, 'x': -0.21602506935596466, 'y': 0.08194658160209656}, {'id': 131112, 'x': -0.12635129690170288, 'y': -0.2524586617946625}, {'id': 221213, 'x': -0.07557503134012222, 'y': -0.15851126611232758}, {'id': 3621, 'x': 0.13154995441436768, 'y': 0.02968156710267067}, {'id': 3124, 'x': 0.15080004930496216, 'y': -0.10046171396970749}, {'id': 561411, 'x': 0.5703469514846802, 'y': 0.7769308090209961}, {'id': 899914, 'x': 0.5822053551673889, 'y': 0.7663050889968872}, {'id': 263212, 'x': -0.0033054419327527285, 'y': 0.22914405167102814}, {'id': 411211, 'x': 0.05171738192439079, 'y': -0.16753964126110077}, {'id': 254411, 'x': -0.14992655813694, 'y': -0.18971067667007446}, {'id': 242112, 'x': 0.04207757115364075, 'y': 0.08600416034460068}, {'id': 2243, 'x': -0.17255957424640656, 'y': 0.025373652577400208}, {'id': 2722, 'x': -0.17260587215423584, 'y': 0.15738627314567566}, {'id': 2724, 'x': -0.20291060209274292, 'y': 0.11802639812231064}, {'id': 272113, 'x': 0.07700332254171371, 'y': 0.038504380732774734}, {'id': 1321, 'x': 0.07565668970346451, 'y': 0.12538591027259827}, {'id': 2544, 'x': 0.1312992423772812, 'y': 0.2966431677341461}, {'id': 4111, 'x': 0.4504813849925995, 'y': 0.04759892821311951}, {'id': 511112, 'x': 0.17600105702877045, 'y': 0.09603503346443176}, {'id': 2221, 'x': -0.0792214646935463, 'y': 0.22917982935905457}, {'id': 232112, 'x': -0.0846007689833641, 'y': 0.222950741648674}, {'id': 1343, 'x': 0.13941796123981476, 'y': 0.2197892963886261}, {'id': 323214, 'x': 0.047626592218875885, 'y': 0.21445462107658386}, {'id': 441311, 'x': 0.031009333208203316, 'y': 0.1551571637392044}, {'id': 721111, 'x': -0.03814902901649475, 'y': 0.013170180842280388}, {'id': 331111, 'x': -0.012597110122442245, 'y': 0.23469917476177216}, {'id': 234514, 'x': -0.16060146689414978, 'y': -0.3187193274497986}, {'id': 3512, 'x': 0.16323263943195343, 'y': 0.13672271370887756}, {'id': 399514, 'x': -0.05121273174881935, 'y': -0.20565234124660492}, {'id': 8993, 'x': 0.04595538228750229, 'y': 0.2555142939090729}, {'id': 251412, 'x': 0.009096566587686539, 'y': 0.22837050259113312}, {'id': 7121, 'x': -0.25741538405418396, 'y': 0.2058071345090866}, {'id': 254424, 'x': 0.09150061011314392, 'y': 0.22345294058322906}, {'id': 599913, 'x': 0.16944341361522675, 'y': -0.05459722876548767}, {'id': 8513, 'x': -0.16032922267913818, 'y': 0.038488008081912994}, {'id': 2521, 'x': -0.20239371061325073, 'y': 0.22751085460186005}, {'id': 253324, 'x': 0.005981803871691227, 'y': -0.27832308411598206}, {'id': 262113, 'x': -0.08048099279403687, 'y': 0.023029355332255363}, {'id': 3222, 'x': 0.0857323557138443, 'y': 0.03036986105144024}, {'id': 312111, 'x': -0.5771251916885376, 'y': 0.36338159441947937}, {'id': 821913, 'x': 0.07545024901628494, 'y': 0.32215583324432373}, {'id': 561913, 'x': 0.07164216786623001, 'y': 0.02438529208302498}, {'id': 712922, 'x': 0.05996635928750038, 'y': -0.17271175980567932}, {'id': 2254, 'x': -0.23909194767475128, 'y': 0.05352529510855675}, {'id': 232412, 'x': -0.07093492150306702, 'y': 0.24701596796512604}, {'id': 7123, 'x': 0.09430374205112457, 'y': 0.08428319543600082}, {'id': 272413, 'x': 0.007903216406702995, 'y': -0.02320224605500698}, {'id': 233513, 'x': -0.04908530041575432, 'y': -0.007742166053503752}, {'id': 8213, 'x': 0.13133519887924194, 'y': -0.08164345473051071}, {'id': 234314, 'x': -0.23383374512195587, 'y': 0.21416236460208893}, {'id': 322313, 'x': -0.00024214638688135892, 'y': -0.2307896763086319}, {'id': 331112, 'x': -0.06846753507852554, 'y': -0.04435056075453758}, {'id': 839918, 'x': 0.030608264729380608, 'y': 0.027083996683359146}, {'id': 224912, 'x': -0.1664002388715744, 'y': 0.11111092567443848}, {'id': 261313, 'x': 0.2611209750175476, 'y': 0.15558171272277832}, {'id': 712211, 'x': -0.00303768296726048, 'y': -0.17661435902118683}, {'id': 254421, 'x': -0.05440015345811844, 'y': -0.18032404780387878}, {'id': 2347, 'x': 0.16189488768577576, 'y': -0.06550940126180649}, {'id': 541112, 'x': 0.0780368521809578, 'y': 0.14295311272144318}, {'id': 5616, 'x': -0.00942764338105917, 'y': 0.023691970854997635}, {'id': 3241, 'x': 0.1840703934431076, 'y': 0.035069648176431656}, {'id': 4231, 'x': -0.09948054701089859, 'y': -0.265146940946579}, {'id': 712921, 'x': -0.20937514305114746, 'y': 0.21824868023395538}, {'id': 839912, 'x': 0.044490452855825424, 'y': -0.08073672652244568}, {'id': 361113, 'x': -0.07179524004459381, 'y': -0.175181582570076}, {'id': 5522, 'x': -0.2972935736179352, 'y': 0.07274723798036575}, {'id': 231112, 'x': -0.22659419476985931, 'y': 0.1071472093462944}, {'id': 263213, 'x': -0.11317767202854156, 'y': -0.07089263200759888}, {'id': 821111, 'x': 0.06855679303407669, 'y': -0.16551755368709564}, {'id': 899918, 'x': -0.09155658632516861, 'y': 0.07706540077924728}, {'id': 333212, 'x': 0.09822528809309006, 'y': 0.23620526492595673}, {'id': 442217, 'x': 0.07598860561847687, 'y': 0.3046421408653259}, {'id': 232111, 'x': -0.339254766702652, 'y': 0.039924558252096176}, {'id': 312511, 'x': 0.08770725131034851, 'y': 0.00044081485248170793}, {'id': 262112, 'x': -0.1130089983344078, 'y': 0.06897933781147003}, {'id': 421113, 'x': 0.07304950803518295, 'y': 0.07738976180553436}, {'id': 3422, 'x': 0.03968207165598869, 'y': 0.15513813495635986}, {'id': 3132, 'x': -0.21061600744724274, 'y': 0.20227140188217163}, {'id': 612112, 'x': -0.03425025939941406, 'y': 0.13112927973270416}, {'id': 249214, 'x': 0.15209752321243286, 'y': 0.15652400255203247}, {'id': 7111, 'x': -0.10413341969251633, 'y': 0.1231374740600586}, {'id': 4115, 'x': -0.10992434620857239, 'y': 0.1733684241771698}, {'id': 8996, 'x': -0.14572171866893768, 'y': 0.16189788281917572}, {'id': 2325, 'x': 0.10783880949020386, 'y': -0.22859029471874237}, {'id': 411711, 'x': 0.0785394012928009, 'y': 0.04955363646149635}, {'id': 712915, 'x': -0.05591496825218201, 'y': -0.12157496064901352}, {'id': 542112, 'x': 0.1220715194940567, 'y': 0.1510685533285141}, {'id': 399512, 'x': 0.2067081481218338, 'y': -0.0555899478495121}, {'id': 591112, 'x': 0.28687456250190735, 'y': -0.05436345562338829}, {'id': 551112, 'x': 0.12535814940929413, 'y': 0.14146442711353302}, {'id': 2526, 'x': -0.23822815716266632, 'y': -0.036450646817684174}, {'id': 262111, 'x': -0.16447150707244873, 'y': -0.00037577355396933854}, {'id': 1111, 'x': -0.34248635172843933, 'y': 0.23029515147209167}, {'id': 231214, 'x': -0.4010556638240814, 'y': 0.248794287443161}, {'id': 261212, 'x': 0.3189671039581299, 'y': 0.1964944750070572}, {'id': 233612, 'x': 0.05091329291462898, 'y': -0.2715812921524048}, {'id': 311411, 'x': 0.0852992907166481, 'y': -0.34175094962120056}, {'id': 821411, 'x': 0.01039767824113369, 'y': -0.02433059923350811}, {'id': 5613, 'x': 0.06155698001384735, 'y': 0.19573873281478882}, {'id': 261314, 'x': 0.007835025899112225, 'y': 0.2568570673465729}, {'id': 251513, 'x': 1.0, 'y': -0.2908143401145935}, {'id': 532111, 'x': 0.06352667510509491, 'y': -0.3162350654602051}, {'id': 552312, 'x': -0.003108792705461383, 'y': 0.26348644495010376}, {'id': 399213, 'x': 0.12547534704208374, 'y': 0.12987886369228363}, {'id': 591113, 'x': 0.27244696021080017, 'y': -0.09624642133712769}, {'id': 231111, 'x': -0.04481753706932068, 'y': 0.19055725634098053}, {'id': 4314, 'x': 0.3364614248275757, 'y': -0.028077831491827965}, {'id': 253318, 'x': -0.6169577836990356, 'y': 0.3953106105327606}, {'id': 431112, 'x': -0.19059276580810547, 'y': -0.06856091320514679}, {'id': 599916, 'x': -0.08206159621477127, 'y': 0.020593691617250443}], 'edges': [{'source': 3421, 'strength': 0, 'target': 821711}, {'source': 253913, 'strength': 0, 'target': 821711}, {'source': 2492, 'strength': 0, 'target': 224412}, {'source': 311413, 'strength': 0, 'target': 612114}, {'source': 4521, 'strength': 0, 'target': 899913}, {'source': 3421, 'strength': 0, 'target': 8511}, {'source': 8511, 'strength': 0, 'target': 253913}, {'source': 3623, 'strength': 0, 'target': 423311}, {'source': 261312, 'strength': 0, 'target': 721216}, {'source': 252712, 'strength': 0, 'target': 612114}, {'source': 1333, 'strength': 0, 'target': 639112}, {'source': 233913, 'strength': 0, 'target': 423314}, {'source': 211113, 'strength': 0, 'target': 251312}, {'source': 7311, 'strength': 0, 'target': 211113}, {'source': 2322, 'strength': 0, 'target': 223111}, {'source': 233213, 'strength': 0, 'target': 612114}, {'source': 133512, 'strength': 0, 'target': 612114}, {'source': 311215, 'strength': 0, 'target': 839313}, {'source': 224111, 'strength': 0, 'target': 721211}, {'source': 7311, 'strength': 0, 'target': 251312}, {'source': 223111, 'strength': 0, 'target': 251312}, {'source': 272115, 'strength': 0, 'target': 639112}, {'source': 2123, 'strength': 0, 'target': 223111}, {'source': 2322, 'strength': 0, 'target': 254423}, {'source': 5311, 'strength': 0, 'target': 149914}, {'source': 5994, 'strength': 0, 'target': 599516}, {'source': 251312, 'strength': 0, 'target': 252712}, {'source': 7112, 'strength': 0, 'target': 8416}, {'source': 2322, 'strength': 0, 'target': 8416}, {'source': 7112, 'strength': 0, 'target': 233213}, {'source': 2712, 'strength': 0, 'target': 223111}, {'source': 5513, 'strength': 0, 'target': 311214}, {'source': 3242, 'strength': 0, 'target': 253111}, {'source': 3242, 'strength': 0, 'target': 411412}, {'source': 149914, 'strength': 0, 'target': 821912}, {'source': 233914, 'strength': 0, 'target': 423311}, {'source': 133512, 'strength': 0, 'target': 639112}, {'source': 2411, 'strength': 0, 'target': 8911}, {'source': 224512, 'strength': 0, 'target': 233213}, {'source': 612114, 'strength': 0, 'target': 639112}, {'source': 2341, 'strength': 0, 'target': 841313}, {'source': 232411, 'strength': 0, 'target': 721913}, {'source': 321211, 'strength': 0, 'target': 394211}, {'source': 253111, 'strength': 0, 'target': 261312}, {'source': 6214, 'strength': 0, 'target': 272613}, {'source': 3933, 'strength': 0, 'target': 721913}, {'source': 212112, 'strength': 0, 'target': 541111}, {'source': 223111, 'strength': 0, 'target': 411412}, {'source': 8997, 'strength': 0, 'target': 411412}, {'source': 133512, 'strength': 0, 'target': 311413}, {'source': 224213, 'strength': 0, 'target': 599914}, {'source': 4113, 'strength': 0, 'target': 224711}, {'source': 1333, 'strength': 0, 'target': 272115}, {'source': 2541, 'strength': 0, 'target': 7115}, {'source': 223111, 'strength': 0, 'target': 841311}, {'source': 5412, 'strength': 0, 'target': 224213}, {'source': 233914, 'strength': 0, 'target': 721211}, {'source': 6113, 'strength': 0, 'target': 711912}, {'source': 7114, 'strength': 0, 'target': 721216}, {'source': 323412, 'strength': 0, 'target': 612114}, {'source': 5996, 'strength': 0, 'target': 272114}, {'source': 252712, 'strength': 0, 'target': 841311}, {'source': 8997, 'strength': 0, 'target': 253111}, {'source': 423311, 'strength': 0, 'target': 899923}, {'source': 3113, 'strength': 0, 'target': 841313}, {'source': 135111, 'strength': 0, 'target': 252213}, {'source': 2534, 'strength': 0, 'target': 133512}, {'source': 149913, 'strength': 0, 'target': 272114}, {'source': 313112, 'strength': 0, 'target': 821914}, {'source': 5611, 'strength': 0, 'target': 561912}, {'source': 5994, 'strength': 0, 'target': 841312}, {'source': 221113, 'strength': 0, 'target': 411411}, {'source': 612114, 'strength': 0, 'target': 841311}, {'source': 234311, 'strength': 0, 'target': 839313}, {'source': 8415, 'strength': 0, 'target': 721212}, {'source': 323111, 'strength': 0, 'target': 323412}, {'source': 5513, 'strength': 0, 'target': 311413}, {'source': 452414, 'strength': 0, 'target': 821914}, {'source': 234311, 'strength': 0, 'target': 311215}, {'source': 3622, 'strength': 0, 'target': 252712}, {'source': 5992, 'strength': 0, 'target': 8416}, {'source': 3511, 'strength': 0, 'target': 423314}, {'source': 2541, 'strength': 0, 'target': 224111}, {'source': 224512, 'strength': 0, 'target': 252712}, {'source': 211111, 'strength': 0, 'target': 323411}, {'source': 6395, 'strength': 0, 'target': 721211}, {'source': 2633, 'strength': 0, 'target': 7112}, {'source': 311212, 'strength': 0, 'target': 821712}, {'source': 311212, 'strength': 0, 'target': 423311}, {'source': 3623, 'strength': 0, 'target': 233914}, {'source': 8114, 'strength': 0, 'target': 841311}, {'source': 135111, 'strength': 0, 'target': 261312}, {'source': 612114, 'strength': 0, 'target': 721214}, {'source': 2541, 'strength': 0, 'target': 5412}, {'source': 1336, 'strength': 0, 'target': 442214}, {'source': 1491, 'strength': 0, 'target': 272114}, {'source': 242111, 'strength': 0, 'target': 721211}, {'source': 3622, 'strength': 0, 'target': 7115}, {'source': 7117, 'strength': 0, 'target': 612114}, {'source': 5513, 'strength': 0, 'target': 221214}, {'source': 224412, 'strength': 0, 'target': 321213}, {'source': 312211, 'strength': 0, 'target': 599516}, {'source': 3923, 'strength': 0, 'target': 542114}, {'source': 5412, 'strength': 0, 'target': 8415}, {'source': 242111, 'strength': 0, 'target': 532113}, {'source': 3322, 'strength': 0, 'target': 311213}, {'source': 394213, 'strength': 0, 'target': 411714}, {'source': 2633, 'strength': 0, 'target': 7411}, {'source': 233913, 'strength': 0, 'target': 331212}, {'source': 311413, 'strength': 0, 'target': 831212}, {'source': 233914, 'strength': 0, 'target': 821712}, {'source': 839312, 'strength': 0, 'target': 254416}, {'source': 639112, 'strength': 0, 'target': 821912}, {'source': 3321, 'strength': 0, 'target': 423311}, {'source': 2633, 'strength': 0, 'target': 8997}, {'source': 224712, 'strength': 0, 'target': 234311}, {'source': 1324, 'strength': 0, 'target': 3322}, {'source': 5614, 'strength': 0, 'target': 233511}, {'source': 8911, 'strength': 0, 'target': 254212}, {'source': 221214, 'strength': 0, 'target': 224512}, {'source': 1414, 'strength': 0, 'target': 312211}, {'source': 4524, 'strength': 0, 'target': 721211}, {'source': 242111, 'strength': 0, 'target': 263111}, {'source': 322311, 'strength': 0, 'target': 423311}, {'source': 7114, 'strength': 0, 'target': 135111}, {'source': 5991, 'strength': 0, 'target': 532113}, {'source': 311213, 'strength': 0, 'target': 394211}, {'source': 1413, 'strength': 0, 'target': 322311}, {'source': 2413, 'strength': 0, 'target': 5997}, {'source': 2341, 'strength': 0, 'target': 212212}, {'source': 6214, 'strength': 0, 'target': 254418}, {'source': 521212, 'strength': 0, 'target': 839311}, {'source': 1112, 'strength': 0, 'target': 4234}, {'source': 2123, 'strength': 0, 'target': 721212}, {'source': 423311, 'strength': 0, 'target': 521211}, {'source': 2721, 'strength': 0, 'target': 311212}, {'source': 3321, 'strength': 0, 'target': 394211}, {'source': 1324, 'strength': 0, 'target': 323211}, {'source': 4312, 'strength': 0, 'target': 721211}, {'source': 4312, 'strength': 0, 'target': 149913}, {'source': 4312, 'strength': 0, 'target': 721913}, {'source': 254212, 'strength': 0, 'target': 394211}, {'source': 1336, 'strength': 0, 'target': 311212}, {'source': 149413, 'strength': 0, 'target': 234911}, {'source': 272112, 'strength': 0, 'target': 441312}, {'source': 331212, 'strength': 0, 'target': 839312}, {'source': 5121, 'strength': 0, 'target': 6217}, {'source': 6395, 'strength': 0, 'target': 242111}, {'source': 393212, 'strength': 0, 'target': 399312}, {'source': 254212, 'strength': 0, 'target': 411716}, {'source': 7312, 'strength': 0, 'target': 212314}, {'source': 263112, 'strength': 0, 'target': 312211}, {'source': 225113, 'strength': 0, 'target': 234311}, {'source': 4315, 'strength': 0, 'target': 224711}, {'source': 272612, 'strength': 0, 'target': 721211}, {'source': 312116, 'strength': 0, 'target': 394211}, {'source': 149212, 'strength': 0, 'target': 899415}, {'source': 8511, 'strength': 0, 'target': 561912}, {'source': 599516, 'strength': 0, 'target': 831212}, {'source': 5512, 'strength': 0, 'target': 331212}, {'source': 4524, 'strength': 0, 'target': 254413}, {'source': 2245, 'strength': 0, 'target': 321211}, {'source': 2522, 'strength': 0, 'target': 8113}, {'source': 263111, 'strength': 0, 'target': 721211}, {'source': 5995, 'strength': 0, 'target': 251312}, {'source': 3113, 'strength': 0, 'target': 8114}, {'source': 212314, 'strength': 0, 'target': 441211}, {'source': 3911, 'strength': 0, 'target': 599914}, {'source': 5992, 'strength': 0, 'target': 233213}, {'source': 7114, 'strength': 0, 'target': 261312}, {'source': 232311, 'strength': 0, 'target': 721211}, {'source': 639112, 'strength': 0, 'target': 731311}, {'source': 5992, 'strength': 0, 'target': 8997}, {'source': 8415, 'strength': 0, 'target': 263211}, {'source': 1414, 'strength': 0, 'target': 323111}, {'source': 2721, 'strength': 0, 'target': 3623}, {'source': 134411, 'strength': 0, 'target': 342413}, {'source': 5992, 'strength': 0, 'target': 841311}, {'source': 234313, 'strength': 0, 'target': 399212}, {'source': 139912, 'strength': 0, 'target': 311216}, {'source': 221212, 'strength': 0, 'target': 521211}, {'source': 3511, 'strength': 0, 'target': 839312}, {'source': 224211, 'strength': 0, 'target': 421111}, {'source': 8912, 'strength': 0, 'target': 311413}, {'source': 411715, 'strength': 0, 'target': 899412}, {'source': 1493, 'strength': 0, 'target': 591115}, {'source': 253912, 'strength': 0, 'target': 821712}, {'source': 561912, 'strength': 0, 'target': 821912}, {'source': 1336, 'strength': 0, 'target': 2245}, {'source': 5121, 'strength': 0, 'target': 5996}, {'source': 224712, 'strength': 0, 'target': 225113}, {'source': 251312, 'strength': 0, 'target': 721211}, {'source': 6311, 'strength': 0, 'target': 254414}, {'source': 4524, 'strength': 0, 'target': 272313}, {'source': 233512, 'strength': 0, 'target': 272114}, {'source': 1344, 'strength': 0, 'target': 234518}, {'source': 253915, 'strength': 0, 'target': 311212}, {'source': 612115, 'strength': 0, 'target': 821712}, {'source': 4116, 'strength': 0, 'target': 149914}, {'source': 6393, 'strength': 0, 'target': 224111}, {'source': 3911, 'strength': 0, 'target': 532113}, {'source': 263111, 'strength': 0, 'target': 272114}, {'source': 8114, 'strength': 0, 'target': 251312}, {'source': 3922, 'strength': 0, 'target': 899415}, {'source': 2333, 'strength': 0, 'target': 223111}, {'source': 234213, 'strength': 0, 'target': 399311}, {'source': 1421, 'strength': 0, 'target': 6393}, {'source': 3922, 'strength': 0, 'target': 639112}, {'source': 224211, 'strength': 0, 'target': 422112}, {'source': 411716, 'strength': 0, 'target': 542114}, {'source': 233512, 'strength': 0, 'target': 639211}, {'source': 2533, 'strength': 0, 'target': 841311}, {'source': 254212, 'strength': 0, 'target': 342312}, {'source': 233212, 'strength': 0, 'target': 334113}, {'source': 224211, 'strength': 0, 'target': 233511}, {'source': 2523, 'strength': 0, 'target': 233915}, {'source': 254422, 'strength': 0, 'target': 321213}, {'source': 721211, 'strength': 0, 'target': 254413}, {'source': 212415, 'strength': 0, 'target': 233512}, {'source': 5995, 'strength': 0, 'target': 821912}, {'source': 2333, 'strength': 0, 'target': 312114}, {'source': 2522, 'strength': 0, 'target': 899923}, {'source': 7117, 'strength': 0, 'target': 721214}, {'source': 6215, 'strength': 0, 'target': 254423}, {'source': 2533, 'strength': 0, 'target': 311413}, {'source': 5994, 'strength': 0, 'target': 821914}, {'source': 263211, 'strength': 0, 'target': 399311}, {'source': 2611, 'strength': 0, 'target': 411713}, {'source': 2333, 'strength': 0, 'target': 2346}, {'source': 399516, 'strength': 0, 'target': 442214}, {'source': 232414, 'strength': 0, 'target': 323313}, {'source': 233111, 'strength': 0, 'target': 233914}, {'source': 149212, 'strength': 0, 'target': 312211}, {'source': 3911, 'strength': 0, 'target': 272612}, {'source': 3411, 'strength': 0, 'target': 8991}, {'source': 253912, 'strength': 0, 'target': 442214}, {'source': 1351, 'strength': 0, 'target': 422112}, {'source': 841311, 'strength': 0, 'target': 254423}, {'source': 251311, 'strength': 0, 'target': 612114}, {'source': 6311, 'strength': 0, 'target': 251211}, {'source': 8313, 'strength': 0, 'target': 212314}, {'source': 212211, 'strength': 0, 'target': 224712}, {'source': 233511, 'strength': 0, 'target': 233512}, {'source': 234517, 'strength': 0, 'target': 423311}, {'source': 4511, 'strength': 0, 'target': 399913}, {'source': 251311, 'strength': 0, 'target': 311214}, {'source': 253111, 'strength': 0, 'target': 821714}, {'source': 3991, 'strength': 0, 'target': 612114}, {'source': 149212, 'strength': 0, 'target': 831212}, {'source': 254211, 'strength': 0, 'target': 393213}, {'source': 1112, 'strength': 0, 'target': 2541}, {'source': 532113, 'strength': 0, 'target': 721211}, {'source': 221113, 'strength': 0, 'target': 423314}, {'source': 2124, 'strength': 0, 'target': 3322}, {'source': 252711, 'strength': 0, 'target': 253112}, {'source': 3991, 'strength': 0, 'target': 311413}, {'source': 253911, 'strength': 0, 'target': 311412}, {'source': 1344, 'strength': 0, 'target': 323211}, {'source': 5512, 'strength': 0, 'target': 222312}, {'source': 2346, 'strength': 0, 'target': 8414}, {'source': 4221, 'strength': 0, 'target': 721211}, {'source': 4113, 'strength': 0, 'target': 4315}, {'source': 411213, 'strength': 0, 'target': 839313}, {'source': 2532, 'strength': 0, 'target': 721211}, {'source': 311211, 'strength': 0, 'target': 532113}, {'source': 233911, 'strength': 0, 'target': 394213}, {'source': 233511, 'strength': 0, 'target': 721211}, {'source': 2412, 'strength': 0, 'target': 323313}, {'source': 2535, 'strength': 0, 'target': 261311}, {'source': 1414, 'strength': 0, 'target': 6394}, {'source': 3991, 'strength': 0, 'target': 821912}, {'source': 1342, 'strength': 0, 'target': 323112}, {'source': 233111, 'strength': 0, 'target': 272412}, {'source': 4513, 'strength': 0, 'target': 411213}, {'source': 3334, 'strength': 0, 'target': 233512}, {'source': 253912, 'strength': 0, 'target': 311212}, {'source': 4521, 'strength': 0, 'target': 251511}, {'source': 7114, 'strength': 0, 'target': 821714}, {'source': 322311, 'strength': 0, 'target': 399913}, {'source': 612115, 'strength': 0, 'target': 721211}, {'source': 399516, 'strength': 0, 'target': 254414}, {'source': 2253, 'strength': 0, 'target': 211111}, {'source': 721214, 'strength': 0, 'target': 821912}, {'source': 8212, 'strength': 0, 'target': 561912}, {'source': 313111, 'strength': 0, 'target': 411412}, {'source': 599518, 'strength': 0, 'target': 821912}, {'source': 234213, 'strength': 0, 'target': 263111}, {'source': 233212, 'strength': 0, 'target': 841312}, {'source': 7117, 'strength': 0, 'target': 7321}, {'source': 342312, 'strength': 0, 'target': 411716}, {'source': 3334, 'strength': 0, 'target': 233511}, {'source': 5991, 'strength': 0, 'target': 612115}, {'source': 212112, 'strength': 0, 'target': 821912}, {'source': 311215, 'strength': 0, 'target': 411213}, {'source': 4113, 'strength': 0, 'target': 6395}, {'source': 272313, 'strength': 0, 'target': 331212}, {'source': 411411, 'strength': 0, 'target': 423314}, {'source': 6394, 'strength': 0, 'target': 233213}, {'source': 253915, 'strength': 0, 'target': 342312}, {'source': 212314, 'strength': 0, 'target': 233914}, {'source': 4221, 'strength': 0, 'target': 423311}, {'source': 3933, 'strength': 0, 'target': 599914}, {'source': 321211, 'strength': 0, 'target': 821712}, {'source': 2346, 'strength': 0, 'target': 712213}, {'source': 212411, 'strength': 0, 'target': 323412}, {'source': 521211, 'strength': 0, 'target': 821712}, {'source': 272312, 'strength': 0, 'target': 899415}, {'source': 261311, 'strength': 0, 'target': 712911}, {'source': 253317, 'strength': 0, 'target': 313113}, {'source': 221214, 'strength': 0, 'target': 251311}, {'source': 225112, 'strength': 0, 'target': 399515}, {'source': 234313, 'strength': 0, 'target': 253111}, {'source': 233212, 'strength': 0, 'target': 263112}, {'source': 5211, 'strength': 0, 'target': 821412}, {'source': 3611, 'strength': 0, 'target': 721212}, {'source': 1341, 'strength': 0, 'target': 2123}, {'source': 399515, 'strength': 0, 'target': 422112}, {'source': 321211, 'strength': 0, 'target': 721211}, {'source': 224411, 'strength': 0, 'target': 411412}, {'source': 2232, 'strength': 0, 'target': 251211}, {'source': 212411, 'strength': 0, 'target': 841311}, {'source': 223113, 'strength': 0, 'target': 342413}, {'source': 532113, 'strength': 0, 'target': 721212}, {'source': 6394, 'strength': 0, 'target': 323111}, {'source': 2253, 'strength': 0, 'target': 561211}, {'source': 234213, 'strength': 0, 'target': 394213}, {'source': 212415, 'strength': 0, 'target': 253911}, {'source': 1342, 'strength': 0, 'target': 311215}, {'source': 251912, 'strength': 0, 'target': 639112}, {'source': 7117, 'strength': 0, 'target': 149914}, {'source': 8911, 'strength': 0, 'target': 411716}, {'source': 311211, 'strength': 0, 'target': 821712}, {'source': 3922, 'strength': 0, 'target': 5995}, {'source': 3424, 'strength': 0, 'target': 224213}, {'source': 8991, 'strength': 0, 'target': 321211}, {'source': 334114, 'strength': 0, 'target': 411714}, {'source': 224412, 'strength': 0, 'target': 312312}, {'source': 2532, 'strength': 0, 'target': 5412}, {'source': 394211, 'strength': 0, 'target': 411716}, {'source': 232411, 'strength': 0, 'target': 721211}, {'source': 399311, 'strength': 0, 'target': 721913}, {'source': 212411, 'strength': 0, 'target': 223113}, {'source': 251911, 'strength': 0, 'target': 263111}, {'source': 2523, 'strength': 0, 'target': 312116}, {'source': 252213, 'strength': 0, 'target': 253111}, {'source': 2333, 'strength': 0, 'target': 8414}, {'source': 251311, 'strength': 0, 'target': 821912}, {'source': 272612, 'strength': 0, 'target': 521211}, {'source': 272311, 'strength': 0, 'target': 312311}, {'source': 211111, 'strength': 0, 'target': 224111}, {'source': 272313, 'strength': 0, 'target': 532113}, {'source': 3411, 'strength': 0, 'target': 224112}, {'source': 311214, 'strength': 0, 'target': 639112}, {'source': 312116, 'strength': 0, 'target': 411716}, {'source': 253112, 'strength': 0, 'target': 821912}, {'source': 234211, 'strength': 0, 'target': 441211}, {'source': 233911, 'strength': 0, 'target': 423312}, {'source': 551111, 'strength': 0, 'target': 821711}, {'source': 3514, 'strength': 0, 'target': 899923}, {'source': 233215, 'strength': 0, 'target': 821714}, {'source': 312116, 'strength': 0, 'target': 721915}, {'source': 6311, 'strength': 0, 'target': 253912}, {'source': 1323, 'strength': 0, 'target': 253321}, {'source': 3923, 'strength': 0, 'target': 311215}, {'source': 5615, 'strength': 0, 'target': 272312}, {'source': 253913, 'strength': 0, 'target': 821914}, {'source': 234312, 'strength': 0, 'target': 311413}, {'source': 8215, 'strength': 0, 'target': 253912}, {'source': 431912, 'strength': 0, 'target': 839311}, {'source': 411714, 'strength': 0, 'target': 411715}, {'source': 3941, 'strength': 0, 'target': 233915}, {'source': 2253, 'strength': 0, 'target': 234913}, {'source': 6217, 'strength': 0, 'target': 6395}, {'source': 272312, 'strength': 0, 'target': 399311}, {'source': 252711, 'strength': 0, 'target': 342413}, {'source': 222311, 'strength': 0, 'target': 521211}, {'source': 142114, 'strength': 0, 'target': 821713}, {'source': 8212, 'strength': 0, 'target': 721211}, {'source': 224113, 'strength': 0, 'target': 272311}, {'source': 6215, 'strength': 0, 'target': 223111}, {'source': 323112, 'strength': 0, 'target': 542114}, {'source': 342312, 'strength': 0, 'target': 721211}, {'source': 423312, 'strength': 0, 'target': 841313}, {'source': 232411, 'strength': 0, 'target': 591115}, {'source': 2711, 'strength': 0, 'target': 224512}, {'source': 3922, 'strength': 0, 'target': 3996}, {'source': 252213, 'strength': 0, 'target': 399212}, {'source': 261211, 'strength': 0, 'target': 313111}, {'source': 2525, 'strength': 0, 'target': 5997}, {'source': 323211, 'strength': 0, 'target': 521211}, {'source': 8911, 'strength': 0, 'target': 839311}, {'source': 731311, 'strength': 0, 'target': 821912}, {'source': 423313, 'strength': 0, 'target': 542111}, {'source': 134411, 'strength': 0, 'target': 223113}, {'source': 3221, 'strength': 0, 'target': 821713}, {'source': 3211, 'strength': 0, 'target': 411213}, {'source': 149211, 'strength': 0, 'target': 212314}, {'source': 442214, 'strength': 0, 'target': 254414}, {'source': 233911, 'strength': 0, 'target': 272312}, {'source': 225113, 'strength': 0, 'target': 311215}, {'source': 411714, 'strength': 0, 'target': 899923}, {'source': 233112, 'strength': 0, 'target': 831212}, {'source': 532113, 'strength': 0, 'target': 254416}, {'source': 232411, 'strength': 0, 'target': 399515}, {'source': 224214, 'strength': 0, 'target': 561912}, {'source': 342312, 'strength': 0, 'target': 521211}, {'source': 224411, 'strength': 0, 'target': 261211}, {'source': 3111, 'strength': 0, 'target': 133512}, {'source': 323112, 'strength': 0, 'target': 431111}, {'source': 252211, 'strength': 0, 'target': 254211}, {'source': 839311, 'strength': 0, 'target': 899923}, {'source': 149413, 'strength': 0, 'target': 394211}, {'source': 6111, 'strength': 0, 'target': 139913}, {'source': 3996, 'strength': 0, 'target': 821912}, {'source': 6393, 'strength': 0, 'target': 612115}, {'source': 3513, 'strength': 0, 'target': 233916}, {'source': 1493, 'strength': 0, 'target': 5615}, {'source': 7321, 'strength': 0, 'target': 252712}, {'source': 2346, 'strength': 0, 'target': 223111}, {'source': 234914, 'strength': 0, 'target': 721214}, {'source': 6111, 'strength': 0, 'target': 212314}, {'source': 639112, 'strength': 0, 'target': 821711}, {'source': 8512, 'strength': 0, 'target': 841312}, {'source': 4315, 'strength': 0, 'target': 233511}, {'source': 6311, 'strength': 0, 'target': 442216}, {'source': 599914, 'strength': 0, 'target': 612114}, {'source': 2413, 'strength': 0, 'target': 272112}, {'source': 712917, 'strength': 0, 'target': 721915}, {'source': 251911, 'strength': 0, 'target': 599914}, {'source': 599914, 'strength': 0, 'target': 821911}, {'source': 224214, 'strength': 0, 'target': 321211}, {'source': 521211, 'strength': 0, 'target': 841311}, {'source': 253111, 'strength': 0, 'target': 721214}, {'source': 253112, 'strength': 0, 'target': 399311}, {'source': 4221, 'strength': 0, 'target': 394213}, {'source': 253911, 'strength': 0, 'target': 411715}, {'source': 2344, 'strength': 0, 'target': 2525}, {'source': 3111, 'strength': 0, 'target': 323412}, {'source': 393212, 'strength': 0, 'target': 532113}, {'source': 1332, 'strength': 0, 'target': 232411}, {'source': 721212, 'strength': 0, 'target': 821912}, {'source': 234313, 'strength': 0, 'target': 821714}, {'source': 2253, 'strength': 0, 'target': 234313}, {'source': 6217, 'strength': 0, 'target': 233512}, {'source': 3624, 'strength': 0, 'target': 5412}, {'source': 411716, 'strength': 0, 'target': 521212}, {'source': 211214, 'strength': 0, 'target': 721213}, {'source': 311211, 'strength': 0, 'target': 311213}, {'source': 139913, 'strength': 0, 'target': 233916}, {'source': 821914, 'strength': 0, 'target': 831212}, {'source': 7312, 'strength': 0, 'target': 254415}, {'source': 342413, 'strength': 0, 'target': 411715}, {'source': 312114, 'strength': 0, 'target': 411412}, {'source': 322311, 'strength': 0, 'target': 254418}, {'source': 411411, 'strength': 0, 'target': 254416}, {'source': 272612, 'strength': 0, 'target': 599914}, {'source': 334114, 'strength': 0, 'target': 521212}, {'source': 234511, 'strength': 0, 'target': 731311}, {'source': 2711, 'strength': 0, 'target': 233213}, {'source': 253917, 'strength': 0, 'target': 272112}, {'source': 2422, 'strength': 0, 'target': 442214}, {'source': 8322, 'strength': 0, 'target': 392111}, {'source': 313111, 'strength': 0, 'target': 254423}, {'source': 3624, 'strength': 0, 'target': 263111}, {'source': 2511, 'strength': 0, 'target': 233215}, {'source': 711914, 'strength': 0, 'target': 821712}, {'source': 8313, 'strength': 0, 'target': 254415}, {'source': 4234, 'strength': 0, 'target': 233512}, {'source': 1421, 'strength': 0, 'target': 3111}, {'source': 234914, 'strength': 0, 'target': 841311}, {'source': 2346, 'strength': 0, 'target': 3242}, {'source': 6111, 'strength': 0, 'target': 721915}, {'source': 323314, 'strength': 0, 'target': 591116}, {'source': 841311, 'strength': 0, 'target': 899415}, {'source': 821914, 'strength': 0, 'target': 841312}, {'source': 399311, 'strength': 0, 'target': 841311}, {'source': 411716, 'strength': 0, 'target': 423313}, {'source': 139913, 'strength': 0, 'target': 222111}, {'source': 1413, 'strength': 0, 'target': 3933}, {'source': 252211, 'strength': 0, 'target': 423311}, {'source': 2543, 'strength': 0, 'target': 254423}, {'source': 3211, 'strength': 0, 'target': 224712}, {'source': 334113, 'strength': 0, 'target': 821914}, {'source': 3996, 'strength': 0, 'target': 252712}, {'source': 8216, 'strength': 0, 'target': 311213}, {'source': 6217, 'strength': 0, 'target': 311212}, {'source': 252711, 'strength': 0, 'target': 399311}, {'source': 4514, 'strength': 0, 'target': 8112}, {'source': 2334, 'strength': 0, 'target': 521212}, {'source': 3331, 'strength': 0, 'target': 7113}, {'source': 231213, 'strength': 0, 'target': 234517}, {'source': 4313, 'strength': 0, 'target': 232312}, {'source': 3513, 'strength': 0, 'target': 254415}, {'source': 234311, 'strength': 0, 'target': 839312}, {'source': 8112, 'strength': 0, 'target': 721211}, {'source': 521212, 'strength': 0, 'target': 542114}, {'source': 8994, 'strength': 0, 'target': 224712}, {'source': 5615, 'strength': 0, 'target': 591115}, {'source': 233215, 'strength': 0, 'target': 261312}, {'source': 551111, 'strength': 0, 'target': 561912}, {'source': 252213, 'strength': 0, 'target': 721214}, {'source': 212113, 'strength': 0, 'target': 423311}, {'source': 251211, 'strength': 0, 'target': 254414}, {'source': 312116, 'strength': 0, 'target': 423313}, {'source': 1493, 'strength': 0, 'target': 399515}, {'source': 521211, 'strength': 0, 'target': 899923}, {'source': 599518, 'strength': 0, 'target': 841911}, {'source': 561212, 'strength': 0, 'target': 841311}, {'source': 8216, 'strength': 0, 'target': 321214}, {'source': 2246, 'strength': 0, 'target': 334115}, {'source': 312116, 'strength': 0, 'target': 399516}, {'source': 224212, 'strength': 0, 'target': 639112}, {'source': 591117, 'strength': 0, 'target': 899915}, {'source': 222111, 'strength': 0, 'target': 233916}, {'source': 253917, 'strength': 0, 'target': 312212}, {'source': 1331, 'strength': 0, 'target': 6211}, {'source': 8216, 'strength': 0, 'target': 254418}, {'source': 323112, 'strength': 0, 'target': 411716}, {'source': 233212, 'strength': 0, 'target': 312211}, {'source': 254422, 'strength': 0, 'target': 542114}, {'source': 261211, 'strength': 0, 'target': 712213}, {'source': 721214, 'strength': 0, 'target': 254423}, {'source': 452322, 'strength': 0, 'target': 599518}, {'source': 223113, 'strength': 0, 'target': 224213}, {'source': 212113, 'strength': 0, 'target': 224111}, {'source': 4517, 'strength': 0, 'target': 4524}, {'source': 2611, 'strength': 0, 'target': 222311}, {'source': 2114, 'strength': 0, 'target': 312311}, {'source': 399511, 'strength': 0, 'target': 721216}, {'source': 4522, 'strength': 0, 'target': 6311}, {'source': 4517, 'strength': 0, 'target': 5615}, {'source': 423313, 'strength': 0, 'target': 521212}, {'source': 312113, 'strength': 0, 'target': 411412}, {'source': 251511, 'strength': 0, 'target': 521212}, {'source': 712911, 'strength': 0, 'target': 839311}, {'source': 612115, 'strength': 0, 'target': 721913}, {'source': 411714, 'strength': 0, 'target': 561912}, {'source': 253321, 'strength': 0, 'target': 721211}, {'source': 2246, 'strength': 0, 'target': 2541}, {'source': 2414, 'strength': 0, 'target': 334111}, {'source': 4234, 'strength': 0, 'target': 621312}, {'source': 6211, 'strength': 0, 'target': 6214}, {'source': 225113, 'strength': 0, 'target': 411213}, {'source': 313113, 'strength': 0, 'target': 411412}, {'source': 2725, 'strength': 0, 'target': 251312}, {'source': 253321, 'strength': 0, 'target': 394213}, {'source': 342314, 'strength': 0, 'target': 599512}, {'source': 8112, 'strength': 0, 'target': 233914}, {'source': 5211, 'strength': 0, 'target': 8415}, {'source': 8321, 'strength': 0, 'target': 233611}, {'source': 7116, 'strength': 0, 'target': 212111}, {'source': 4517, 'strength': 0, 'target': 5512}, {'source': 224711, 'strength': 0, 'target': 253915}, {'source': 312112, 'strength': 0, 'target': 321211}, {'source': 5211, 'strength': 0, 'target': 253911}, {'source': 1213, 'strength': 0, 'target': 2712}, {'source': 2344, 'strength': 0, 'target': 2535}, {'source': 5211, 'strength': 0, 'target': 599914}, {'source': 8414, 'strength': 0, 'target': 821714}, {'source': 149413, 'strength': 0, 'target': 441211}, {'source': 234211, 'strength': 0, 'target': 322311}, {'source': 2114, 'strength': 0, 'target': 224113}, {'source': 311412, 'strength': 0, 'target': 639211}, {'source': 323313, 'strength': 0, 'target': 839312}, {'source': 2246, 'strength': 0, 'target': 8991}, {'source': 253917, 'strength': 0, 'target': 831212}, {'source': 4522, 'strength': 0, 'target': 442216}, {'source': 234312, 'strength': 0, 'target': 252712}, {'source': 251214, 'strength': 0, 'target': 411714}, {'source': 212211, 'strength': 0, 'target': 411213}, {'source': 139912, 'strength': 0, 'target': 232411}, {'source': 312112, 'strength': 0, 'target': 841311}, {'source': 612115, 'strength': 0, 'target': 712911}, {'source': 721915, 'strength': 0, 'target': 839311}, {'source': 263113, 'strength': 0, 'target': 831211}, {'source': 232414, 'strength': 0, 'target': 234518}, {'source': 551111, 'strength': 0, 'target': 612114}, {'source': 342413, 'strength': 0, 'target': 899415}, {'source': 7113, 'strength': 0, 'target': 253112}, {'source': 224711, 'strength': 0, 'target': 421111}, {'source': 561212, 'strength': 0, 'target': 254413}, {'source': 452322, 'strength': 0, 'target': 612114}, {'source': 224112, 'strength': 0, 'target': 254417}, {'source': 2525, 'strength': 0, 'target': 254418}, {'source': 721213, 'strength': 0, 'target': 899211}, {'source': 2113, 'strength': 0, 'target': 2123}, {'source': 149211, 'strength': 0, 'target': 342311}, {'source': 4234, 'strength': 0, 'target': 394213}, {'source': 212113, 'strength': 0, 'target': 441211}, {'source': 4232, 'strength': 0, 'target': 711912}, {'source': 334115, 'strength': 0, 'target': 423311}, {'source': 251214, 'strength': 0, 'target': 394213}, {'source': 251511, 'strength': 0, 'target': 312112}, {'source': 7113, 'strength': 0, 'target': 149914}, {'source': 221113, 'strength': 0, 'target': 234517}, {'source': 591116, 'strength': 0, 'target': 254425}, {'source': 233916, 'strength': 0, 'target': 342311}, {'source': 8311, 'strength': 0, 'target': 233112}, {'source': 4232, 'strength': 0, 'target': 4521}, {'source': 5912, 'strength': 0, 'target': 411214}, {'source': 4421, 'strength': 0, 'target': 234313}, {'source': 312112, 'strength': 0, 'target': 712917}, {'source': 1331, 'strength': 0, 'target': 6214}, {'source': 431111, 'strength': 0, 'target': 542114}, {'source': 431111, 'strength': 0, 'target': 711914}, {'source': 411213, 'strength': 0, 'target': 431111}, {'source': 4513, 'strength': 0, 'target': 254211}, {'source': 224212, 'strength': 0, 'target': 272115}, {'source': 251212, 'strength': 0, 'target': 254418}, {'source': 321212, 'strength': 0, 'target': 323412}, {'source': 3331, 'strength': 0, 'target': 841311}, {'source': 3994, 'strength': 0, 'target': 591117}, {'source': 392112, 'strength': 0, 'target': 254425}, {'source': 341113, 'strength': 0, 'target': 841311}, {'source': 2114, 'strength': 0, 'target': 399911}, {'source': 4523, 'strength': 0, 'target': 5991}, {'source': 224711, 'strength': 0, 'target': 233511}, {'source': 711914, 'strength': 0, 'target': 839313}, {'source': 551111, 'strength': 0, 'target': 639112}, {'source': 612115, 'strength': 0, 'target': 821711}, {'source': 3333, 'strength': 0, 'target': 272412}, {'source': 5521, 'strength': 0, 'target': 254418}, {'source': 272411, 'strength': 0, 'target': 512211}, {'source': 272111, 'strength': 0, 'target': 591116}, {'source': 3411, 'strength': 0, 'target': 253915}, {'source': 441211, 'strength': 0, 'target': 899911}, {'source': 149411, 'strength': 0, 'target': 561912}, {'source': 313112, 'strength': 0, 'target': 841312}, {'source': 441312, 'strength': 0, 'target': 254416}, {'source': 323316, 'strength': 0, 'target': 441211}, {'source': 8994, 'strength': 0, 'target': 254412}, {'source': 2725, 'strength': 0, 'target': 841311}, {'source': 211213, 'strength': 0, 'target': 422112}, {'source': 542113, 'strength': 0, 'target': 639211}, {'source': 342311, 'strength': 0, 'target': 621311}, {'source': 221111, 'strength': 0, 'target': 731311}, {'source': 821711, 'strength': 0, 'target': 821912}, {'source': 4523, 'strength': 0, 'target': 712911}, {'source': 342413, 'strength': 0, 'target': 422112}, {'source': 839313, 'strength': 0, 'target': 254416}, {'source': 6214, 'strength': 0, 'target': 261311}, {'source': 541111, 'strength': 0, 'target': 254423}, {'source': 393213, 'strength': 0, 'target': 431111}, {'source': 411713, 'strength': 0, 'target': 639211}, {'source': 423314, 'strength': 0, 'target': 431111}, {'source': 8412, 'strength': 0, 'target': 272412}, {'source': 234515, 'strength': 0, 'target': 411713}, {'source': 253914, 'strength': 0, 'target': 322311}, {'source': 3333, 'strength': 0, 'target': 263113}, {'source': 452414, 'strength': 0, 'target': 841312}, {'source': 211211, 'strength': 0, 'target': 233915}, {'source': 251511, 'strength': 0, 'target': 899913}, {'source': 6112, 'strength': 0, 'target': 8311}, {'source': 3613, 'strength': 0, 'target': 841913}, {'source': 8115, 'strength': 0, 'target': 233512}, {'source': 221111, 'strength': 0, 'target': 394213}, {'source': 139912, 'strength': 0, 'target': 224213}, {'source': 4513, 'strength': 0, 'target': 234311}, {'source': 8994, 'strength': 0, 'target': 839313}, {'source': 1325, 'strength': 0, 'target': 8311}, {'source': 8115, 'strength': 0, 'target': 721212}, {'source': 422112, 'strength': 0, 'target': 599914}, {'source': 8994, 'strength': 0, 'target': 334114}, {'source': 639111, 'strength': 0, 'target': 821914}, {'source': 441211, 'strength': 0, 'target': 821712}, {'source': 312113, 'strength': 0, 'target': 841311}, {'source': 441212, 'strength': 0, 'target': 721913}, {'source': 8412, 'strength': 0, 'target': 234911}, {'source': 2232, 'strength': 0, 'target': 2523}, {'source': 731311, 'strength': 0, 'target': 841911}, {'source': 731311, 'strength': 0, 'target': 841311}, {'source': 552314, 'strength': 0, 'target': 721212}, {'source': 149411, 'strength': 0, 'target': 224111}, {'source': 821711, 'strength': 0, 'target': 841311}, {'source': 431912, 'strength': 0, 'target': 899923}, {'source': 821412, 'strength': 0, 'target': 841313}, {'source': 3994, 'strength': 0, 'target': 321213}, {'source': 233916, 'strength': 0, 'target': 441211}, {'source': 5993, 'strength': 0, 'target': 899921}, {'source': 821911, 'strength': 0, 'target': 254418}, {'source': 223112, 'strength': 0, 'target': 234212}, {'source': 899923, 'strength': 0, 'target': 254414}, {'source': 422112, 'strength': 0, 'target': 721913}, {'source': 331213, 'strength': 0, 'target': 721215}, {'source': 133513, 'strength': 0, 'target': 224412}, {'source': 149411, 'strength': 0, 'target': 431111}, {'source': 8321, 'strength': 0, 'target': 131113}, {'source': 8399, 'strength': 0, 'target': 561912}, {'source': 272411, 'strength': 0, 'target': 311211}, {'source': 221112, 'strength': 0, 'target': 721913}, {'source': 4511, 'strength': 0, 'target': 272613}, {'source': 251411, 'strength': 0, 'target': 399516}, {'source': 342313, 'strength': 0, 'target': 721913}, {'source': 621911, 'strength': 0, 'target': 254414}, {'source': 411411, 'strength': 0, 'target': 721211}, {'source': 3333, 'strength': 0, 'target': 841911}, {'source': 221112, 'strength': 0, 'target': 233512}, {'source': 393213, 'strength': 0, 'target': 711914}, {'source': 272411, 'strength': 0, 'target': 341113}, {'source': 8321, 'strength': 0, 'target': 323314}, {'source': 253914, 'strength': 0, 'target': 272313}, {'source': 311216, 'strength': 0, 'target': 621312}, {'source': 423314, 'strength': 0, 'target': 839312}, {'source': 251211, 'strength': 0, 'target': 441211}, {'source': 6113, 'strength': 0, 'target': 899913}, {'source': 821712, 'strength': 0, 'target': 841311}, {'source': 251212, 'strength': 0, 'target': 721915}, {'source': 551111, 'strength': 0, 'target': 821912}, {'source': 441211, 'strength': 0, 'target': 839311}, {'source': 3613, 'strength': 0, 'target': 599511}, {'source': 3221, 'strength': 0, 'target': 8991}, {'source': 2491, 'strength': 0, 'target': 251214}, {'source': 7331, 'strength': 0, 'target': 251211}, {'source': 831212, 'strength': 0, 'target': 841911}, {'source': 591115, 'strength': 0, 'target': 599914}, {'source': 2222, 'strength': 0, 'target': 712912}, {'source': 393213, 'strength': 0, 'target': 721915}, {'source': 131112, 'strength': 0, 'target': 221213}, {'source': 3621, 'strength': 0, 'target': 899923}, {'source': 3124, 'strength': 0, 'target': 8511}, {'source': 321214, 'strength': 0, 'target': 342312}, {'source': 3333, 'strength': 0, 'target': 441211}, {'source': 561411, 'strength': 0, 'target': 899914}, {'source': 899923, 'strength': 0, 'target': 254417}, {'source': 263212, 'strength': 0, 'target': 342311}, {'source': 254416, 'strength': 0, 'target': 254418}, {'source': 411211, 'strength': 0, 'target': 411412}, {'source': 254411, 'strength': 0, 'target': 599518}, {'source': 5521, 'strength': 0, 'target': 821712}, {'source': 411213, 'strength': 0, 'target': 254416}, {'source': 242112, 'strength': 0, 'target': 712911}, {'source': 2243, 'strength': 0, 'target': 399515}, {'source': 3941, 'strength': 0, 'target': 8994}, {'source': 423312, 'strength': 0, 'target': 521211}, {'source': 591115, 'strength': 0, 'target': 899412}, {'source': 2722, 'strength': 0, 'target': 399913}, {'source': 441212, 'strength': 0, 'target': 521211}, {'source': 2243, 'strength': 0, 'target': 334114}, {'source': 6113, 'strength': 0, 'target': 251511}, {'source': 2724, 'strength': 0, 'target': 399516}, {'source': 4511, 'strength': 0, 'target': 232312}, {'source': 272113, 'strength': 0, 'target': 721211}, {'source': 1321, 'strength': 0, 'target': 394211}, {'source': 2544, 'strength': 0, 'target': 254415}, {'source': 4521, 'strength': 0, 'target': 5991}, {'source': 233611, 'strength': 0, 'target': 599512}, {'source': 591117, 'strength': 0, 'target': 254423}, {'source': 4111, 'strength': 0, 'target': 131113}, {'source': 511112, 'strength': 0, 'target': 521211}, {'source': 3124, 'strength': 0, 'target': 253913}, {'source': 263113, 'strength': 0, 'target': 399913}, {'source': 2221, 'strength': 0, 'target': 232112}, {'source': 1343, 'strength': 0, 'target': 3321}, {'source': 251214, 'strength': 0, 'target': 639211}, {'source': 8399, 'strength': 0, 'target': 721211}, {'source': 8399, 'strength': 0, 'target': 841311}, {'source': 2221, 'strength': 0, 'target': 2535}, {'source': 512211, 'strength': 0, 'target': 821911}, {'source': 2221, 'strength': 0, 'target': 5997}, {'source': 251212, 'strength': 0, 'target': 423311}, {'source': 4513, 'strength': 0, 'target': 839313}, {'source': 4313, 'strength': 0, 'target': 323214}, {'source': 441311, 'strength': 0, 'target': 839311}, {'source': 542111, 'strength': 0, 'target': 721111}, {'source': 7331, 'strength': 0, 'target': 442216}, {'source': 399911, 'strength': 0, 'target': 821711}, {'source': 712213, 'strength': 0, 'target': 254413}, {'source': 821911, 'strength': 0, 'target': 841311}, {'source': 3941, 'strength': 0, 'target': 712911}, {'source': 342311, 'strength': 0, 'target': 399516}, {'source': 312311, 'strength': 0, 'target': 331111}, {'source': 1343, 'strength': 0, 'target': 3513}, {'source': 222111, 'strength': 0, 'target': 254415}, {'source': 2221, 'strength': 0, 'target': 441312}, {'source': 841913, 'strength': 0, 'target': 254425}, {'source': 312311, 'strength': 0, 'target': 254418}, {'source': 131112, 'strength': 0, 'target': 234514}, {'source': 3512, 'strength': 0, 'target': 8216}, {'source': 1351, 'strength': 0, 'target': 342413}, {'source': 399514, 'strength': 0, 'target': 821412}, {'source': 8993, 'strength': 0, 'target': 251412}, {'source': 8993, 'strength': 0, 'target': 441211}, {'source': 621911, 'strength': 0, 'target': 712911}, {'source': 7121, 'strength': 0, 'target': 899211}, {'source': 224113, 'strength': 0, 'target': 254424}, {'source': 712917, 'strength': 0, 'target': 254414}, {'source': 1321, 'strength': 0, 'target': 323316}, {'source': 242112, 'strength': 0, 'target': 612115}, {'source': 272613, 'strength': 0, 'target': 821914}, {'source': 4511, 'strength': 0, 'target': 5521}, {'source': 211214, 'strength': 0, 'target': 253912}, {'source': 272111, 'strength': 0, 'target': 599913}, {'source': 8513, 'strength': 0, 'target': 591115}, {'source': 2521, 'strength': 0, 'target': 899211}, {'source': 341113, 'strength': 0, 'target': 612114}, {'source': 253324, 'strength': 0, 'target': 612114}, {'source': 3124, 'strength': 0, 'target': 821711}, {'source': 262113, 'strength': 0, 'target': 311216}, {'source': 3124, 'strength': 0, 'target': 3421}, {'source': 3222, 'strength': 0, 'target': 721211}, {'source': 323211, 'strength': 0, 'target': 423311}, {'source': 721213, 'strength': 0, 'target': 721915}, {'source': 712213, 'strength': 0, 'target': 721211}, {'source': 263113, 'strength': 0, 'target': 272412}, {'source': 133513, 'strength': 0, 'target': 312111}, {'source': 272613, 'strength': 0, 'target': 323411}, {'source': 253914, 'strength': 0, 'target': 721913}, {'source': 841313, 'strength': 0, 'target': 254416}, {'source': 8993, 'strength': 0, 'target': 821913}, {'source': 561913, 'strength': 0, 'target': 612115}, {'source': 712922, 'strength': 0, 'target': 841311}, {'source': 4313, 'strength': 0, 'target': 4511}, {'source': 224212, 'strength': 0, 'target': 731311}, {'source': 2254, 'strength': 0, 'target': 3941}, {'source': 411214, 'strength': 0, 'target': 721216}, {'source': 254412, 'strength': 0, 'target': 254414}, {'source': 232412, 'strength': 0, 'target': 251211}, {'source': 7123, 'strength': 0, 'target': 521211}, {'source': 899415, 'strength': 0, 'target': 254416}, {'source': 312311, 'strength': 0, 'target': 639111}, {'source': 561913, 'strength': 0, 'target': 721211}, {'source': 272413, 'strength': 0, 'target': 313113}, {'source': 399911, 'strength': 0, 'target': 821914}, {'source': 232112, 'strength': 0, 'target': 272412}, {'source': 821713, 'strength': 0, 'target': 254417}, {'source': 233513, 'strength': 0, 'target': 251511}, {'source': 5912, 'strength': 0, 'target': 721216}, {'source': 334111, 'strength': 0, 'target': 839313}, {'source': 8213, 'strength': 0, 'target': 8512}, {'source': 3512, 'strength': 0, 'target': 234517}, {'source': 234314, 'strength': 0, 'target': 272114}, {'source': 242112, 'strength': 0, 'target': 261311}, {'source': 322313, 'strength': 0, 'target': 612114}, {'source': 331112, 'strength': 0, 'target': 841911}, {'source': 7123, 'strength': 0, 'target': 261311}, {'source': 233611, 'strength': 0, 'target': 591116}, {'source': 4421, 'strength': 0, 'target': 234913}, {'source': 234911, 'strength': 0, 'target': 342311}, {'source': 232112, 'strength': 0, 'target': 331111}, {'source': 8213, 'strength': 0, 'target': 841312}, {'source': 712917, 'strength': 0, 'target': 821712}, {'source': 232412, 'strength': 0, 'target': 442216}, {'source': 621312, 'strength': 0, 'target': 721211}, {'source': 639111, 'strength': 0, 'target': 721913}, {'source': 839918, 'strength': 0, 'target': 899923}, {'source': 2544, 'strength': 0, 'target': 212314}, {'source': 599511, 'strength': 0, 'target': 599913}, {'source': 331112, 'strength': 0, 'target': 721111}, {'source': 224912, 'strength': 0, 'target': 272114}, {'source': 212212, 'strength': 0, 'target': 394213}, {'source': 232312, 'strength': 0, 'target': 323214}, {'source': 261313, 'strength': 0, 'target': 511112}, {'source': 251412, 'strength': 0, 'target': 441211}, {'source': 712211, 'strength': 0, 'target': 254421}, {'source': 2347, 'strength': 0, 'target': 561912}, {'source': 541112, 'strength': 0, 'target': 839311}, {'source': 541112, 'strength': 0, 'target': 899923}, {'source': 899211, 'strength': 0, 'target': 254412}, {'source': 5616, 'strength': 0, 'target': 821712}, {'source': 839311, 'strength': 0, 'target': 254412}, {'source': 621911, 'strength': 0, 'target': 899923}, {'source': 4421, 'strength': 0, 'target': 313113}, {'source': 3241, 'strength': 0, 'target': 334115}, {'source': 224912, 'strength': 0, 'target': 263111}, {'source': 7123, 'strength': 0, 'target': 323211}, {'source': 4231, 'strength': 0, 'target': 8997}, {'source': 232412, 'strength': 0, 'target': 721213}, {'source': 263212, 'strength': 0, 'target': 721915}, {'source': 821914, 'strength': 0, 'target': 254418}, {'source': 712921, 'strength': 0, 'target': 899211}, {'source': 841911, 'strength': 0, 'target': 254418}, {'source': 399911, 'strength': 0, 'target': 561912}, {'source': 322313, 'strength': 0, 'target': 341113}, {'source': 254413, 'strength': 0, 'target': 254418}, {'source': 323316, 'strength': 0, 'target': 839311}, {'source': 839912, 'strength': 0, 'target': 841311}, {'source': 361113, 'strength': 0, 'target': 254421}, {'source': 839912, 'strength': 0, 'target': 254413}, {'source': 821714, 'strength': 0, 'target': 841911}, {'source': 331112, 'strength': 0, 'target': 542111}, {'source': 5522, 'strength': 0, 'target': 231112}, {'source': 721111, 'strength': 0, 'target': 839311}, {'source': 6112, 'strength': 0, 'target': 233112}, {'source': 392112, 'strength': 0, 'target': 711912}, {'source': 621911, 'strength': 0, 'target': 721213}, {'source': 263213, 'strength': 0, 'target': 394213}, {'source': 821713, 'strength': 0, 'target': 841911}, {'source': 323211, 'strength': 0, 'target': 721211}, {'source': 512211, 'strength': 0, 'target': 821712}, {'source': 639111, 'strength': 0, 'target': 254418}, {'source': 262113, 'strength': 0, 'target': 639211}, {'source': 899915, 'strength': 0, 'target': 254423}, {'source': 821111, 'strength': 0, 'target': 841311}, {'source': 272413, 'strength': 0, 'target': 421111}, {'source': 899918, 'strength': 0, 'target': 254412}, {'source': 411211, 'strength': 0, 'target': 841311}, {'source': 333212, 'strength': 0, 'target': 442217}, {'source': 361113, 'strength': 0, 'target': 821412}, {'source': 232111, 'strength': 0, 'target': 233915}, {'source': 312511, 'strength': 0, 'target': 422112}, {'source': 262112, 'strength': 0, 'target': 272412}, {'source': 421113, 'strength': 0, 'target': 839311}, {'source': 3422, 'strength': 0, 'target': 899412}, {'source': 211213, 'strength': 0, 'target': 591115}, {'source': 3132, 'strength': 0, 'target': 211214}, {'source': 6112, 'strength': 0, 'target': 254411}, {'source': 262112, 'strength': 0, 'target': 254417}, {'source': 612112, 'strength': 0, 'target': 721913}, {'source': 899415, 'strength': 0, 'target': 254413}, {'source': 441311, 'strength': 0, 'target': 721915}, {'source': 323316, 'strength': 0, 'target': 899923}, {'source': 249214, 'strength': 0, 'target': 899911}, {'source': 262113, 'strength': 0, 'target': 831212}, {'source': 841913, 'strength': 0, 'target': 254412}, {'source': 7111, 'strength': 0, 'target': 831211}, {'source': 212212, 'strength': 0, 'target': 521211}, {'source': 399312, 'strength': 0, 'target': 599914}, {'source': 2222, 'strength': 0, 'target': 3132}, {'source': 442217, 'strength': 0, 'target': 621311}, {'source': 4115, 'strength': 0, 'target': 311216}, {'source': 841312, 'strength': 0, 'target': 899415}, {'source': 2347, 'strength': 0, 'target': 253913}, {'source': 8996, 'strength': 0, 'target': 639211}, {'source': 899412, 'strength': 0, 'target': 254416}, {'source': 2325, 'strength': 0, 'target': 2412}, {'source': 411711, 'strength': 0, 'target': 721211}, {'source': 7116, 'strength': 0, 'target': 899921}, {'source': 361113, 'strength': 0, 'target': 712915}, {'source': 841313, 'strength': 0, 'target': 254423}, {'source': 599512, 'strength': 0, 'target': 899923}, {'source': 323214, 'strength': 0, 'target': 639111}, {'source': 899412, 'strength': 0, 'target': 899913}, {'source': 7111, 'strength': 0, 'target': 225112}, {'source': 542112, 'strength': 0, 'target': 621911}, {'source': 3422, 'strength': 0, 'target': 254424}, {'source': 312511, 'strength': 0, 'target': 323314}, {'source': 712211, 'strength': 0, 'target': 899415}, {'source': 399512, 'strength': 0, 'target': 591112}, {'source': 254417, 'strength': 0, 'target': 254418}, {'source': 551112, 'strength': 0, 'target': 621911}, {'source': 2526, 'strength': 0, 'target': 262111}, {'source': 1111, 'strength': 0, 'target': 231214}, {'source': 6113, 'strength': 0, 'target': 272612}, {'source': 542113, 'strength': 0, 'target': 841313}, {'source': 839918, 'strength': 0, 'target': 841911}, {'source': 8513, 'strength': 0, 'target': 262112}, {'source': 233513, 'strength': 0, 'target': 521212}, {'source': 841313, 'strength': 0, 'target': 254418}, {'source': 342314, 'strength': 0, 'target': 721213}, {'source': 599512, 'strength': 0, 'target': 839311}, {'source': 841913, 'strength': 0, 'target': 899923}, {'source': 899918, 'strength': 0, 'target': 254414}, {'source': 1111, 'strength': 0, 'target': 7121}, {'source': 261212, 'strength': 0, 'target': 261313}, {'source': 841312, 'strength': 0, 'target': 254423}, {'source': 599511, 'strength': 0, 'target': 254425}, {'source': 233612, 'strength': 0, 'target': 311411}, {'source': 7111, 'strength': 0, 'target': 212113}, {'source': 712912, 'strength': 0, 'target': 899915}, {'source': 839918, 'strength': 0, 'target': 899911}, {'source': 542113, 'strength': 0, 'target': 621312}, {'source': 841312, 'strength': 0, 'target': 841911}, {'source': 712211, 'strength': 0, 'target': 821412}, {'source': 712915, 'strength': 0, 'target': 841313}, {'source': 233612, 'strength': 0, 'target': 712211}, {'source': 821411, 'strength': 0, 'target': 821713}, {'source': 254421, 'strength': 0, 'target': 254423}, {'source': 5522, 'strength': 0, 'target': 233915}, {'source': 2722, 'strength': 0, 'target': 712912}, {'source': 721111, 'strength': 0, 'target': 839918}, {'source': 5613, 'strength': 0, 'target': 441211}, {'source': 261314, 'strength': 0, 'target': 721213}, {'source': 599512, 'strength': 0, 'target': 621911}, {'source': 254416, 'strength': 0, 'target': 254417}, {'source': 251513, 'strength': 0, 'target': 331213}, {'source': 532111, 'strength': 0, 'target': 821714}, {'source': 231112, 'strength': 0, 'target': 272412}, {'source': 552312, 'strength': 0, 'target': 721213}, {'source': 899913, 'strength': 0, 'target': 254417}, {'source': 399512, 'strength': 0, 'target': 561912}, {'source': 5613, 'strength': 0, 'target': 251212}, {'source': 899921, 'strength': 0, 'target': 254425}, {'source': 2722, 'strength': 0, 'target': 831211}, {'source': 399213, 'strength': 0, 'target': 423311}, {'source': 599913, 'strength': 0, 'target': 721211}, {'source': 542113, 'strength': 0, 'target': 721212}, {'source': 591113, 'strength': 0, 'target': 711912}, {'source': 221213, 'strength': 0, 'target': 251511}, {'source': 231111, 'strength': 0, 'target': 251412}, {'source': 333212, 'strength': 0, 'target': 541112}, {'source': 4314, 'strength': 0, 'target': 591116}, {'source': 899913, 'strength': 0, 'target': 254413}, {'source': 599913, 'strength': 0, 'target': 899921}, {'source': 253318, 'strength': 0, 'target': 312111}, {'source': 821411, 'strength': 0, 'target': 899923}, {'source': 431112, 'strength': 0, 'target': 542111}, {'source': 231111, 'strength': 0, 'target': 441211}, {'source': 262111, 'strength': 0, 'target': 254412}, {'source': 231111, 'strength': 0, 'target': 272412}, {'source': 599916, 'strength': 0, 'target': 712917}]};\n",
       "\n",
       "          var visualization = d3plus.viz()\n",
       "          .container('#d3plus_div_63259')\n",
       "          .type(\"network\")\n",
       "          .nodes(graph_data.nodes)\n",
       "          .edges(graph_data.edges)\n",
       "          .labels(false)\n",
       "          .size('value')\n",
       "          .id('id')\n",
       "          .color('value')\n",
       "          .text(['node_name'])\n",
       "          .tooltip(['value'])\n",
       "          .data(viz_data)\n",
       "          .draw();\n",
       "        })();\n",
       "        });\n",
       "});\n"
      ],
      "text/plain": [
       "<IPython.core.display.Javascript object>"
      ]
     },
     "metadata": {},
     "output_type": "display_data"
    },
    {
     "data": {
      "text/plain": [
       "135809"
      ]
     },
     "execution_count": 214,
     "metadata": {},
     "output_type": "execute_result"
    }
   ],
   "source": [
    "ns_viz.draw(df_viz_nodes)\n",
    "open(\"./elements_visualization_2.html\" , \"w+\").write(ns_viz.dump_html(df_viz_nodes))"
   ]
  },
  {
   "cell_type": "code",
   "execution_count": null,
   "metadata": {},
   "outputs": [],
   "source": []
  },
  {
   "cell_type": "code",
   "execution_count": null,
   "metadata": {},
   "outputs": [],
   "source": []
  }
 ],
 "metadata": {
  "kernelspec": {
   "display_name": "Python 3",
   "language": "python",
   "name": "python3"
  },
  "language_info": {
   "codemirror_mode": {
    "name": "ipython",
    "version": 3
   },
   "file_extension": ".py",
   "mimetype": "text/x-python",
   "name": "python",
   "nbconvert_exporter": "python",
   "pygments_lexer": "ipython3",
   "version": "3.7.0"
  }
 },
 "nbformat": 4,
 "nbformat_minor": 5
}
